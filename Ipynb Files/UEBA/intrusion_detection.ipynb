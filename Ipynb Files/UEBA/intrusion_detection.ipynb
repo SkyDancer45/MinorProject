{
 "cells": [
  {
   "cell_type": "markdown",
   "metadata": {},
   "source": [
    "# Step-1: Loading the Dataset"
   ]
  },
  {
   "cell_type": "code",
   "execution_count": 1,
   "metadata": {},
   "outputs": [],
   "source": [
    "import pandas as pd\n",
    "import numpy as np\n",
    "import matplotlib.pyplot as plt\n",
    "import os"
   ]
  },
  {
   "cell_type": "code",
   "execution_count": 2,
   "metadata": {},
   "outputs": [
    {
     "name": "stdout",
     "output_type": "stream",
     "text": [
      "(2830743, 79)\n",
      "    Destination Port   Flow Duration   Total Fwd Packets  \\\n",
      "0              54865               3                   2   \n",
      "1              55054             109                   1   \n",
      "2              55055              52                   1   \n",
      "3              46236              34                   1   \n",
      "4              54863               3                   2   \n",
      "\n",
      "    Total Backward Packets  Total Length of Fwd Packets  \\\n",
      "0                        0                           12   \n",
      "1                        1                            6   \n",
      "2                        1                            6   \n",
      "3                        1                            6   \n",
      "4                        0                           12   \n",
      "\n",
      "    Total Length of Bwd Packets   Fwd Packet Length Max  \\\n",
      "0                             0                       6   \n",
      "1                             6                       6   \n",
      "2                             6                       6   \n",
      "3                             6                       6   \n",
      "4                             0                       6   \n",
      "\n",
      "    Fwd Packet Length Min   Fwd Packet Length Mean   Fwd Packet Length Std  \\\n",
      "0                       6                      6.0                     0.0   \n",
      "1                       6                      6.0                     0.0   \n",
      "2                       6                      6.0                     0.0   \n",
      "3                       6                      6.0                     0.0   \n",
      "4                       6                      6.0                     0.0   \n",
      "\n",
      "   ...   min_seg_size_forward  Active Mean   Active Std   Active Max  \\\n",
      "0  ...                     20          0.0          0.0            0   \n",
      "1  ...                     20          0.0          0.0            0   \n",
      "2  ...                     20          0.0          0.0            0   \n",
      "3  ...                     20          0.0          0.0            0   \n",
      "4  ...                     20          0.0          0.0            0   \n",
      "\n",
      "    Active Min  Idle Mean   Idle Std   Idle Max   Idle Min   Label  \n",
      "0            0        0.0        0.0          0          0  BENIGN  \n",
      "1            0        0.0        0.0          0          0  BENIGN  \n",
      "2            0        0.0        0.0          0          0  BENIGN  \n",
      "3            0        0.0        0.0          0          0  BENIGN  \n",
      "4            0        0.0        0.0          0          0  BENIGN  \n",
      "\n",
      "[5 rows x 79 columns]\n"
     ]
    }
   ],
   "source": [
    "import glob \n",
    "filePaths = glob.glob(\"/home/prakhar/Desktop/College/3rdYear/SEM-VI/MinorProject/Datasets/archive-2/*.csv\")\n",
    "df_list = [pd.read_csv(file,low_memory=False) for file in filePaths]\n",
    "df=pd.concat(df_list,ignore_index=True)\n",
    "print(df.shape)\n",
    "print(df.head())"
   ]
  },
  {
   "cell_type": "code",
   "execution_count": 3,
   "metadata": {},
   "outputs": [
    {
     "data": {
      "text/plain": [
       "array(['BENIGN', 'DDoS', 'PortScan', 'Bot', 'Infiltration',\n",
       "       'Web Attack � Brute Force', 'Web Attack � XSS',\n",
       "       'Web Attack � Sql Injection', 'FTP-Patator', 'SSH-Patator',\n",
       "       'DoS slowloris', 'DoS Slowhttptest', 'DoS Hulk', 'DoS GoldenEye',\n",
       "       'Heartbleed'], dtype=object)"
      ]
     },
     "execution_count": 3,
     "metadata": {},
     "output_type": "execute_result"
    }
   ],
   "source": [
    "df.columns = df.columns.str.strip()\n",
    "df['Label'].unique()"
   ]
  },
  {
   "cell_type": "markdown",
   "metadata": {},
   "source": [
    "# Step-2: Pre-Processing"
   ]
  },
  {
   "cell_type": "code",
   "execution_count": 4,
   "metadata": {},
   "outputs": [
    {
     "data": {
      "text/plain": [
       "Destination Port                 int64\n",
       "Flow Duration                    int64\n",
       "Total Fwd Packets                int64\n",
       "Total Backward Packets           int64\n",
       "Total Length of Fwd Packets      int64\n",
       "                                ...   \n",
       "Idle Mean                      float64\n",
       "Idle Std                       float64\n",
       "Idle Max                         int64\n",
       "Idle Min                         int64\n",
       "Label                           object\n",
       "Length: 79, dtype: object"
      ]
     },
     "execution_count": 4,
     "metadata": {},
     "output_type": "execute_result"
    }
   ],
   "source": [
    "df.dtypes #Viewing Datatype"
   ]
  },
  {
   "cell_type": "code",
   "execution_count": 5,
   "metadata": {},
   "outputs": [
    {
     "name": "stdout",
     "output_type": "stream",
     "text": [
      "Columns with infinite values:\n",
      " Flow Bytes/s      1509\n",
      "Flow Packets/s    2867\n",
      "dtype: int64\n",
      "\n",
      "Columns with NaN values:\n",
      " Flow Bytes/s    1358\n",
      "dtype: int64\n",
      "\n",
      "Columns with NaN or infinite values:\n",
      " Flow Bytes/s      2867\n",
      "Flow Packets/s    2867\n",
      "dtype: int64\n",
      "\n",
      "Number of duplicate rows: 308381\n"
     ]
    }
   ],
   "source": [
    "is_inf = df.isin([np.inf, -np.inf])\n",
    "\n",
    "inf_counts = is_inf.sum()\n",
    "\n",
    "# Filter to show only columns with infinite values\n",
    "columns_with_inf = inf_counts[inf_counts > 0]\n",
    "print(\"Columns with infinite values:\\n\", columns_with_inf)\n",
    "\n",
    "nan_counts = df.isnull().sum()\n",
    "\n",
    "# Filter to show only columns with NaN values\n",
    "columns_with_nan = nan_counts[nan_counts > 0]\n",
    "print(\"\\nColumns with NaN values:\\n\", columns_with_nan)\n",
    "\n",
    "combined_counts = nan_counts + inf_counts\n",
    "\n",
    "# Filter to show only columns with any NaN or inf values\n",
    "columns_with_nan_or_inf = combined_counts[combined_counts > 0]\n",
    "print(\"\\nColumns with NaN or infinite values:\\n\", columns_with_nan_or_inf)\n",
    "\n",
    "duplicate_rows_count = df.duplicated().sum()\n",
    "print(\"\\nNumber of duplicate rows:\", duplicate_rows_count)"
   ]
  },
  {
   "cell_type": "code",
   "execution_count": 6,
   "metadata": {},
   "outputs": [],
   "source": [
    "df.replace([np.inf, -np.inf], np.nan, inplace=True) #Replacing inf values\n",
    "df.dropna(inplace=True) #Replacing NaN values\n",
    "df.drop_duplicates(inplace=True) #Removing duplicates to improve accuracy"
   ]
  },
  {
   "cell_type": "code",
   "execution_count": 7,
   "metadata": {},
   "outputs": [],
   "source": [
    "x = df.drop(columns='Label')\n",
    "y = df['Label']"
   ]
  },
  {
   "cell_type": "code",
   "execution_count": 8,
   "metadata": {},
   "outputs": [],
   "source": [
    "category_mapping = {\n",
    "    'BENIGN': 'BENIGN',\n",
    "    'Bot': 'BOTNET',\n",
    "    'DDoS': 'DOS',\n",
    "    'DoS GoldenEye': 'DOS',\n",
    "    'DoS Hulk': 'DOS',\n",
    "    'DoS Slowhttptest': 'DOS',\n",
    "    'DoS slowloris': 'DOS',\n",
    "    'FTP-Patator': 'BRUTE_FORCE',\n",
    "    'SSH-Patator': 'BRUTE_FORCE',\n",
    "    'Heartbleed': 'WEB_ATTACK',\n",
    "    'Infiltration': 'WEB_ATTACK',\n",
    "    'PortScan': 'RECONNAISSANCE',\n",
    "    'Web Attack � Brute Force': 'WEB_ATTACK',\n",
    "    'Web Attack � Sql Injection': 'WEB_ATTACK',\n",
    "    'Web Attack � XSS': 'WEB_ATTACK'\n",
    "}\n",
    "y = y.map(category_mapping)"
   ]
  },
  {
   "cell_type": "markdown",
   "metadata": {},
   "source": [
    "# Step-3: Applying Classifier Algorithms"
   ]
  },
  {
   "cell_type": "code",
   "execution_count": 9,
   "metadata": {},
   "outputs": [],
   "source": [
    "from sklearn.model_selection import train_test_split\n",
    "x_train,x_test,y_train,y_test = train_test_split(x,y,test_size=0.25,random_state=42,shuffle=True)"
   ]
  },
  {
   "cell_type": "code",
   "execution_count": 10,
   "metadata": {},
   "outputs": [],
   "source": [
    "from sklearn.ensemble import RandomForestClassifier #Using Random Forest classifier\n",
    "rf = RandomForestClassifier(random_state=42)\n",
    "rf.fit(x_train,y_train)\n",
    "y_pred = rf.predict(x_test) #Performing "
   ]
  },
  {
   "cell_type": "code",
   "execution_count": 12,
   "metadata": {},
   "outputs": [
    {
     "name": "stdout",
     "output_type": "stream",
     "text": [
      "                precision    recall  f1-score   support\n",
      "\n",
      "        BENIGN       1.00      1.00      1.00    523384\n",
      "        BOTNET       0.86      0.74      0.80       481\n",
      "   BRUTE_FORCE       1.00      1.00      1.00      2215\n",
      "           DOS       1.00      1.00      1.00     80840\n",
      "RECONNAISSANCE       0.99      0.99      0.99     22725\n",
      "    WEB_ATTACK       1.00      0.96      0.98       555\n",
      "\n",
      "      accuracy                           1.00    630200\n",
      "     macro avg       0.97      0.95      0.96    630200\n",
      "  weighted avg       1.00      1.00      1.00    630200\n",
      "\n"
     ]
    }
   ],
   "source": [
    "from sklearn.metrics import classification_report\n",
    "print(classification_report(y_test,y_pred))"
   ]
  }
 ],
 "metadata": {
  "kernelspec": {
   "display_name": "minorproject",
   "language": "python",
   "name": "python3"
  },
  "language_info": {
   "codemirror_mode": {
    "name": "ipython",
    "version": 3
   },
   "file_extension": ".py",
   "mimetype": "text/x-python",
   "name": "python",
   "nbconvert_exporter": "python",
   "pygments_lexer": "ipython3",
   "version": "3.11.10"
  }
 },
 "nbformat": 4,
 "nbformat_minor": 2
}
