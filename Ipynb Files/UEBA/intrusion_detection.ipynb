{
 "cells": [
  {
   "cell_type": "markdown",
   "metadata": {},
   "source": [
    "# Step-1: Loading the Dataset"
   ]
  },
  {
   "cell_type": "code",
   "execution_count": 1,
   "metadata": {},
   "outputs": [
    {
     "name": "stderr",
     "output_type": "stream",
     "text": [
      "2025-04-16 20:42:19.398818: E external/local_xla/xla/stream_executor/cuda/cuda_fft.cc:467] Unable to register cuFFT factory: Attempting to register factory for plugin cuFFT when one has already been registered\n",
      "WARNING: All log messages before absl::InitializeLog() is called are written to STDERR\n",
      "E0000 00:00:1744816339.451956   33073 cuda_dnn.cc:8579] Unable to register cuDNN factory: Attempting to register factory for plugin cuDNN when one has already been registered\n",
      "E0000 00:00:1744816339.463941   33073 cuda_blas.cc:1407] Unable to register cuBLAS factory: Attempting to register factory for plugin cuBLAS when one has already been registered\n",
      "W0000 00:00:1744816339.584366   33073 computation_placer.cc:177] computation placer already registered. Please check linkage and avoid linking the same target more than once.\n",
      "W0000 00:00:1744816339.584398   33073 computation_placer.cc:177] computation placer already registered. Please check linkage and avoid linking the same target more than once.\n",
      "W0000 00:00:1744816339.584400   33073 computation_placer.cc:177] computation placer already registered. Please check linkage and avoid linking the same target more than once.\n",
      "W0000 00:00:1744816339.584403   33073 computation_placer.cc:177] computation placer already registered. Please check linkage and avoid linking the same target more than once.\n",
      "2025-04-16 20:42:19.590665: I tensorflow/core/platform/cpu_feature_guard.cc:210] This TensorFlow binary is optimized to use available CPU instructions in performance-critical operations.\n",
      "To enable the following instructions: AVX2 FMA, in other operations, rebuild TensorFlow with the appropriate compiler flags.\n"
     ]
    }
   ],
   "source": [
    "import random\n",
    "import tensorflow as tf\n",
    "import pandas as pd\n",
    "import numpy as np\n",
    "import matplotlib.pyplot as plt\n",
    "import os\n",
    "os.environ[\"CUDA_VISIBLE_DEVICES\"] = \"-1\""
   ]
  },
  {
   "cell_type": "code",
   "execution_count": 2,
   "metadata": {},
   "outputs": [],
   "source": [
    "seed = 42\n",
    "os.environ['PYTHONHASHSEED'] = str(seed)\n",
    "random.seed(seed)\n",
    "np.random.seed(seed)\n",
    "tf.random.set_seed(seed)"
   ]
  },
  {
   "cell_type": "code",
   "execution_count": 3,
   "metadata": {},
   "outputs": [
    {
     "name": "stdout",
     "output_type": "stream",
     "text": [
      "(2830743, 79)\n",
      "    Destination Port   Flow Duration   Total Fwd Packets  \\\n",
      "0              54865               3                   2   \n",
      "1              55054             109                   1   \n",
      "2              55055              52                   1   \n",
      "3              46236              34                   1   \n",
      "4              54863               3                   2   \n",
      "\n",
      "    Total Backward Packets  Total Length of Fwd Packets  \\\n",
      "0                        0                           12   \n",
      "1                        1                            6   \n",
      "2                        1                            6   \n",
      "3                        1                            6   \n",
      "4                        0                           12   \n",
      "\n",
      "    Total Length of Bwd Packets   Fwd Packet Length Max  \\\n",
      "0                             0                       6   \n",
      "1                             6                       6   \n",
      "2                             6                       6   \n",
      "3                             6                       6   \n",
      "4                             0                       6   \n",
      "\n",
      "    Fwd Packet Length Min   Fwd Packet Length Mean   Fwd Packet Length Std  \\\n",
      "0                       6                      6.0                     0.0   \n",
      "1                       6                      6.0                     0.0   \n",
      "2                       6                      6.0                     0.0   \n",
      "3                       6                      6.0                     0.0   \n",
      "4                       6                      6.0                     0.0   \n",
      "\n",
      "   ...   min_seg_size_forward  Active Mean   Active Std   Active Max  \\\n",
      "0  ...                     20          0.0          0.0            0   \n",
      "1  ...                     20          0.0          0.0            0   \n",
      "2  ...                     20          0.0          0.0            0   \n",
      "3  ...                     20          0.0          0.0            0   \n",
      "4  ...                     20          0.0          0.0            0   \n",
      "\n",
      "    Active Min  Idle Mean   Idle Std   Idle Max   Idle Min   Label  \n",
      "0            0        0.0        0.0          0          0  BENIGN  \n",
      "1            0        0.0        0.0          0          0  BENIGN  \n",
      "2            0        0.0        0.0          0          0  BENIGN  \n",
      "3            0        0.0        0.0          0          0  BENIGN  \n",
      "4            0        0.0        0.0          0          0  BENIGN  \n",
      "\n",
      "[5 rows x 79 columns]\n"
     ]
    }
   ],
   "source": [
    "import glob \n",
    "filePaths = glob.glob(\"/home/prakhar/Desktop/College/3rdYear/SEM-VI/MinorProject/Datasets/archive-2/*.csv\")\n",
    "df_list = [pd.read_csv(file,low_memory=False) for file in filePaths]\n",
    "df=pd.concat(df_list,ignore_index=True)\n",
    "print(df.shape)\n",
    "print(df.head())"
   ]
  },
  {
   "cell_type": "code",
   "execution_count": 3,
   "metadata": {},
   "outputs": [],
   "source": [
    "df = pd.read_csv(\"final_ds.csv\") #Only Run this if you have already done all the pre processing"
   ]
  },
  {
   "cell_type": "code",
   "execution_count": 4,
   "metadata": {},
   "outputs": [
    {
     "data": {
      "text/plain": [
       "array(['BENIGN', 'DDoS', 'PortScan', 'Bot', 'Infiltration',\n",
       "       'Web Attack � Brute Force', 'Web Attack � XSS',\n",
       "       'Web Attack � Sql Injection', 'FTP-Patator', 'SSH-Patator',\n",
       "       'DoS slowloris', 'DoS Slowhttptest', 'DoS Hulk', 'DoS GoldenEye',\n",
       "       'Heartbleed'], dtype=object)"
      ]
     },
     "execution_count": 4,
     "metadata": {},
     "output_type": "execute_result"
    }
   ],
   "source": [
    "df.columns = df.columns.str.strip()\n",
    "df['Label'].unique()"
   ]
  },
  {
   "cell_type": "markdown",
   "metadata": {},
   "source": [
    "# Step-2: Pre-Processing"
   ]
  },
  {
   "cell_type": "code",
   "execution_count": 5,
   "metadata": {},
   "outputs": [
    {
     "data": {
      "text/plain": [
       "Destination Port                 int64\n",
       "Flow Duration                    int64\n",
       "Total Fwd Packets                int64\n",
       "Total Backward Packets           int64\n",
       "Total Length of Fwd Packets      int64\n",
       "                                ...   \n",
       "Idle Mean                      float64\n",
       "Idle Std                       float64\n",
       "Idle Max                         int64\n",
       "Idle Min                         int64\n",
       "Label                           object\n",
       "Length: 79, dtype: object"
      ]
     },
     "execution_count": 5,
     "metadata": {},
     "output_type": "execute_result"
    }
   ],
   "source": [
    "df.dtypes #Viewing Datatype"
   ]
  },
  {
   "cell_type": "code",
   "execution_count": 6,
   "metadata": {},
   "outputs": [
    {
     "name": "stdout",
     "output_type": "stream",
     "text": [
      "Columns with infinite values:\n",
      " Flow Bytes/s      1509\n",
      "Flow Packets/s    2867\n",
      "dtype: int64\n",
      "\n",
      "Columns with NaN values:\n",
      " Flow Bytes/s    1358\n",
      "dtype: int64\n",
      "\n",
      "Columns with NaN or infinite values:\n",
      " Flow Bytes/s      2867\n",
      "Flow Packets/s    2867\n",
      "dtype: int64\n",
      "\n",
      "Number of duplicate rows: 308381\n"
     ]
    }
   ],
   "source": [
    "is_inf = df.isin([np.inf, -np.inf])\n",
    "\n",
    "inf_counts = is_inf.sum()\n",
    "\n",
    "# Filter to show only columns with infinite values\n",
    "columns_with_inf = inf_counts[inf_counts > 0]\n",
    "print(\"Columns with infinite values:\\n\", columns_with_inf)\n",
    "\n",
    "nan_counts = df.isnull().sum()\n",
    "\n",
    "# Filter to show only columns with NaN values\n",
    "columns_with_nan = nan_counts[nan_counts > 0]\n",
    "print(\"\\nColumns with NaN values:\\n\", columns_with_nan)\n",
    "\n",
    "combined_counts = nan_counts + inf_counts\n",
    "\n",
    "# Filter to show only columns with any NaN or inf values\n",
    "columns_with_nan_or_inf = combined_counts[combined_counts > 0]\n",
    "print(\"\\nColumns with NaN or infinite values:\\n\", columns_with_nan_or_inf)\n",
    "\n",
    "duplicate_rows_count = df.duplicated().sum()\n",
    "print(\"\\nNumber of duplicate rows:\", duplicate_rows_count)"
   ]
  },
  {
   "cell_type": "code",
   "execution_count": 7,
   "metadata": {},
   "outputs": [],
   "source": [
    "df.replace([np.inf, -np.inf], np.nan, inplace=True) #Replacing inf values\n",
    "df.dropna(inplace=True) #Replacing NaN values\n",
    "df.drop_duplicates(inplace=True) #Removing duplicates to improve accuracy\n",
    "category_mapping = {\n",
    "    'BENIGN': 'BENIGN',\n",
    "    'Bot': 'BOTNET',\n",
    "    'DDoS': 'DOS',\n",
    "    'DoS GoldenEye': 'DOS',\n",
    "    'DoS Hulk': 'DOS',\n",
    "    'DoS Slowhttptest': 'DOS',\n",
    "    'DoS slowloris': 'DOS',\n",
    "    'FTP-Patator': 'BRUTE_FORCE',\n",
    "    'SSH-Patator': 'BRUTE_FORCE',\n",
    "    'Heartbleed': 'WEB_ATTACK',\n",
    "    'Infiltration': 'WEB_ATTACK',\n",
    "    'PortScan': 'RECONNAISSANCE',\n",
    "    'Web Attack � Brute Force': 'WEB_ATTACK',\n",
    "    'Web Attack � Sql Injection': 'WEB_ATTACK',\n",
    "    'Web Attack � XSS': 'WEB_ATTACK'\n",
    "}\n",
    "#Applying Mapping to simplify labels\n",
    "df['Label'] =df['Label'].map(category_mapping)"
   ]
  },
  {
   "cell_type": "code",
   "execution_count": 8,
   "metadata": {},
   "outputs": [
    {
     "name": "stdout",
     "output_type": "stream",
     "text": [
      "Label\n",
      "BENIGN            2095057\n",
      "DOS                321759\n",
      "RECONNAISSANCE      90694\n",
      "BRUTE_FORCE          9150\n",
      "WEB_ATTACK           2190\n",
      "BOTNET               1948\n",
      "Name: count, dtype: int64\n"
     ]
    }
   ],
   "source": [
    "print(df['Label'].value_counts())  # Before encoding"
   ]
  },
  {
   "cell_type": "code",
   "execution_count": 9,
   "metadata": {},
   "outputs": [],
   "source": [
    "from sklearn.preprocessing import LabelEncoder #After Encoding\n",
    "le = LabelEncoder()\n",
    "df['Label'] = le.fit_transform(df['Label'])"
   ]
  },
  {
   "cell_type": "code",
   "execution_count": 10,
   "metadata": {},
   "outputs": [
    {
     "name": "stdout",
     "output_type": "stream",
     "text": [
      "Label\n",
      "0    2095057\n",
      "3     321759\n",
      "4      90694\n",
      "2       9150\n",
      "5       2190\n",
      "1       1948\n",
      "Name: count, dtype: int64\n"
     ]
    }
   ],
   "source": [
    "print(df['Label'].value_counts())  # Before encoding"
   ]
  },
  {
   "cell_type": "code",
   "execution_count": 11,
   "metadata": {},
   "outputs": [
    {
     "name": "stdout",
     "output_type": "stream",
     "text": [
      "Label\n",
      "0    50000\n",
      "3    50000\n",
      "4    50000\n",
      "2     9150\n",
      "5     2190\n",
      "1     1948\n",
      "Name: count, dtype: int64\n"
     ]
    }
   ],
   "source": [
    "import pandas as pd\n",
    "\n",
    "# Get class counts\n",
    "class_counts = df['Label'].value_counts()\n",
    "\n",
    "# Select classes with more than 5000 samples\n",
    "selected_classes = class_counts[class_counts > 50000].index.tolist()\n",
    "\n",
    "# Manually include \"WEB_ATTACK\" and \"BOTNET\" if they exist in the dataset\n",
    "for attack in [1, 5, 2]:\n",
    "    if attack in df['Label'].values and attack not in selected_classes:\n",
    "        selected_classes.append(attack)\n",
    "\n",
    "# Select rows where 'Label' is in selected_classes\n",
    "selected = df[df['Label'].isin(selected_classes)]\n",
    "\n",
    "dfs = []\n",
    "for name in selected_classes:\n",
    "    df_class = selected[selected['Label'] == name]\n",
    "\n",
    "    # Downsample if the class has more than 5000 samples\n",
    "    if len(df_class) > 50000:\n",
    "        df_class = df_class.sample(n=50000, random_state=0)\n",
    "\n",
    "    dfs.append(df_class)\n",
    "\n",
    "# Combine all sampled data\n",
    "balanced_df = pd.concat(dfs, ignore_index=True)\n",
    "\n",
    "# Check final class distribution\n",
    "print(balanced_df['Label'].value_counts())"
   ]
  },
  {
   "cell_type": "code",
   "execution_count": 12,
   "metadata": {},
   "outputs": [
    {
     "data": {
      "text/html": [
       "<div>\n",
       "<style scoped>\n",
       "    .dataframe tbody tr th:only-of-type {\n",
       "        vertical-align: middle;\n",
       "    }\n",
       "\n",
       "    .dataframe tbody tr th {\n",
       "        vertical-align: top;\n",
       "    }\n",
       "\n",
       "    .dataframe thead th {\n",
       "        text-align: right;\n",
       "    }\n",
       "</style>\n",
       "<table border=\"1\" class=\"dataframe\">\n",
       "  <thead>\n",
       "    <tr style=\"text-align: right;\">\n",
       "      <th></th>\n",
       "      <th>Destination Port</th>\n",
       "      <th>Flow Duration</th>\n",
       "      <th>Total Fwd Packets</th>\n",
       "      <th>Total Backward Packets</th>\n",
       "      <th>Total Length of Fwd Packets</th>\n",
       "      <th>Total Length of Bwd Packets</th>\n",
       "      <th>Fwd Packet Length Max</th>\n",
       "      <th>Fwd Packet Length Min</th>\n",
       "      <th>Fwd Packet Length Mean</th>\n",
       "      <th>Fwd Packet Length Std</th>\n",
       "      <th>...</th>\n",
       "      <th>min_seg_size_forward</th>\n",
       "      <th>Active Mean</th>\n",
       "      <th>Active Std</th>\n",
       "      <th>Active Max</th>\n",
       "      <th>Active Min</th>\n",
       "      <th>Idle Mean</th>\n",
       "      <th>Idle Std</th>\n",
       "      <th>Idle Max</th>\n",
       "      <th>Idle Min</th>\n",
       "      <th>Label</th>\n",
       "    </tr>\n",
       "  </thead>\n",
       "  <tbody>\n",
       "    <tr>\n",
       "      <th>0</th>\n",
       "      <td>53</td>\n",
       "      <td>62874</td>\n",
       "      <td>4</td>\n",
       "      <td>2</td>\n",
       "      <td>116</td>\n",
       "      <td>186</td>\n",
       "      <td>29</td>\n",
       "      <td>29</td>\n",
       "      <td>29.000</td>\n",
       "      <td>0.000000</td>\n",
       "      <td>...</td>\n",
       "      <td>20</td>\n",
       "      <td>0.00000</td>\n",
       "      <td>0.00000</td>\n",
       "      <td>0</td>\n",
       "      <td>0</td>\n",
       "      <td>0.000</td>\n",
       "      <td>0.00000</td>\n",
       "      <td>0</td>\n",
       "      <td>0</td>\n",
       "      <td>0</td>\n",
       "    </tr>\n",
       "    <tr>\n",
       "      <th>1</th>\n",
       "      <td>57225</td>\n",
       "      <td>86</td>\n",
       "      <td>1</td>\n",
       "      <td>1</td>\n",
       "      <td>0</td>\n",
       "      <td>0</td>\n",
       "      <td>0</td>\n",
       "      <td>0</td>\n",
       "      <td>0.000</td>\n",
       "      <td>0.000000</td>\n",
       "      <td>...</td>\n",
       "      <td>32</td>\n",
       "      <td>0.00000</td>\n",
       "      <td>0.00000</td>\n",
       "      <td>0</td>\n",
       "      <td>0</td>\n",
       "      <td>0.000</td>\n",
       "      <td>0.00000</td>\n",
       "      <td>0</td>\n",
       "      <td>0</td>\n",
       "      <td>0</td>\n",
       "    </tr>\n",
       "    <tr>\n",
       "      <th>2</th>\n",
       "      <td>80</td>\n",
       "      <td>116003861</td>\n",
       "      <td>16</td>\n",
       "      <td>14</td>\n",
       "      <td>440</td>\n",
       "      <td>412</td>\n",
       "      <td>356</td>\n",
       "      <td>0</td>\n",
       "      <td>27.500</td>\n",
       "      <td>87.612784</td>\n",
       "      <td>...</td>\n",
       "      <td>20</td>\n",
       "      <td>46441.09091</td>\n",
       "      <td>31255.09835</td>\n",
       "      <td>140678</td>\n",
       "      <td>36852</td>\n",
       "      <td>9995557.727</td>\n",
       "      <td>14892.00092</td>\n",
       "      <td>10000000</td>\n",
       "      <td>9950679</td>\n",
       "      <td>0</td>\n",
       "    </tr>\n",
       "    <tr>\n",
       "      <th>3</th>\n",
       "      <td>443</td>\n",
       "      <td>5683083</td>\n",
       "      <td>8</td>\n",
       "      <td>6</td>\n",
       "      <td>397</td>\n",
       "      <td>3716</td>\n",
       "      <td>216</td>\n",
       "      <td>0</td>\n",
       "      <td>49.625</td>\n",
       "      <td>79.224703</td>\n",
       "      <td>...</td>\n",
       "      <td>20</td>\n",
       "      <td>269399.00000</td>\n",
       "      <td>0.00000</td>\n",
       "      <td>269399</td>\n",
       "      <td>269399</td>\n",
       "      <td>5413681.000</td>\n",
       "      <td>0.00000</td>\n",
       "      <td>5413681</td>\n",
       "      <td>5413681</td>\n",
       "      <td>0</td>\n",
       "    </tr>\n",
       "    <tr>\n",
       "      <th>4</th>\n",
       "      <td>53</td>\n",
       "      <td>23652</td>\n",
       "      <td>1</td>\n",
       "      <td>1</td>\n",
       "      <td>48</td>\n",
       "      <td>128</td>\n",
       "      <td>48</td>\n",
       "      <td>48</td>\n",
       "      <td>48.000</td>\n",
       "      <td>0.000000</td>\n",
       "      <td>...</td>\n",
       "      <td>20</td>\n",
       "      <td>0.00000</td>\n",
       "      <td>0.00000</td>\n",
       "      <td>0</td>\n",
       "      <td>0</td>\n",
       "      <td>0.000</td>\n",
       "      <td>0.00000</td>\n",
       "      <td>0</td>\n",
       "      <td>0</td>\n",
       "      <td>0</td>\n",
       "    </tr>\n",
       "  </tbody>\n",
       "</table>\n",
       "<p>5 rows × 79 columns</p>\n",
       "</div>"
      ],
      "text/plain": [
       "   Destination Port  Flow Duration  Total Fwd Packets  Total Backward Packets  \\\n",
       "0                53          62874                  4                       2   \n",
       "1             57225             86                  1                       1   \n",
       "2                80      116003861                 16                      14   \n",
       "3               443        5683083                  8                       6   \n",
       "4                53          23652                  1                       1   \n",
       "\n",
       "   Total Length of Fwd Packets  Total Length of Bwd Packets  \\\n",
       "0                          116                          186   \n",
       "1                            0                            0   \n",
       "2                          440                          412   \n",
       "3                          397                         3716   \n",
       "4                           48                          128   \n",
       "\n",
       "   Fwd Packet Length Max  Fwd Packet Length Min  Fwd Packet Length Mean  \\\n",
       "0                     29                     29                  29.000   \n",
       "1                      0                      0                   0.000   \n",
       "2                    356                      0                  27.500   \n",
       "3                    216                      0                  49.625   \n",
       "4                     48                     48                  48.000   \n",
       "\n",
       "   Fwd Packet Length Std  ...  min_seg_size_forward   Active Mean  \\\n",
       "0               0.000000  ...                    20       0.00000   \n",
       "1               0.000000  ...                    32       0.00000   \n",
       "2              87.612784  ...                    20   46441.09091   \n",
       "3              79.224703  ...                    20  269399.00000   \n",
       "4               0.000000  ...                    20       0.00000   \n",
       "\n",
       "    Active Std  Active Max  Active Min    Idle Mean     Idle Std  Idle Max  \\\n",
       "0      0.00000           0           0        0.000      0.00000         0   \n",
       "1      0.00000           0           0        0.000      0.00000         0   \n",
       "2  31255.09835      140678       36852  9995557.727  14892.00092  10000000   \n",
       "3      0.00000      269399      269399  5413681.000      0.00000   5413681   \n",
       "4      0.00000           0           0        0.000      0.00000         0   \n",
       "\n",
       "   Idle Min  Label  \n",
       "0         0      0  \n",
       "1         0      0  \n",
       "2   9950679      0  \n",
       "3   5413681      0  \n",
       "4         0      0  \n",
       "\n",
       "[5 rows x 79 columns]"
      ]
     },
     "execution_count": 12,
     "metadata": {},
     "output_type": "execute_result"
    }
   ],
   "source": [
    "balanced_df.head()"
   ]
  },
  {
   "cell_type": "code",
   "execution_count": 13,
   "metadata": {},
   "outputs": [
    {
     "name": "stdout",
     "output_type": "stream",
     "text": [
      "Label\n",
      "0    50000\n",
      "3    50000\n",
      "4    50000\n",
      "5    50000\n",
      "1    50000\n",
      "2    50000\n",
      "Name: count, dtype: int64\n"
     ]
    },
    {
     "data": {
      "text/html": [
       "<div>\n",
       "<style scoped>\n",
       "    .dataframe tbody tr th:only-of-type {\n",
       "        vertical-align: middle;\n",
       "    }\n",
       "\n",
       "    .dataframe tbody tr th {\n",
       "        vertical-align: top;\n",
       "    }\n",
       "\n",
       "    .dataframe thead th {\n",
       "        text-align: right;\n",
       "    }\n",
       "</style>\n",
       "<table border=\"1\" class=\"dataframe\">\n",
       "  <thead>\n",
       "    <tr style=\"text-align: right;\">\n",
       "      <th></th>\n",
       "      <th>Destination Port</th>\n",
       "      <th>Flow Duration</th>\n",
       "      <th>Total Fwd Packets</th>\n",
       "      <th>Total Backward Packets</th>\n",
       "      <th>Total Length of Fwd Packets</th>\n",
       "      <th>Total Length of Bwd Packets</th>\n",
       "      <th>Fwd Packet Length Max</th>\n",
       "      <th>Fwd Packet Length Min</th>\n",
       "      <th>Fwd Packet Length Mean</th>\n",
       "      <th>Fwd Packet Length Std</th>\n",
       "      <th>...</th>\n",
       "      <th>min_seg_size_forward</th>\n",
       "      <th>Active Mean</th>\n",
       "      <th>Active Std</th>\n",
       "      <th>Active Max</th>\n",
       "      <th>Active Min</th>\n",
       "      <th>Idle Mean</th>\n",
       "      <th>Idle Std</th>\n",
       "      <th>Idle Max</th>\n",
       "      <th>Idle Min</th>\n",
       "      <th>Label</th>\n",
       "    </tr>\n",
       "  </thead>\n",
       "  <tbody>\n",
       "    <tr>\n",
       "      <th>4941</th>\n",
       "      <td>443</td>\n",
       "      <td>117843989</td>\n",
       "      <td>12</td>\n",
       "      <td>11</td>\n",
       "      <td>655</td>\n",
       "      <td>5381</td>\n",
       "      <td>206</td>\n",
       "      <td>0</td>\n",
       "      <td>54.583333</td>\n",
       "      <td>70.700982</td>\n",
       "      <td>...</td>\n",
       "      <td>20</td>\n",
       "      <td>133856.5</td>\n",
       "      <td>87195.45851</td>\n",
       "      <td>195513</td>\n",
       "      <td>72200</td>\n",
       "      <td>58700000.0</td>\n",
       "      <td>273366.0674</td>\n",
       "      <td>58900000</td>\n",
       "      <td>58600000</td>\n",
       "      <td>0</td>\n",
       "    </tr>\n",
       "    <tr>\n",
       "      <th>51775</th>\n",
       "      <td>80</td>\n",
       "      <td>5003551</td>\n",
       "      <td>8</td>\n",
       "      <td>6</td>\n",
       "      <td>397</td>\n",
       "      <td>11632</td>\n",
       "      <td>397</td>\n",
       "      <td>0</td>\n",
       "      <td>49.625000</td>\n",
       "      <td>140.360696</td>\n",
       "      <td>...</td>\n",
       "      <td>32</td>\n",
       "      <td>0.0</td>\n",
       "      <td>0.00000</td>\n",
       "      <td>0</td>\n",
       "      <td>0</td>\n",
       "      <td>0.0</td>\n",
       "      <td>0.0000</td>\n",
       "      <td>0</td>\n",
       "      <td>0</td>\n",
       "      <td>3</td>\n",
       "    </tr>\n",
       "    <tr>\n",
       "      <th>115253</th>\n",
       "      <td>5001</td>\n",
       "      <td>55</td>\n",
       "      <td>1</td>\n",
       "      <td>1</td>\n",
       "      <td>0</td>\n",
       "      <td>6</td>\n",
       "      <td>0</td>\n",
       "      <td>0</td>\n",
       "      <td>0.000000</td>\n",
       "      <td>0.000000</td>\n",
       "      <td>...</td>\n",
       "      <td>40</td>\n",
       "      <td>0.0</td>\n",
       "      <td>0.00000</td>\n",
       "      <td>0</td>\n",
       "      <td>0</td>\n",
       "      <td>0.0</td>\n",
       "      <td>0.0000</td>\n",
       "      <td>0</td>\n",
       "      <td>0</td>\n",
       "      <td>4</td>\n",
       "    </tr>\n",
       "    <tr>\n",
       "      <th>299321</th>\n",
       "      <td>80</td>\n",
       "      <td>5138140</td>\n",
       "      <td>3</td>\n",
       "      <td>1</td>\n",
       "      <td>0</td>\n",
       "      <td>0</td>\n",
       "      <td>0</td>\n",
       "      <td>0</td>\n",
       "      <td>0.000000</td>\n",
       "      <td>0.000000</td>\n",
       "      <td>...</td>\n",
       "      <td>32</td>\n",
       "      <td>0.0</td>\n",
       "      <td>0.00000</td>\n",
       "      <td>0</td>\n",
       "      <td>0</td>\n",
       "      <td>0.0</td>\n",
       "      <td>0.0000</td>\n",
       "      <td>0</td>\n",
       "      <td>0</td>\n",
       "      <td>5</td>\n",
       "    </tr>\n",
       "    <tr>\n",
       "      <th>173570</th>\n",
       "      <td>8080</td>\n",
       "      <td>87939</td>\n",
       "      <td>4</td>\n",
       "      <td>3</td>\n",
       "      <td>206</td>\n",
       "      <td>134</td>\n",
       "      <td>194</td>\n",
       "      <td>0</td>\n",
       "      <td>51.637068</td>\n",
       "      <td>95.316111</td>\n",
       "      <td>...</td>\n",
       "      <td>20</td>\n",
       "      <td>0.0</td>\n",
       "      <td>0.00000</td>\n",
       "      <td>0</td>\n",
       "      <td>0</td>\n",
       "      <td>0.0</td>\n",
       "      <td>0.0000</td>\n",
       "      <td>0</td>\n",
       "      <td>0</td>\n",
       "      <td>1</td>\n",
       "    </tr>\n",
       "  </tbody>\n",
       "</table>\n",
       "<p>5 rows × 79 columns</p>\n",
       "</div>"
      ],
      "text/plain": [
       "        Destination Port  Flow Duration  Total Fwd Packets  \\\n",
       "4941                 443      117843989                 12   \n",
       "51775                 80        5003551                  8   \n",
       "115253              5001             55                  1   \n",
       "299321                80        5138140                  3   \n",
       "173570              8080          87939                  4   \n",
       "\n",
       "        Total Backward Packets  Total Length of Fwd Packets  \\\n",
       "4941                        11                          655   \n",
       "51775                        6                          397   \n",
       "115253                       1                            0   \n",
       "299321                       1                            0   \n",
       "173570                       3                          206   \n",
       "\n",
       "        Total Length of Bwd Packets  Fwd Packet Length Max  \\\n",
       "4941                           5381                    206   \n",
       "51775                         11632                    397   \n",
       "115253                            6                      0   \n",
       "299321                            0                      0   \n",
       "173570                          134                    194   \n",
       "\n",
       "        Fwd Packet Length Min  Fwd Packet Length Mean  Fwd Packet Length Std  \\\n",
       "4941                        0               54.583333              70.700982   \n",
       "51775                       0               49.625000             140.360696   \n",
       "115253                      0                0.000000               0.000000   \n",
       "299321                      0                0.000000               0.000000   \n",
       "173570                      0               51.637068              95.316111   \n",
       "\n",
       "        ...  min_seg_size_forward  Active Mean   Active Std  Active Max  \\\n",
       "4941    ...                    20     133856.5  87195.45851      195513   \n",
       "51775   ...                    32          0.0      0.00000           0   \n",
       "115253  ...                    40          0.0      0.00000           0   \n",
       "299321  ...                    32          0.0      0.00000           0   \n",
       "173570  ...                    20          0.0      0.00000           0   \n",
       "\n",
       "        Active Min   Idle Mean     Idle Std  Idle Max  Idle Min  Label  \n",
       "4941         72200  58700000.0  273366.0674  58900000  58600000      0  \n",
       "51775            0         0.0       0.0000         0         0      3  \n",
       "115253           0         0.0       0.0000         0         0      4  \n",
       "299321           0         0.0       0.0000         0         0      5  \n",
       "173570           0         0.0       0.0000         0         0      1  \n",
       "\n",
       "[5 rows x 79 columns]"
      ]
     },
     "execution_count": 13,
     "metadata": {},
     "output_type": "execute_result"
    }
   ],
   "source": [
    "from imblearn.over_sampling import SMOTE\n",
    "\n",
    "x = balanced_df.drop('Label', axis=1)\n",
    "y = balanced_df['Label']\n",
    "\n",
    "smote = SMOTE(sampling_strategy='auto', random_state=0)\n",
    "X_upsampled, y_upsampled = smote.fit_resample(x, y)\n",
    "\n",
    "blnc_data = pd.DataFrame(X_upsampled)\n",
    "blnc_data['Label'] = y_upsampled\n",
    "blnc_data = blnc_data.sample(frac=1)\n",
    "\n",
    "print(blnc_data['Label'].value_counts())\n",
    "blnc_data.head()"
   ]
  },
  {
   "cell_type": "code",
   "execution_count": 14,
   "metadata": {},
   "outputs": [
    {
     "name": "stdout",
     "output_type": "stream",
     "text": [
      "Explained Variance Ratio: 0.9316\n"
     ]
    }
   ],
   "source": [
    "from sklearn.decomposition import IncrementalPCA\n",
    "from sklearn.preprocessing import StandardScaler\n",
    "x = blnc_data.drop('Label',axis=1)\n",
    "y = blnc_data['Label']\n",
    "\n",
    "scaler = StandardScaler()\n",
    "X_scaled = scaler.fit_transform(x)\n",
    "n_components = 20\n",
    "ipca = IncrementalPCA(n_components=n_components, batch_size=500)\n",
    "x_pca = ipca.fit_transform(X_scaled) \n",
    "print(f\"Explained Variance Ratio: {sum(ipca.explained_variance_ratio_):.4f}\")\n",
    "x = x_pca"
   ]
  },
  {
   "cell_type": "code",
   "execution_count": null,
   "metadata": {},
   "outputs": [],
   "source": [
    "# Replace original features with PCA-transformed data\n",
    "for i in range(x_pca.shape[1]):\n",
    "    blnc_data[f'PC{i+1}'] = x_pca[:, i]\n",
    "\n",
    "# Drop the original feature columns (except 'Label')\n",
    "blnc_data = blnc_data.drop(columns=blnc_data.columns.difference(\n",
    "    ['Label', *blnc_data.columns[-n_components:]]))\n",
    "\n",
    "# Save to CSV\n",
    "blnc_data.to_csv('final_ds.csv', index=False)\n",
    "\n",
    "print(\"Dataset saved as final_ds.csv\")"
   ]
  },
  {
   "cell_type": "code",
   "execution_count": 4,
   "metadata": {},
   "outputs": [],
   "source": [
    "x = df.drop('Label', axis=1) #Only run if all pre-processing is done, and if you have saved final_ds.csv\n",
    "y = df['Label']"
   ]
  },
  {
   "cell_type": "code",
   "execution_count": 5,
   "metadata": {},
   "outputs": [],
   "source": [
    "from sklearn.model_selection import train_test_split\n",
    "x_train,x_test,y_train,y_test = train_test_split(x,y,test_size=0.25,shuffle=True,random_state=42)"
   ]
  },
  {
   "cell_type": "markdown",
   "metadata": {},
   "source": [
    "# Step-3: DL Algorithms"
   ]
  },
  {
   "cell_type": "code",
   "execution_count": 6,
   "metadata": {},
   "outputs": [],
   "source": [
    "from sklearn.metrics import classification_report\n",
    "from sklearn.metrics import confusion_matrix\n",
    "import seaborn as sns\n",
    "from sklearn.model_selection import cross_val_score\n",
    "from sklearn.preprocessing import LabelBinarizer\n",
    "from sklearn.metrics import RocCurveDisplay\n",
    "import tensorflow as tf\n",
    "import keras\n",
    "from keras import layers,regularizers,optimizers,callbacks"
   ]
  },
  {
   "cell_type": "markdown",
   "metadata": {},
   "source": [
    "#### Step-3.3: Applying DNN"
   ]
  },
  {
   "cell_type": "code",
   "execution_count": 17,
   "metadata": {},
   "outputs": [
    {
     "name": "stderr",
     "output_type": "stream",
     "text": [
      "2025-04-16 19:21:14.981184: E external/local_xla/xla/stream_executor/cuda/cuda_platform.cc:51] failed call to cuInit: INTERNAL: CUDA error: Failed call to cuInit: CUDA_ERROR_NO_DEVICE: no CUDA-capable device is detected\n",
      "2025-04-16 19:21:14.981221: I external/local_xla/xla/stream_executor/cuda/cuda_diagnostics.cc:167] env: CUDA_VISIBLE_DEVICES=\"-1\"\n",
      "2025-04-16 19:21:14.981227: I external/local_xla/xla/stream_executor/cuda/cuda_diagnostics.cc:170] CUDA_VISIBLE_DEVICES is set to -1 - this hides all GPUs from CUDA\n",
      "2025-04-16 19:21:14.981232: I external/local_xla/xla/stream_executor/cuda/cuda_diagnostics.cc:178] verbose logging is disabled. Rerun with verbose logging (usually --v=1 or --vmodule=cuda_diagnostics=1) to get more diagnostic output from this module\n",
      "2025-04-16 19:21:14.981237: I external/local_xla/xla/stream_executor/cuda/cuda_diagnostics.cc:183] retrieving CUDA diagnostic information for host: fedora\n",
      "2025-04-16 19:21:14.981241: I external/local_xla/xla/stream_executor/cuda/cuda_diagnostics.cc:190] hostname: fedora\n",
      "2025-04-16 19:21:14.981409: I external/local_xla/xla/stream_executor/cuda/cuda_diagnostics.cc:197] libcuda reported version is: 570.133.7\n",
      "2025-04-16 19:21:14.981439: I external/local_xla/xla/stream_executor/cuda/cuda_diagnostics.cc:201] kernel reported version is: 570.133.7\n",
      "2025-04-16 19:21:14.981442: I external/local_xla/xla/stream_executor/cuda/cuda_diagnostics.cc:291] kernel version seems to match DSO: 570.133.7\n"
     ]
    }
   ],
   "source": [
    "model = keras.Sequential()\n",
    "model.add(layers.Input(shape=(x_train.shape[1],)))  # Input layer\n",
    "\n",
    "model.add(layers.Dense(128, activation='relu'))  # Hidden layer\n",
    "model.add(layers.Dropout(0.1))  # Dropout layer\n",
    "\n",
    "model.add(layers.Dense(256, activation='relu'))  # Hidden layer\n",
    "model.add(layers.Dropout(0.1))  # Dropout layer\n",
    "\n",
    "model.add(layers.Dense(128, activation='relu'))  # Hidden layer\n",
    "model.add(layers.Dropout(0.1))  # Dropout layer\n",
    "\n",
    "model.add(layers.Dense(6, activation='softmax'))  # Output layer"
   ]
  },
  {
   "cell_type": "code",
   "execution_count": 18,
   "metadata": {},
   "outputs": [
    {
     "data": {
      "text/html": [
       "<pre style=\"white-space:pre;overflow-x:auto;line-height:normal;font-family:Menlo,'DejaVu Sans Mono',consolas,'Courier New',monospace\"><span style=\"font-weight: bold\">Model: \"sequential\"</span>\n",
       "</pre>\n"
      ],
      "text/plain": [
       "\u001b[1mModel: \"sequential\"\u001b[0m\n"
      ]
     },
     "metadata": {},
     "output_type": "display_data"
    },
    {
     "data": {
      "text/html": [
       "<pre style=\"white-space:pre;overflow-x:auto;line-height:normal;font-family:Menlo,'DejaVu Sans Mono',consolas,'Courier New',monospace\">┏━━━━━━━━━━━━━━━━━━━━━━━━━━━━━━━━━┳━━━━━━━━━━━━━━━━━━━━━━━━┳━━━━━━━━━━━━━━━┓\n",
       "┃<span style=\"font-weight: bold\"> Layer (type)                    </span>┃<span style=\"font-weight: bold\"> Output Shape           </span>┃<span style=\"font-weight: bold\">       Param # </span>┃\n",
       "┡━━━━━━━━━━━━━━━━━━━━━━━━━━━━━━━━━╇━━━━━━━━━━━━━━━━━━━━━━━━╇━━━━━━━━━━━━━━━┩\n",
       "│ dense (<span style=\"color: #0087ff; text-decoration-color: #0087ff\">Dense</span>)                   │ (<span style=\"color: #00d7ff; text-decoration-color: #00d7ff\">None</span>, <span style=\"color: #00af00; text-decoration-color: #00af00\">128</span>)            │         <span style=\"color: #00af00; text-decoration-color: #00af00\">2,688</span> │\n",
       "├─────────────────────────────────┼────────────────────────┼───────────────┤\n",
       "│ dropout (<span style=\"color: #0087ff; text-decoration-color: #0087ff\">Dropout</span>)               │ (<span style=\"color: #00d7ff; text-decoration-color: #00d7ff\">None</span>, <span style=\"color: #00af00; text-decoration-color: #00af00\">128</span>)            │             <span style=\"color: #00af00; text-decoration-color: #00af00\">0</span> │\n",
       "├─────────────────────────────────┼────────────────────────┼───────────────┤\n",
       "│ dense_1 (<span style=\"color: #0087ff; text-decoration-color: #0087ff\">Dense</span>)                 │ (<span style=\"color: #00d7ff; text-decoration-color: #00d7ff\">None</span>, <span style=\"color: #00af00; text-decoration-color: #00af00\">256</span>)            │        <span style=\"color: #00af00; text-decoration-color: #00af00\">33,024</span> │\n",
       "├─────────────────────────────────┼────────────────────────┼───────────────┤\n",
       "│ dropout_1 (<span style=\"color: #0087ff; text-decoration-color: #0087ff\">Dropout</span>)             │ (<span style=\"color: #00d7ff; text-decoration-color: #00d7ff\">None</span>, <span style=\"color: #00af00; text-decoration-color: #00af00\">256</span>)            │             <span style=\"color: #00af00; text-decoration-color: #00af00\">0</span> │\n",
       "├─────────────────────────────────┼────────────────────────┼───────────────┤\n",
       "│ dense_2 (<span style=\"color: #0087ff; text-decoration-color: #0087ff\">Dense</span>)                 │ (<span style=\"color: #00d7ff; text-decoration-color: #00d7ff\">None</span>, <span style=\"color: #00af00; text-decoration-color: #00af00\">128</span>)            │        <span style=\"color: #00af00; text-decoration-color: #00af00\">32,896</span> │\n",
       "├─────────────────────────────────┼────────────────────────┼───────────────┤\n",
       "│ dropout_2 (<span style=\"color: #0087ff; text-decoration-color: #0087ff\">Dropout</span>)             │ (<span style=\"color: #00d7ff; text-decoration-color: #00d7ff\">None</span>, <span style=\"color: #00af00; text-decoration-color: #00af00\">128</span>)            │             <span style=\"color: #00af00; text-decoration-color: #00af00\">0</span> │\n",
       "├─────────────────────────────────┼────────────────────────┼───────────────┤\n",
       "│ dense_3 (<span style=\"color: #0087ff; text-decoration-color: #0087ff\">Dense</span>)                 │ (<span style=\"color: #00d7ff; text-decoration-color: #00d7ff\">None</span>, <span style=\"color: #00af00; text-decoration-color: #00af00\">6</span>)              │           <span style=\"color: #00af00; text-decoration-color: #00af00\">774</span> │\n",
       "└─────────────────────────────────┴────────────────────────┴───────────────┘\n",
       "</pre>\n"
      ],
      "text/plain": [
       "┏━━━━━━━━━━━━━━━━━━━━━━━━━━━━━━━━━┳━━━━━━━━━━━━━━━━━━━━━━━━┳━━━━━━━━━━━━━━━┓\n",
       "┃\u001b[1m \u001b[0m\u001b[1mLayer (type)                   \u001b[0m\u001b[1m \u001b[0m┃\u001b[1m \u001b[0m\u001b[1mOutput Shape          \u001b[0m\u001b[1m \u001b[0m┃\u001b[1m \u001b[0m\u001b[1m      Param #\u001b[0m\u001b[1m \u001b[0m┃\n",
       "┡━━━━━━━━━━━━━━━━━━━━━━━━━━━━━━━━━╇━━━━━━━━━━━━━━━━━━━━━━━━╇━━━━━━━━━━━━━━━┩\n",
       "│ dense (\u001b[38;5;33mDense\u001b[0m)                   │ (\u001b[38;5;45mNone\u001b[0m, \u001b[38;5;34m128\u001b[0m)            │         \u001b[38;5;34m2,688\u001b[0m │\n",
       "├─────────────────────────────────┼────────────────────────┼───────────────┤\n",
       "│ dropout (\u001b[38;5;33mDropout\u001b[0m)               │ (\u001b[38;5;45mNone\u001b[0m, \u001b[38;5;34m128\u001b[0m)            │             \u001b[38;5;34m0\u001b[0m │\n",
       "├─────────────────────────────────┼────────────────────────┼───────────────┤\n",
       "│ dense_1 (\u001b[38;5;33mDense\u001b[0m)                 │ (\u001b[38;5;45mNone\u001b[0m, \u001b[38;5;34m256\u001b[0m)            │        \u001b[38;5;34m33,024\u001b[0m │\n",
       "├─────────────────────────────────┼────────────────────────┼───────────────┤\n",
       "│ dropout_1 (\u001b[38;5;33mDropout\u001b[0m)             │ (\u001b[38;5;45mNone\u001b[0m, \u001b[38;5;34m256\u001b[0m)            │             \u001b[38;5;34m0\u001b[0m │\n",
       "├─────────────────────────────────┼────────────────────────┼───────────────┤\n",
       "│ dense_2 (\u001b[38;5;33mDense\u001b[0m)                 │ (\u001b[38;5;45mNone\u001b[0m, \u001b[38;5;34m128\u001b[0m)            │        \u001b[38;5;34m32,896\u001b[0m │\n",
       "├─────────────────────────────────┼────────────────────────┼───────────────┤\n",
       "│ dropout_2 (\u001b[38;5;33mDropout\u001b[0m)             │ (\u001b[38;5;45mNone\u001b[0m, \u001b[38;5;34m128\u001b[0m)            │             \u001b[38;5;34m0\u001b[0m │\n",
       "├─────────────────────────────────┼────────────────────────┼───────────────┤\n",
       "│ dense_3 (\u001b[38;5;33mDense\u001b[0m)                 │ (\u001b[38;5;45mNone\u001b[0m, \u001b[38;5;34m6\u001b[0m)              │           \u001b[38;5;34m774\u001b[0m │\n",
       "└─────────────────────────────────┴────────────────────────┴───────────────┘\n"
      ]
     },
     "metadata": {},
     "output_type": "display_data"
    },
    {
     "data": {
      "text/html": [
       "<pre style=\"white-space:pre;overflow-x:auto;line-height:normal;font-family:Menlo,'DejaVu Sans Mono',consolas,'Courier New',monospace\"><span style=\"font-weight: bold\"> Total params: </span><span style=\"color: #00af00; text-decoration-color: #00af00\">69,382</span> (271.02 KB)\n",
       "</pre>\n"
      ],
      "text/plain": [
       "\u001b[1m Total params: \u001b[0m\u001b[38;5;34m69,382\u001b[0m (271.02 KB)\n"
      ]
     },
     "metadata": {},
     "output_type": "display_data"
    },
    {
     "data": {
      "text/html": [
       "<pre style=\"white-space:pre;overflow-x:auto;line-height:normal;font-family:Menlo,'DejaVu Sans Mono',consolas,'Courier New',monospace\"><span style=\"font-weight: bold\"> Trainable params: </span><span style=\"color: #00af00; text-decoration-color: #00af00\">69,382</span> (271.02 KB)\n",
       "</pre>\n"
      ],
      "text/plain": [
       "\u001b[1m Trainable params: \u001b[0m\u001b[38;5;34m69,382\u001b[0m (271.02 KB)\n"
      ]
     },
     "metadata": {},
     "output_type": "display_data"
    },
    {
     "data": {
      "text/html": [
       "<pre style=\"white-space:pre;overflow-x:auto;line-height:normal;font-family:Menlo,'DejaVu Sans Mono',consolas,'Courier New',monospace\"><span style=\"font-weight: bold\"> Non-trainable params: </span><span style=\"color: #00af00; text-decoration-color: #00af00\">0</span> (0.00 B)\n",
       "</pre>\n"
      ],
      "text/plain": [
       "\u001b[1m Non-trainable params: \u001b[0m\u001b[38;5;34m0\u001b[0m (0.00 B)\n"
      ]
     },
     "metadata": {},
     "output_type": "display_data"
    }
   ],
   "source": [
    "model.summary()"
   ]
  },
  {
   "cell_type": "code",
   "execution_count": 19,
   "metadata": {},
   "outputs": [],
   "source": [
    "optimizer = keras.optimizers.Adam(learning_rate=0.0001)\n",
    "early_stopping = keras.callbacks.EarlyStopping(\n",
    "    verbose=1, restore_best_weights=True, patience=3)\n",
    "model_checkpoint = keras.callbacks.ModelCheckpoint(\n",
    "    filepath=\"Models/Test/dnn_best_reference.keras\", save_best_only=True)\n",
    "model.compile(optimizer=optimizer, loss='sparse_categorical_crossentropy', metrics=[\n",
    "              'accuracy'])  # compiling model"
   ]
  },
  {
   "cell_type": "code",
   "execution_count": 20,
   "metadata": {},
   "outputs": [
    {
     "name": "stdout",
     "output_type": "stream",
     "text": [
      "Epoch 1/50\n",
      "\u001b[1m7032/7032\u001b[0m \u001b[32m━━━━━━━━━━━━━━━━━━━━\u001b[0m\u001b[37m\u001b[0m \u001b[1m15s\u001b[0m 2ms/step - accuracy: 0.8620 - loss: 0.4676 - val_accuracy: 0.9598 - val_loss: 0.1246\n",
      "Epoch 2/50\n",
      "\u001b[1m7032/7032\u001b[0m \u001b[32m━━━━━━━━━━━━━━━━━━━━\u001b[0m\u001b[37m\u001b[0m \u001b[1m16s\u001b[0m 2ms/step - accuracy: 0.9617 - loss: 0.1291 - val_accuracy: 0.9711 - val_loss: 0.1021\n",
      "Epoch 3/50\n",
      "\u001b[1m7032/7032\u001b[0m \u001b[32m━━━━━━━━━━━━━━━━━━━━\u001b[0m\u001b[37m\u001b[0m \u001b[1m16s\u001b[0m 2ms/step - accuracy: 0.9696 - loss: 0.1027 - val_accuracy: 0.9736 - val_loss: 0.0855\n",
      "Epoch 4/50\n",
      "\u001b[1m7032/7032\u001b[0m \u001b[32m━━━━━━━━━━━━━━━━━━━━\u001b[0m\u001b[37m\u001b[0m \u001b[1m16s\u001b[0m 2ms/step - accuracy: 0.9732 - loss: 0.0903 - val_accuracy: 0.9755 - val_loss: 0.0782\n",
      "Epoch 5/50\n",
      "\u001b[1m7032/7032\u001b[0m \u001b[32m━━━━━━━━━━━━━━━━━━━━\u001b[0m\u001b[37m\u001b[0m \u001b[1m17s\u001b[0m 2ms/step - accuracy: 0.9754 - loss: 0.0829 - val_accuracy: 0.9768 - val_loss: 0.0748\n",
      "Epoch 6/50\n",
      "\u001b[1m7032/7032\u001b[0m \u001b[32m━━━━━━━━━━━━━━━━━━━━\u001b[0m\u001b[37m\u001b[0m \u001b[1m16s\u001b[0m 2ms/step - accuracy: 0.9762 - loss: 0.0785 - val_accuracy: 0.9780 - val_loss: 0.0721\n",
      "Epoch 7/50\n",
      "\u001b[1m7032/7032\u001b[0m \u001b[32m━━━━━━━━━━━━━━━━━━━━\u001b[0m\u001b[37m\u001b[0m \u001b[1m15s\u001b[0m 2ms/step - accuracy: 0.9777 - loss: 0.0739 - val_accuracy: 0.9788 - val_loss: 0.0690\n",
      "Epoch 8/50\n",
      "\u001b[1m7032/7032\u001b[0m \u001b[32m━━━━━━━━━━━━━━━━━━━━\u001b[0m\u001b[37m\u001b[0m \u001b[1m16s\u001b[0m 2ms/step - accuracy: 0.9781 - loss: 0.0719 - val_accuracy: 0.9789 - val_loss: 0.0681\n",
      "Epoch 9/50\n",
      "\u001b[1m7032/7032\u001b[0m \u001b[32m━━━━━━━━━━━━━━━━━━━━\u001b[0m\u001b[37m\u001b[0m \u001b[1m13s\u001b[0m 2ms/step - accuracy: 0.9790 - loss: 0.0683 - val_accuracy: 0.9800 - val_loss: 0.0652\n",
      "Epoch 10/50\n",
      "\u001b[1m7032/7032\u001b[0m \u001b[32m━━━━━━━━━━━━━━━━━━━━\u001b[0m\u001b[37m\u001b[0m \u001b[1m13s\u001b[0m 2ms/step - accuracy: 0.9796 - loss: 0.0664 - val_accuracy: 0.9798 - val_loss: 0.0649\n",
      "Epoch 11/50\n",
      "\u001b[1m7032/7032\u001b[0m \u001b[32m━━━━━━━━━━━━━━━━━━━━\u001b[0m\u001b[37m\u001b[0m \u001b[1m12s\u001b[0m 2ms/step - accuracy: 0.9800 - loss: 0.0649 - val_accuracy: 0.9804 - val_loss: 0.0625\n",
      "Epoch 12/50\n",
      "\u001b[1m7032/7032\u001b[0m \u001b[32m━━━━━━━━━━━━━━━━━━━━\u001b[0m\u001b[37m\u001b[0m \u001b[1m12s\u001b[0m 2ms/step - accuracy: 0.9806 - loss: 0.0631 - val_accuracy: 0.9812 - val_loss: 0.0598\n",
      "Epoch 13/50\n",
      "\u001b[1m7032/7032\u001b[0m \u001b[32m━━━━━━━━━━━━━━━━━━━━\u001b[0m\u001b[37m\u001b[0m \u001b[1m13s\u001b[0m 2ms/step - accuracy: 0.9809 - loss: 0.0618 - val_accuracy: 0.9809 - val_loss: 0.0601\n",
      "Epoch 14/50\n",
      "\u001b[1m7032/7032\u001b[0m \u001b[32m━━━━━━━━━━━━━━━━━━━━\u001b[0m\u001b[37m\u001b[0m \u001b[1m12s\u001b[0m 2ms/step - accuracy: 0.9809 - loss: 0.0609 - val_accuracy: 0.9814 - val_loss: 0.0588\n",
      "Epoch 15/50\n",
      "\u001b[1m7032/7032\u001b[0m \u001b[32m━━━━━━━━━━━━━━━━━━━━\u001b[0m\u001b[37m\u001b[0m \u001b[1m12s\u001b[0m 2ms/step - accuracy: 0.9814 - loss: 0.0592 - val_accuracy: 0.9817 - val_loss: 0.0574\n",
      "Epoch 16/50\n",
      "\u001b[1m7032/7032\u001b[0m \u001b[32m━━━━━━━━━━━━━━━━━━━━\u001b[0m\u001b[37m\u001b[0m \u001b[1m13s\u001b[0m 2ms/step - accuracy: 0.9816 - loss: 0.0589 - val_accuracy: 0.9819 - val_loss: 0.0571\n",
      "Epoch 17/50\n",
      "\u001b[1m7032/7032\u001b[0m \u001b[32m━━━━━━━━━━━━━━━━━━━━\u001b[0m\u001b[37m\u001b[0m \u001b[1m12s\u001b[0m 2ms/step - accuracy: 0.9822 - loss: 0.0571 - val_accuracy: 0.9822 - val_loss: 0.0560\n",
      "Epoch 18/50\n",
      "\u001b[1m7032/7032\u001b[0m \u001b[32m━━━━━━━━━━━━━━━━━━━━\u001b[0m\u001b[37m\u001b[0m \u001b[1m13s\u001b[0m 2ms/step - accuracy: 0.9824 - loss: 0.0560 - val_accuracy: 0.9821 - val_loss: 0.0554\n",
      "Epoch 19/50\n",
      "\u001b[1m7032/7032\u001b[0m \u001b[32m━━━━━━━━━━━━━━━━━━━━\u001b[0m\u001b[37m\u001b[0m \u001b[1m13s\u001b[0m 2ms/step - accuracy: 0.9825 - loss: 0.0553 - val_accuracy: 0.9826 - val_loss: 0.0534\n",
      "Epoch 20/50\n",
      "\u001b[1m7032/7032\u001b[0m \u001b[32m━━━━━━━━━━━━━━━━━━━━\u001b[0m\u001b[37m\u001b[0m \u001b[1m13s\u001b[0m 2ms/step - accuracy: 0.9834 - loss: 0.0540 - val_accuracy: 0.9823 - val_loss: 0.0545\n",
      "Epoch 21/50\n",
      "\u001b[1m7032/7032\u001b[0m \u001b[32m━━━━━━━━━━━━━━━━━━━━\u001b[0m\u001b[37m\u001b[0m \u001b[1m13s\u001b[0m 2ms/step - accuracy: 0.9834 - loss: 0.0535 - val_accuracy: 0.9822 - val_loss: 0.0544\n",
      "Epoch 22/50\n",
      "\u001b[1m7032/7032\u001b[0m \u001b[32m━━━━━━━━━━━━━━━━━━━━\u001b[0m\u001b[37m\u001b[0m \u001b[1m12s\u001b[0m 2ms/step - accuracy: 0.9835 - loss: 0.0529 - val_accuracy: 0.9829 - val_loss: 0.0522\n",
      "Epoch 23/50\n",
      "\u001b[1m7032/7032\u001b[0m \u001b[32m━━━━━━━━━━━━━━━━━━━━\u001b[0m\u001b[37m\u001b[0m \u001b[1m13s\u001b[0m 2ms/step - accuracy: 0.9838 - loss: 0.0526 - val_accuracy: 0.9829 - val_loss: 0.0520\n",
      "Epoch 24/50\n",
      "\u001b[1m7032/7032\u001b[0m \u001b[32m━━━━━━━━━━━━━━━━━━━━\u001b[0m\u001b[37m\u001b[0m \u001b[1m13s\u001b[0m 2ms/step - accuracy: 0.9843 - loss: 0.0507 - val_accuracy: 0.9835 - val_loss: 0.0508\n",
      "Epoch 25/50\n",
      "\u001b[1m7032/7032\u001b[0m \u001b[32m━━━━━━━━━━━━━━━━━━━━\u001b[0m\u001b[37m\u001b[0m \u001b[1m13s\u001b[0m 2ms/step - accuracy: 0.9844 - loss: 0.0503 - val_accuracy: 0.9829 - val_loss: 0.0508\n",
      "Epoch 26/50\n",
      "\u001b[1m7032/7032\u001b[0m \u001b[32m━━━━━━━━━━━━━━━━━━━━\u001b[0m\u001b[37m\u001b[0m \u001b[1m13s\u001b[0m 2ms/step - accuracy: 0.9848 - loss: 0.0496 - val_accuracy: 0.9849 - val_loss: 0.0497\n",
      "Epoch 27/50\n",
      "\u001b[1m7032/7032\u001b[0m \u001b[32m━━━━━━━━━━━━━━━━━━━━\u001b[0m\u001b[37m\u001b[0m \u001b[1m13s\u001b[0m 2ms/step - accuracy: 0.9852 - loss: 0.0489 - val_accuracy: 0.9834 - val_loss: 0.0506\n",
      "Epoch 28/50\n",
      "\u001b[1m7032/7032\u001b[0m \u001b[32m━━━━━━━━━━━━━━━━━━━━\u001b[0m\u001b[37m\u001b[0m \u001b[1m13s\u001b[0m 2ms/step - accuracy: 0.9853 - loss: 0.0485 - val_accuracy: 0.9857 - val_loss: 0.0474\n",
      "Epoch 29/50\n",
      "\u001b[1m7032/7032\u001b[0m \u001b[32m━━━━━━━━━━━━━━━━━━━━\u001b[0m\u001b[37m\u001b[0m \u001b[1m13s\u001b[0m 2ms/step - accuracy: 0.9861 - loss: 0.0475 - val_accuracy: 0.9853 - val_loss: 0.0479\n",
      "Epoch 30/50\n",
      "\u001b[1m7032/7032\u001b[0m \u001b[32m━━━━━━━━━━━━━━━━━━━━\u001b[0m\u001b[37m\u001b[0m \u001b[1m13s\u001b[0m 2ms/step - accuracy: 0.9863 - loss: 0.0470 - val_accuracy: 0.9860 - val_loss: 0.0469\n",
      "Epoch 31/50\n",
      "\u001b[1m7032/7032\u001b[0m \u001b[32m━━━━━━━━━━━━━━━━━━━━\u001b[0m\u001b[37m\u001b[0m \u001b[1m13s\u001b[0m 2ms/step - accuracy: 0.9864 - loss: 0.0464 - val_accuracy: 0.9845 - val_loss: 0.0486\n",
      "Epoch 32/50\n",
      "\u001b[1m7032/7032\u001b[0m \u001b[32m━━━━━━━━━━━━━━━━━━━━\u001b[0m\u001b[37m\u001b[0m \u001b[1m13s\u001b[0m 2ms/step - accuracy: 0.9860 - loss: 0.0466 - val_accuracy: 0.9861 - val_loss: 0.0464\n",
      "Epoch 33/50\n",
      "\u001b[1m7032/7032\u001b[0m \u001b[32m━━━━━━━━━━━━━━━━━━━━\u001b[0m\u001b[37m\u001b[0m \u001b[1m13s\u001b[0m 2ms/step - accuracy: 0.9868 - loss: 0.0451 - val_accuracy: 0.9863 - val_loss: 0.0459\n",
      "Epoch 34/50\n",
      "\u001b[1m7032/7032\u001b[0m \u001b[32m━━━━━━━━━━━━━━━━━━━━\u001b[0m\u001b[37m\u001b[0m \u001b[1m12s\u001b[0m 2ms/step - accuracy: 0.9863 - loss: 0.0452 - val_accuracy: 0.9860 - val_loss: 0.0452\n",
      "Epoch 35/50\n",
      "\u001b[1m7032/7032\u001b[0m \u001b[32m━━━━━━━━━━━━━━━━━━━━\u001b[0m\u001b[37m\u001b[0m \u001b[1m12s\u001b[0m 2ms/step - accuracy: 0.9868 - loss: 0.0441 - val_accuracy: 0.9870 - val_loss: 0.0440\n",
      "Epoch 36/50\n",
      "\u001b[1m7032/7032\u001b[0m \u001b[32m━━━━━━━━━━━━━━━━━━━━\u001b[0m\u001b[37m\u001b[0m \u001b[1m12s\u001b[0m 2ms/step - accuracy: 0.9868 - loss: 0.0443 - val_accuracy: 0.9873 - val_loss: 0.0437\n",
      "Epoch 37/50\n",
      "\u001b[1m7032/7032\u001b[0m \u001b[32m━━━━━━━━━━━━━━━━━━━━\u001b[0m\u001b[37m\u001b[0m \u001b[1m13s\u001b[0m 2ms/step - accuracy: 0.9869 - loss: 0.0442 - val_accuracy: 0.9872 - val_loss: 0.0432\n",
      "Epoch 38/50\n",
      "\u001b[1m7032/7032\u001b[0m \u001b[32m━━━━━━━━━━━━━━━━━━━━\u001b[0m\u001b[37m\u001b[0m \u001b[1m13s\u001b[0m 2ms/step - accuracy: 0.9872 - loss: 0.0437 - val_accuracy: 0.9861 - val_loss: 0.0460\n",
      "Epoch 39/50\n",
      "\u001b[1m7032/7032\u001b[0m \u001b[32m━━━━━━━━━━━━━━━━━━━━\u001b[0m\u001b[37m\u001b[0m \u001b[1m13s\u001b[0m 2ms/step - accuracy: 0.9876 - loss: 0.0424 - val_accuracy: 0.9869 - val_loss: 0.0447\n",
      "Epoch 40/50\n",
      "\u001b[1m7032/7032\u001b[0m \u001b[32m━━━━━━━━━━━━━━━━━━━━\u001b[0m\u001b[37m\u001b[0m \u001b[1m13s\u001b[0m 2ms/step - accuracy: 0.9872 - loss: 0.0432 - val_accuracy: 0.9870 - val_loss: 0.0437\n",
      "Epoch 40: early stopping\n",
      "Restoring model weights from the end of the best epoch: 37.\n"
     ]
    },
    {
     "name": "stderr",
     "output_type": "stream",
     "text": [
      "WARNING:absl:You are saving your model as an HDF5 file via `model.save()` or `keras.saving.save_model(model)`. This file format is considered legacy. We recommend using instead the native Keras format, e.g. `model.save('my_model.keras')` or `keras.saving.save_model(model, 'my_model.keras')`. \n"
     ]
    }
   ],
   "source": [
    "history = model.fit(x_train, y_train, epochs=50, batch_size=32, callbacks=[\n",
    "          early_stopping, model_checkpoint],validation_data=(x_test,y_test))  # Fitting Model\n",
    "model.save(\"Models/Final/DNN_reference.h5\")  # Saving the model"
   ]
  },
  {
   "cell_type": "code",
   "execution_count": 21,
   "metadata": {},
   "outputs": [
    {
     "name": "stdout",
     "output_type": "stream",
     "text": [
      "Result of Prediction\n",
      "\u001b[1m2344/2344\u001b[0m \u001b[32m━━━━━━━━━━━━━━━━━━━━\u001b[0m\u001b[37m\u001b[0m \u001b[1m1s\u001b[0m 539us/step\n",
      "[[4.10376262e-04 9.99589145e-01 2.09957385e-08 1.68323648e-08\n",
      "  3.33646113e-07 6.62013688e-09]\n",
      " [2.81852167e-02 1.15403367e-04 1.19451420e-06 7.57486802e-08\n",
      "  9.71697509e-01 6.11820496e-07]\n",
      " [1.23701598e-02 9.87465739e-01 6.73565155e-05 8.88770774e-06\n",
      "  1.16111287e-05 7.62116106e-05]\n",
      " ...\n",
      " [2.64566352e-05 9.99973476e-01 3.97883504e-08 1.30483295e-08\n",
      "  1.58416906e-08 9.11836384e-09]\n",
      " [1.06685011e-05 7.28626675e-18 9.99988973e-01 2.24749019e-09\n",
      "  2.19282717e-10 3.40162558e-07]\n",
      " [9.99999940e-01 6.64766506e-12 2.02226008e-23 1.89106413e-12\n",
      "  2.77253372e-12 1.24956848e-13]]\n",
      "predictions shape: (75000, 6)\n"
     ]
    }
   ],
   "source": [
    "print(f\"Result of Prediction\") #Performing Predictions\n",
    "predictions=model.predict(x=x_test)\n",
    "print(predictions)\n",
    "print(\"predictions shape:\", predictions.shape)"
   ]
  },
  {
   "cell_type": "markdown",
   "metadata": {},
   "source": [
    "#### Step-3.4: Applying DCNN"
   ]
  },
  {
   "cell_type": "code",
   "execution_count": 8,
   "metadata": {},
   "outputs": [
    {
     "data": {
      "text/plain": [
       "(225000, 20)"
      ]
     },
     "execution_count": 8,
     "metadata": {},
     "output_type": "execute_result"
    }
   ],
   "source": [
    "x_test.shape\n",
    "x_train.shape"
   ]
  },
  {
   "cell_type": "code",
   "execution_count": 9,
   "metadata": {},
   "outputs": [
    {
     "data": {
      "text/plain": [
       "(225000, 20)"
      ]
     },
     "execution_count": 9,
     "metadata": {},
     "output_type": "execute_result"
    }
   ],
   "source": [
    "x_train.shape"
   ]
  },
  {
   "cell_type": "code",
   "execution_count": 10,
   "metadata": {},
   "outputs": [],
   "source": [
    "x_train_np = x_train.to_numpy() #Only do this if loading final_ds.csv\n",
    "x_test_np = x_test.to_numpy()\n",
    "\n",
    "# Reshape for models that expect 3D input (e.g., LSTM, CNN)\n",
    "x_train_reshaped = x_train_np.reshape(\n",
    "    x_train_np.shape[0], x_train_np.shape[1], 1)\n",
    "x_test_reshaped = x_test_np.reshape(x_test_np.shape[0], x_test_np.shape[1], 1)"
   ]
  },
  {
   "cell_type": "code",
   "execution_count": 7,
   "metadata": {},
   "outputs": [
    {
     "ename": "AttributeError",
     "evalue": "'DataFrame' object has no attribute 'reshape'",
     "output_type": "error",
     "traceback": [
      "\u001b[0;31m---------------------------------------------------------------------------\u001b[0m",
      "\u001b[0;31mAttributeError\u001b[0m                            Traceback (most recent call last)",
      "\u001b[0;32m/tmp/ipykernel_33073/1948350724.py\u001b[0m in \u001b[0;36m?\u001b[0;34m()\u001b[0m\n\u001b[0;32m----> 1\u001b[0;31m x_train_reshaped = x_train.reshape(\n\u001b[0m\u001b[1;32m      2\u001b[0m     x_train.shape[0], x_train.shape[1], 1)\n\u001b[1;32m      3\u001b[0m \u001b[0;34m\u001b[0m\u001b[0m\n\u001b[1;32m      4\u001b[0m x_test_reshaped = x_test.reshape(\n",
      "\u001b[0;32m~/.conda/envs/minorproject/lib/python3.11/site-packages/pandas/core/generic.py\u001b[0m in \u001b[0;36m?\u001b[0;34m(self, name)\u001b[0m\n\u001b[1;32m   6295\u001b[0m             \u001b[0;32mand\u001b[0m \u001b[0mname\u001b[0m \u001b[0;32mnot\u001b[0m \u001b[0;32min\u001b[0m \u001b[0mself\u001b[0m\u001b[0;34m.\u001b[0m\u001b[0m_accessors\u001b[0m\u001b[0;34m\u001b[0m\u001b[0;34m\u001b[0m\u001b[0m\n\u001b[1;32m   6296\u001b[0m             \u001b[0;32mand\u001b[0m \u001b[0mself\u001b[0m\u001b[0;34m.\u001b[0m\u001b[0m_info_axis\u001b[0m\u001b[0;34m.\u001b[0m\u001b[0m_can_hold_identifiers_and_holds_name\u001b[0m\u001b[0;34m(\u001b[0m\u001b[0mname\u001b[0m\u001b[0;34m)\u001b[0m\u001b[0;34m\u001b[0m\u001b[0;34m\u001b[0m\u001b[0m\n\u001b[1;32m   6297\u001b[0m         ):\n\u001b[1;32m   6298\u001b[0m             \u001b[0;32mreturn\u001b[0m \u001b[0mself\u001b[0m\u001b[0;34m[\u001b[0m\u001b[0mname\u001b[0m\u001b[0;34m]\u001b[0m\u001b[0;34m\u001b[0m\u001b[0;34m\u001b[0m\u001b[0m\n\u001b[0;32m-> 6299\u001b[0;31m         \u001b[0;32mreturn\u001b[0m \u001b[0mobject\u001b[0m\u001b[0;34m.\u001b[0m\u001b[0m__getattribute__\u001b[0m\u001b[0;34m(\u001b[0m\u001b[0mself\u001b[0m\u001b[0;34m,\u001b[0m \u001b[0mname\u001b[0m\u001b[0;34m)\u001b[0m\u001b[0;34m\u001b[0m\u001b[0;34m\u001b[0m\u001b[0m\n\u001b[0m",
      "\u001b[0;31mAttributeError\u001b[0m: 'DataFrame' object has no attribute 'reshape'"
     ]
    }
   ],
   "source": [
    "x_train_reshaped = x_train.reshape(\n",
    "    x_train.shape[0], x_train.shape[1], 1)\n",
    "\n",
    "x_test_reshaped = x_test.reshape(\n",
    "    x_test.shape[0], x_test.shape[1], 1)"
   ]
  },
  {
   "cell_type": "code",
   "execution_count": 25,
   "metadata": {},
   "outputs": [
    {
     "data": {
      "text/plain": [
       "(225000, 20, 1)"
      ]
     },
     "execution_count": 25,
     "metadata": {},
     "output_type": "execute_result"
    }
   ],
   "source": [
    "x_train_reshaped.shape"
   ]
  },
  {
   "cell_type": "code",
   "execution_count": 26,
   "metadata": {},
   "outputs": [
    {
     "data": {
      "text/plain": [
       "(75000, 20, 1)"
      ]
     },
     "execution_count": 26,
     "metadata": {},
     "output_type": "execute_result"
    }
   ],
   "source": [
    "x_test_reshaped.shape"
   ]
  },
  {
   "cell_type": "code",
   "execution_count": 27,
   "metadata": {},
   "outputs": [],
   "source": [
    "# Create the model as before\n",
    "model_cnn = keras.Sequential()\n",
    "\n",
    "model_cnn.add(layers.Input(shape=(x_train_reshaped.shape[1], 1)))\n",
    "model_cnn.add(layers.Conv1D(128, 20, data_format='channels_last',\n",
    "                            activation='relu', padding='same'))\n",
    "model_cnn.add(layers.Conv1D(256, 20, data_format='channels_last',\n",
    "                            activation='relu', padding='same'))\n",
    "\n",
    "model_cnn.add(layers.Flatten())\n",
    "\n",
    "model_cnn.add(layers.Dense(256, activation='relu',\n",
    "                           kernel_regularizer=keras.regularizers.l1_l2()))\n",
    "\n",
    "model_cnn.add(layers.Dense(6, activation='softmax'))"
   ]
  },
  {
   "cell_type": "code",
   "execution_count": 28,
   "metadata": {},
   "outputs": [
    {
     "data": {
      "text/html": [
       "<pre style=\"white-space:pre;overflow-x:auto;line-height:normal;font-family:Menlo,'DejaVu Sans Mono',consolas,'Courier New',monospace\"><span style=\"font-weight: bold\">Model: \"sequential_1\"</span>\n",
       "</pre>\n"
      ],
      "text/plain": [
       "\u001b[1mModel: \"sequential_1\"\u001b[0m\n"
      ]
     },
     "metadata": {},
     "output_type": "display_data"
    },
    {
     "data": {
      "text/html": [
       "<pre style=\"white-space:pre;overflow-x:auto;line-height:normal;font-family:Menlo,'DejaVu Sans Mono',consolas,'Courier New',monospace\">┏━━━━━━━━━━━━━━━━━━━━━━━━━━━━━━━━━┳━━━━━━━━━━━━━━━━━━━━━━━━┳━━━━━━━━━━━━━━━┓\n",
       "┃<span style=\"font-weight: bold\"> Layer (type)                    </span>┃<span style=\"font-weight: bold\"> Output Shape           </span>┃<span style=\"font-weight: bold\">       Param # </span>┃\n",
       "┡━━━━━━━━━━━━━━━━━━━━━━━━━━━━━━━━━╇━━━━━━━━━━━━━━━━━━━━━━━━╇━━━━━━━━━━━━━━━┩\n",
       "│ conv1d (<span style=\"color: #0087ff; text-decoration-color: #0087ff\">Conv1D</span>)                 │ (<span style=\"color: #00d7ff; text-decoration-color: #00d7ff\">None</span>, <span style=\"color: #00af00; text-decoration-color: #00af00\">20</span>, <span style=\"color: #00af00; text-decoration-color: #00af00\">128</span>)        │         <span style=\"color: #00af00; text-decoration-color: #00af00\">2,688</span> │\n",
       "├─────────────────────────────────┼────────────────────────┼───────────────┤\n",
       "│ conv1d_1 (<span style=\"color: #0087ff; text-decoration-color: #0087ff\">Conv1D</span>)               │ (<span style=\"color: #00d7ff; text-decoration-color: #00d7ff\">None</span>, <span style=\"color: #00af00; text-decoration-color: #00af00\">20</span>, <span style=\"color: #00af00; text-decoration-color: #00af00\">256</span>)        │       <span style=\"color: #00af00; text-decoration-color: #00af00\">655,616</span> │\n",
       "├─────────────────────────────────┼────────────────────────┼───────────────┤\n",
       "│ flatten (<span style=\"color: #0087ff; text-decoration-color: #0087ff\">Flatten</span>)               │ (<span style=\"color: #00d7ff; text-decoration-color: #00d7ff\">None</span>, <span style=\"color: #00af00; text-decoration-color: #00af00\">5120</span>)           │             <span style=\"color: #00af00; text-decoration-color: #00af00\">0</span> │\n",
       "├─────────────────────────────────┼────────────────────────┼───────────────┤\n",
       "│ dense_4 (<span style=\"color: #0087ff; text-decoration-color: #0087ff\">Dense</span>)                 │ (<span style=\"color: #00d7ff; text-decoration-color: #00d7ff\">None</span>, <span style=\"color: #00af00; text-decoration-color: #00af00\">256</span>)            │     <span style=\"color: #00af00; text-decoration-color: #00af00\">1,310,976</span> │\n",
       "├─────────────────────────────────┼────────────────────────┼───────────────┤\n",
       "│ dense_5 (<span style=\"color: #0087ff; text-decoration-color: #0087ff\">Dense</span>)                 │ (<span style=\"color: #00d7ff; text-decoration-color: #00d7ff\">None</span>, <span style=\"color: #00af00; text-decoration-color: #00af00\">6</span>)              │         <span style=\"color: #00af00; text-decoration-color: #00af00\">1,542</span> │\n",
       "└─────────────────────────────────┴────────────────────────┴───────────────┘\n",
       "</pre>\n"
      ],
      "text/plain": [
       "┏━━━━━━━━━━━━━━━━━━━━━━━━━━━━━━━━━┳━━━━━━━━━━━━━━━━━━━━━━━━┳━━━━━━━━━━━━━━━┓\n",
       "┃\u001b[1m \u001b[0m\u001b[1mLayer (type)                   \u001b[0m\u001b[1m \u001b[0m┃\u001b[1m \u001b[0m\u001b[1mOutput Shape          \u001b[0m\u001b[1m \u001b[0m┃\u001b[1m \u001b[0m\u001b[1m      Param #\u001b[0m\u001b[1m \u001b[0m┃\n",
       "┡━━━━━━━━━━━━━━━━━━━━━━━━━━━━━━━━━╇━━━━━━━━━━━━━━━━━━━━━━━━╇━━━━━━━━━━━━━━━┩\n",
       "│ conv1d (\u001b[38;5;33mConv1D\u001b[0m)                 │ (\u001b[38;5;45mNone\u001b[0m, \u001b[38;5;34m20\u001b[0m, \u001b[38;5;34m128\u001b[0m)        │         \u001b[38;5;34m2,688\u001b[0m │\n",
       "├─────────────────────────────────┼────────────────────────┼───────────────┤\n",
       "│ conv1d_1 (\u001b[38;5;33mConv1D\u001b[0m)               │ (\u001b[38;5;45mNone\u001b[0m, \u001b[38;5;34m20\u001b[0m, \u001b[38;5;34m256\u001b[0m)        │       \u001b[38;5;34m655,616\u001b[0m │\n",
       "├─────────────────────────────────┼────────────────────────┼───────────────┤\n",
       "│ flatten (\u001b[38;5;33mFlatten\u001b[0m)               │ (\u001b[38;5;45mNone\u001b[0m, \u001b[38;5;34m5120\u001b[0m)           │             \u001b[38;5;34m0\u001b[0m │\n",
       "├─────────────────────────────────┼────────────────────────┼───────────────┤\n",
       "│ dense_4 (\u001b[38;5;33mDense\u001b[0m)                 │ (\u001b[38;5;45mNone\u001b[0m, \u001b[38;5;34m256\u001b[0m)            │     \u001b[38;5;34m1,310,976\u001b[0m │\n",
       "├─────────────────────────────────┼────────────────────────┼───────────────┤\n",
       "│ dense_5 (\u001b[38;5;33mDense\u001b[0m)                 │ (\u001b[38;5;45mNone\u001b[0m, \u001b[38;5;34m6\u001b[0m)              │         \u001b[38;5;34m1,542\u001b[0m │\n",
       "└─────────────────────────────────┴────────────────────────┴───────────────┘\n"
      ]
     },
     "metadata": {},
     "output_type": "display_data"
    },
    {
     "data": {
      "text/html": [
       "<pre style=\"white-space:pre;overflow-x:auto;line-height:normal;font-family:Menlo,'DejaVu Sans Mono',consolas,'Courier New',monospace\"><span style=\"font-weight: bold\"> Total params: </span><span style=\"color: #00af00; text-decoration-color: #00af00\">1,970,822</span> (7.52 MB)\n",
       "</pre>\n"
      ],
      "text/plain": [
       "\u001b[1m Total params: \u001b[0m\u001b[38;5;34m1,970,822\u001b[0m (7.52 MB)\n"
      ]
     },
     "metadata": {},
     "output_type": "display_data"
    },
    {
     "data": {
      "text/html": [
       "<pre style=\"white-space:pre;overflow-x:auto;line-height:normal;font-family:Menlo,'DejaVu Sans Mono',consolas,'Courier New',monospace\"><span style=\"font-weight: bold\"> Trainable params: </span><span style=\"color: #00af00; text-decoration-color: #00af00\">1,970,822</span> (7.52 MB)\n",
       "</pre>\n"
      ],
      "text/plain": [
       "\u001b[1m Trainable params: \u001b[0m\u001b[38;5;34m1,970,822\u001b[0m (7.52 MB)\n"
      ]
     },
     "metadata": {},
     "output_type": "display_data"
    },
    {
     "data": {
      "text/html": [
       "<pre style=\"white-space:pre;overflow-x:auto;line-height:normal;font-family:Menlo,'DejaVu Sans Mono',consolas,'Courier New',monospace\"><span style=\"font-weight: bold\"> Non-trainable params: </span><span style=\"color: #00af00; text-decoration-color: #00af00\">0</span> (0.00 B)\n",
       "</pre>\n"
      ],
      "text/plain": [
       "\u001b[1m Non-trainable params: \u001b[0m\u001b[38;5;34m0\u001b[0m (0.00 B)\n"
      ]
     },
     "metadata": {},
     "output_type": "display_data"
    }
   ],
   "source": [
    "model_cnn.summary()"
   ]
  },
  {
   "cell_type": "code",
   "execution_count": 29,
   "metadata": {},
   "outputs": [],
   "source": [
    "optimizer = keras.optimizers.Adam(learning_rate=0.0001)\n",
    "callback = keras.callbacks.EarlyStopping(\n",
    "    verbose=1, restore_best_weights=True, patience=3)\n",
    "model_checkpoint = keras.callbacks.ModelCheckpoint(\n",
    "    filepath=\"Models/Test/cnn_best_reference.keras\", save_best_only=True)\n",
    "model_cnn.compile(optimizer=optimizer, loss='sparse_categorical_crossentropy', metrics=[\n",
    "                  'accuracy'])  # compiling model"
   ]
  },
  {
   "cell_type": "code",
   "execution_count": 30,
   "metadata": {},
   "outputs": [
    {
     "name": "stdout",
     "output_type": "stream",
     "text": [
      "Epoch 1/50\n",
      "\u001b[1m7032/7032\u001b[0m \u001b[32m━━━━━━━━━━━━━━━━━━━━\u001b[0m\u001b[37m\u001b[0m \u001b[1m142s\u001b[0m 20ms/step - accuracy: 0.9342 - loss: 0.2488 - val_accuracy: 0.9713 - val_loss: 0.1003\n",
      "Epoch 2/50\n",
      "\u001b[1m7032/7032\u001b[0m \u001b[32m━━━━━━━━━━━━━━━━━━━━\u001b[0m\u001b[37m\u001b[0m \u001b[1m142s\u001b[0m 20ms/step - accuracy: 0.9753 - loss: 0.0848 - val_accuracy: 0.9763 - val_loss: 0.0810\n",
      "Epoch 3/50\n",
      "\u001b[1m7032/7032\u001b[0m \u001b[32m━━━━━━━━━━━━━━━━━━━━\u001b[0m\u001b[37m\u001b[0m \u001b[1m142s\u001b[0m 20ms/step - accuracy: 0.9786 - loss: 0.0715 - val_accuracy: 0.9787 - val_loss: 0.0723\n",
      "Epoch 4/50\n",
      "\u001b[1m7032/7032\u001b[0m \u001b[32m━━━━━━━━━━━━━━━━━━━━\u001b[0m\u001b[37m\u001b[0m \u001b[1m142s\u001b[0m 20ms/step - accuracy: 0.9799 - loss: 0.0650 - val_accuracy: 0.9797 - val_loss: 0.0689\n",
      "Epoch 5/50\n",
      "\u001b[1m7032/7032\u001b[0m \u001b[32m━━━━━━━━━━━━━━━━━━━━\u001b[0m\u001b[37m\u001b[0m \u001b[1m142s\u001b[0m 20ms/step - accuracy: 0.9809 - loss: 0.0608 - val_accuracy: 0.9805 - val_loss: 0.0645\n",
      "Epoch 6/50\n",
      "\u001b[1m7032/7032\u001b[0m \u001b[32m━━━━━━━━━━━━━━━━━━━━\u001b[0m\u001b[37m\u001b[0m \u001b[1m142s\u001b[0m 20ms/step - accuracy: 0.9817 - loss: 0.0582 - val_accuracy: 0.9812 - val_loss: 0.0617\n",
      "Epoch 7/50\n",
      "\u001b[1m7032/7032\u001b[0m \u001b[32m━━━━━━━━━━━━━━━━━━━━\u001b[0m\u001b[37m\u001b[0m \u001b[1m142s\u001b[0m 20ms/step - accuracy: 0.9824 - loss: 0.0562 - val_accuracy: 0.9818 - val_loss: 0.0591\n",
      "Epoch 8/50\n",
      "\u001b[1m7032/7032\u001b[0m \u001b[32m━━━━━━━━━━━━━━━━━━━━\u001b[0m\u001b[37m\u001b[0m \u001b[1m142s\u001b[0m 20ms/step - accuracy: 0.9831 - loss: 0.0536 - val_accuracy: 0.9822 - val_loss: 0.0576\n",
      "Epoch 9/50\n",
      "\u001b[1m7032/7032\u001b[0m \u001b[32m━━━━━━━━━━━━━━━━━━━━\u001b[0m\u001b[37m\u001b[0m \u001b[1m142s\u001b[0m 20ms/step - accuracy: 0.9837 - loss: 0.0518 - val_accuracy: 0.9822 - val_loss: 0.0567\n",
      "Epoch 10/50\n",
      "\u001b[1m7032/7032\u001b[0m \u001b[32m━━━━━━━━━━━━━━━━━━━━\u001b[0m\u001b[37m\u001b[0m \u001b[1m142s\u001b[0m 20ms/step - accuracy: 0.9843 - loss: 0.0503 - val_accuracy: 0.9826 - val_loss: 0.0560\n",
      "Epoch 11/50\n",
      "\u001b[1m7032/7032\u001b[0m \u001b[32m━━━━━━━━━━━━━━━━━━━━\u001b[0m\u001b[37m\u001b[0m \u001b[1m142s\u001b[0m 20ms/step - accuracy: 0.9849 - loss: 0.0491 - val_accuracy: 0.9832 - val_loss: 0.0534\n",
      "Epoch 12/50\n",
      "\u001b[1m7032/7032\u001b[0m \u001b[32m━━━━━━━━━━━━━━━━━━━━\u001b[0m\u001b[37m\u001b[0m \u001b[1m142s\u001b[0m 20ms/step - accuracy: 0.9853 - loss: 0.0473 - val_accuracy: 0.9831 - val_loss: 0.0529\n",
      "Epoch 13/50\n",
      "\u001b[1m7032/7032\u001b[0m \u001b[32m━━━━━━━━━━━━━━━━━━━━\u001b[0m\u001b[37m\u001b[0m \u001b[1m142s\u001b[0m 20ms/step - accuracy: 0.9858 - loss: 0.0460 - val_accuracy: 0.9839 - val_loss: 0.0513\n",
      "Epoch 14/50\n",
      "\u001b[1m7032/7032\u001b[0m \u001b[32m━━━━━━━━━━━━━━━━━━━━\u001b[0m\u001b[37m\u001b[0m \u001b[1m142s\u001b[0m 20ms/step - accuracy: 0.9861 - loss: 0.0451 - val_accuracy: 0.9849 - val_loss: 0.0519\n",
      "Epoch 15/50\n",
      "\u001b[1m7032/7032\u001b[0m \u001b[32m━━━━━━━━━━━━━━━━━━━━\u001b[0m\u001b[37m\u001b[0m \u001b[1m142s\u001b[0m 20ms/step - accuracy: 0.9863 - loss: 0.0448 - val_accuracy: 0.9850 - val_loss: 0.0503\n",
      "Epoch 16/50\n",
      "\u001b[1m7032/7032\u001b[0m \u001b[32m━━━━━━━━━━━━━━━━━━━━\u001b[0m\u001b[37m\u001b[0m \u001b[1m145s\u001b[0m 21ms/step - accuracy: 0.9865 - loss: 0.0438 - val_accuracy: 0.9852 - val_loss: 0.0500\n",
      "Epoch 17/50\n",
      "\u001b[1m7032/7032\u001b[0m \u001b[32m━━━━━━━━━━━━━━━━━━━━\u001b[0m\u001b[37m\u001b[0m \u001b[1m166s\u001b[0m 24ms/step - accuracy: 0.9868 - loss: 0.0429 - val_accuracy: 0.9855 - val_loss: 0.0494\n",
      "Epoch 18/50\n",
      "\u001b[1m7032/7032\u001b[0m \u001b[32m━━━━━━━━━━━━━━━━━━━━\u001b[0m\u001b[37m\u001b[0m \u001b[1m145s\u001b[0m 21ms/step - accuracy: 0.9870 - loss: 0.0423 - val_accuracy: 0.9856 - val_loss: 0.0496\n",
      "Epoch 19/50\n",
      "\u001b[1m7032/7032\u001b[0m \u001b[32m━━━━━━━━━━━━━━━━━━━━\u001b[0m\u001b[37m\u001b[0m \u001b[1m144s\u001b[0m 20ms/step - accuracy: 0.9869 - loss: 0.0425 - val_accuracy: 0.9859 - val_loss: 0.0489\n",
      "Epoch 20/50\n",
      "\u001b[1m7032/7032\u001b[0m \u001b[32m━━━━━━━━━━━━━━━━━━━━\u001b[0m\u001b[37m\u001b[0m \u001b[1m143s\u001b[0m 20ms/step - accuracy: 0.9872 - loss: 0.0419 - val_accuracy: 0.9861 - val_loss: 0.0486\n",
      "Epoch 21/50\n",
      "\u001b[1m7032/7032\u001b[0m \u001b[32m━━━━━━━━━━━━━━━━━━━━\u001b[0m\u001b[37m\u001b[0m \u001b[1m145s\u001b[0m 21ms/step - accuracy: 0.9874 - loss: 0.0410 - val_accuracy: 0.9861 - val_loss: 0.0475\n",
      "Epoch 22/50\n",
      "\u001b[1m7032/7032\u001b[0m \u001b[32m━━━━━━━━━━━━━━━━━━━━\u001b[0m\u001b[37m\u001b[0m \u001b[1m143s\u001b[0m 20ms/step - accuracy: 0.9876 - loss: 0.0407 - val_accuracy: 0.9859 - val_loss: 0.0481\n",
      "Epoch 23/50\n",
      "\u001b[1m7032/7032\u001b[0m \u001b[32m━━━━━━━━━━━━━━━━━━━━\u001b[0m\u001b[37m\u001b[0m \u001b[1m143s\u001b[0m 20ms/step - accuracy: 0.9878 - loss: 0.0398 - val_accuracy: 0.9857 - val_loss: 0.0485\n",
      "Epoch 24/50\n",
      "\u001b[1m7032/7032\u001b[0m \u001b[32m━━━━━━━━━━━━━━━━━━━━\u001b[0m\u001b[37m\u001b[0m \u001b[1m143s\u001b[0m 20ms/step - accuracy: 0.9877 - loss: 0.0400 - val_accuracy: 0.9860 - val_loss: 0.0481\n",
      "Epoch 24: early stopping\n",
      "Restoring model weights from the end of the best epoch: 21.\n"
     ]
    },
    {
     "name": "stderr",
     "output_type": "stream",
     "text": [
      "WARNING:absl:You are saving your model as an HDF5 file via `model.save()` or `keras.saving.save_model(model)`. This file format is considered legacy. We recommend using instead the native Keras format, e.g. `model.save('my_model.keras')` or `keras.saving.save_model(model, 'my_model.keras')`. \n"
     ]
    }
   ],
   "source": [
    "history = model_cnn.fit(x_train_reshaped, y_train, epochs=50, batch_size=32, callbacks=[\n",
    "              early_stopping, model_checkpoint], validation_data=(x_test_reshaped, y_test))  # Fitting Model\n",
    "model_cnn.save(\"Models/Final/CNN_reference.h5\")  # Saving the model"
   ]
  },
  {
   "cell_type": "code",
   "execution_count": 31,
   "metadata": {},
   "outputs": [
    {
     "name": "stdout",
     "output_type": "stream",
     "text": [
      "Result of Prediction\n",
      "\u001b[1m2344/2344\u001b[0m \u001b[32m━━━━━━━━━━━━━━━━━━━━\u001b[0m\u001b[37m\u001b[0m \u001b[1m7s\u001b[0m 3ms/step\n",
      "[[1.8734060e-04 9.9981236e-01 1.0757112e-15 1.0029067e-07 2.5559712e-07\n",
      "  1.8269366e-09]\n",
      " [2.9535115e-02 4.2784861e-05 1.0289765e-09 4.2792527e-07 9.7042161e-01\n",
      "  2.3232436e-09]\n",
      " [9.8187281e-03 9.9017227e-01 9.9129363e-07 1.9543807e-06 4.3913760e-06\n",
      "  1.6783505e-06]\n",
      " ...\n",
      " [7.2936825e-07 9.9999923e-01 2.3345562e-18 7.8441351e-11 2.0644595e-14\n",
      "  1.3997775e-17]\n",
      " [1.1789464e-05 1.5381053e-18 9.9998802e-01 3.0919435e-13 2.6128398e-14\n",
      "  1.0786435e-07]\n",
      " [9.9999994e-01 2.0521228e-17 3.5082830e-30 3.8575515e-15 3.2869688e-12\n",
      "  3.6054441e-28]]\n",
      "predictions shape: (75000, 6)\n"
     ]
    }
   ],
   "source": [
    "print(f\"Result of Prediction\")  # Performing Predictions\n",
    "predictions = model_cnn.predict(x=x_test_reshaped)\n",
    "print(predictions)\n",
    "print(\"predictions shape:\", predictions.shape)"
   ]
  },
  {
   "cell_type": "code",
   "execution_count": 32,
   "metadata": {},
   "outputs": [
    {
     "name": "stdout",
     "output_type": "stream",
     "text": [
      "Results of Testing\n",
      "\u001b[1m2344/2344\u001b[0m \u001b[32m━━━━━━━━━━━━━━━━━━━━\u001b[0m\u001b[37m\u001b[0m \u001b[1m8s\u001b[0m 4ms/step - accuracy: 0.9857 - loss: 0.0488\n"
     ]
    },
    {
     "data": {
      "text/plain": [
       "[0.04747077077627182, 0.9861066937446594]"
      ]
     },
     "execution_count": 32,
     "metadata": {},
     "output_type": "execute_result"
    }
   ],
   "source": [
    "print(f\"Results of Testing\")  # Testing the model\n",
    "model_cnn.evaluate(x_test_reshaped, y_test)"
   ]
  },
  {
   "cell_type": "markdown",
   "metadata": {},
   "source": [
    "# Step-4: Loading and Evaluating Model"
   ]
  },
  {
   "cell_type": "code",
   "execution_count": 11,
   "metadata": {},
   "outputs": [
    {
     "name": "stderr",
     "output_type": "stream",
     "text": [
      "2025-04-16 20:45:47.065880: E external/local_xla/xla/stream_executor/cuda/cuda_platform.cc:51] failed call to cuInit: INTERNAL: CUDA error: Failed call to cuInit: CUDA_ERROR_NO_DEVICE: no CUDA-capable device is detected\n",
      "2025-04-16 20:45:47.065912: I external/local_xla/xla/stream_executor/cuda/cuda_diagnostics.cc:167] env: CUDA_VISIBLE_DEVICES=\"-1\"\n",
      "2025-04-16 20:45:47.065919: I external/local_xla/xla/stream_executor/cuda/cuda_diagnostics.cc:170] CUDA_VISIBLE_DEVICES is set to -1 - this hides all GPUs from CUDA\n",
      "2025-04-16 20:45:47.065923: I external/local_xla/xla/stream_executor/cuda/cuda_diagnostics.cc:178] verbose logging is disabled. Rerun with verbose logging (usually --v=1 or --vmodule=cuda_diagnostics=1) to get more diagnostic output from this module\n",
      "2025-04-16 20:45:47.065929: I external/local_xla/xla/stream_executor/cuda/cuda_diagnostics.cc:183] retrieving CUDA diagnostic information for host: fedora\n",
      "2025-04-16 20:45:47.065932: I external/local_xla/xla/stream_executor/cuda/cuda_diagnostics.cc:190] hostname: fedora\n",
      "2025-04-16 20:45:47.066072: I external/local_xla/xla/stream_executor/cuda/cuda_diagnostics.cc:197] libcuda reported version is: 570.133.7\n",
      "2025-04-16 20:45:47.066099: I external/local_xla/xla/stream_executor/cuda/cuda_diagnostics.cc:201] kernel reported version is: 570.133.7\n",
      "2025-04-16 20:45:47.066103: I external/local_xla/xla/stream_executor/cuda/cuda_diagnostics.cc:291] kernel version seems to match DSO: 570.133.7\n",
      "WARNING:absl:Compiled the loaded model, but the compiled metrics have yet to be built. `model.compile_metrics` will be empty until you train or evaluate the model.\n",
      "WARNING:absl:Compiled the loaded model, but the compiled metrics have yet to be built. `model.compile_metrics` will be empty until you train or evaluate the model.\n"
     ]
    }
   ],
   "source": [
    "model =  keras.models.load_model('Models/Final/DNN_reference.h5')\n",
    "model_2 = keras.models.load_model('Models/Final/CNN_reference.h5')"
   ]
  },
  {
   "cell_type": "markdown",
   "metadata": {},
   "source": [
    "#### Step-4.1: DNN"
   ]
  },
  {
   "cell_type": "code",
   "execution_count": 12,
   "metadata": {},
   "outputs": [
    {
     "name": "stdout",
     "output_type": "stream",
     "text": [
      "\u001b[1m2344/2344\u001b[0m \u001b[32m━━━━━━━━━━━━━━━━━━━━\u001b[0m\u001b[37m\u001b[0m \u001b[1m2s\u001b[0m 661us/step\n",
      "              precision    recall  f1-score   support\n",
      "\n",
      "           0       0.99      0.95      0.97     12487\n",
      "           1       0.98      1.00      0.99     12623\n",
      "           2       1.00      0.98      0.99     12463\n",
      "           3       0.99      1.00      0.99     12491\n",
      "           4       0.98      1.00      0.99     12487\n",
      "           5       0.98      1.00      0.99     12449\n",
      "\n",
      "    accuracy                           0.99     75000\n",
      "   macro avg       0.99      0.99      0.99     75000\n",
      "weighted avg       0.99      0.99      0.99     75000\n",
      "\n"
     ]
    }
   ],
   "source": [
    "y_pred = model.predict(x_test) #For DNN\n",
    "y_pred_class = np.argmax(y_pred, axis=1)\n",
    "\n",
    "# Print classification report\n",
    "print(classification_report(y_test, y_pred_class))"
   ]
  },
  {
   "cell_type": "code",
   "execution_count": 13,
   "metadata": {},
   "outputs": [
    {
     "data": {
      "image/png": "[encoded data removed]",
      "text/plain": [
       "<Figure size 800x600 with 2 Axes>"
      ]
     },
     "metadata": {},
     "output_type": "display_data"
    }
   ],
   "source": [
    "# Compute ROC curve\n",
    "# False Positive Rate, True Positive Rate\n",
    "conf_mtr = confusion_matrix(y_true=y_test, y_pred=y_pred_class)\n",
    "# Creating a heatmap for the confusion matrix\n",
    "plt.figure(figsize=(8, 6))\n",
    "sns.heatmap(conf_mtr, annot=True, cmap='Blues',\n",
    "            xticklabels=np.unique(y_test), yticklabels=np.unique(y_test))\n",
    "plt.title('Confusion Matrix')\n",
    "plt.xlabel('Predicted label')\n",
    "plt.ylabel('True label')\n",
    "plt.tight_layout()\n",
    "plt.show()"
   ]
  },
  {
   "cell_type": "code",
   "execution_count": 36,
   "metadata": {},
   "outputs": [
    {
     "data": {
      "image/png": "[encoded data removed]",
      "text/plain": [
       "<Figure size 1000x800 with 1 Axes>"
      ]
     },
     "metadata": {},
     "output_type": "display_data"
    }
   ],
   "source": [
    "lb = LabelBinarizer()\n",
    "y_test_bin = lb.fit_transform(y_test)\n",
    "\n",
    "# Plot ROC curve for each class\n",
    "plt.figure(figsize=(10, 8))\n",
    "for i, class_name in enumerate(lb.classes_):\n",
    "    RocCurveDisplay.from_predictions(\n",
    "        y_test_bin[:, i],\n",
    "        y_pred[:, i],  # Use probability scores for class i\n",
    "        name=f'ROC curve for {class_name}',\n",
    "        ax=plt.gca()\n",
    "    )\n",
    "\n",
    "\n",
    "plt.plot([0, 1], [0, 1], linestyle='--', label='No Skill')\n",
    "plt.xlabel('False Positive Rate')\n",
    "plt.ylabel('True Positive Rate')\n",
    "plt.title('Receiver Operating Characteristic (ROC) Curve')\n",
    "plt.legend()\n",
    "plt.show()"
   ]
  },
  {
   "cell_type": "markdown",
   "metadata": {},
   "source": [
    "#### Step-4.2: CNN"
   ]
  },
  {
   "cell_type": "code",
   "execution_count": 37,
   "metadata": {},
   "outputs": [
    {
     "name": "stdout",
     "output_type": "stream",
     "text": [
      "\u001b[1m2344/2344\u001b[0m \u001b[32m━━━━━━━━━━━━━━━━━━━━\u001b[0m\u001b[37m\u001b[0m \u001b[1m7s\u001b[0m 3ms/step\n",
      "              precision    recall  f1-score   support\n",
      "\n",
      "           0       0.99      0.95      0.97     12487\n",
      "           1       0.98      1.00      0.99     12623\n",
      "           2       1.00      0.98      0.99     12463\n",
      "           3       0.98      1.00      0.99     12491\n",
      "           4       0.98      1.00      0.99     12487\n",
      "           5       0.98      1.00      0.99     12449\n",
      "\n",
      "    accuracy                           0.99     75000\n",
      "   macro avg       0.99      0.99      0.99     75000\n",
      "weighted avg       0.99      0.99      0.99     75000\n",
      "\n"
     ]
    }
   ],
   "source": [
    "y_pred = model_2.predict(x_test_reshaped)  # For CNN\n",
    "y_pred_class = np.argmax(y_pred, axis=1)\n",
    "\n",
    "# Print classification report\n",
    "print(classification_report(y_test, y_pred_class))"
   ]
  },
  {
   "cell_type": "code",
   "execution_count": 38,
   "metadata": {},
   "outputs": [
    {
     "data": {
      "image/png": "[encoded data removed]",
      "text/plain": [
       "<Figure size 800x600 with 2 Axes>"
      ]
     },
     "metadata": {},
     "output_type": "display_data"
    }
   ],
   "source": [
    "conf_mtr = confusion_matrix(y_true=y_test, y_pred=y_pred_class)\n",
    "\n",
    "# Create a heatmap for the confusion matrix\n",
    "plt.figure(figsize=(8, 6))\n",
    "sns.heatmap(conf_mtr, annot=True, cmap='Blues',\n",
    "            xticklabels=np.unique(y_test), yticklabels=np.unique(y_test))\n",
    "plt.title('Confusion Matrix')\n",
    "plt.xlabel('Predicted Label')\n",
    "plt.ylabel('True Label')\n",
    "plt.tight_layout()\n",
    "plt.show()"
   ]
  },
  {
   "cell_type": "code",
   "execution_count": 39,
   "metadata": {},
   "outputs": [
    {
     "data": {
      "image/png": "[encoded data removed]",
      "text/plain": [
       "<Figure size 1000x800 with 1 Axes>"
      ]
     },
     "metadata": {},
     "output_type": "display_data"
    }
   ],
   "source": [
    "lb = LabelBinarizer()\n",
    "y_test_bin = lb.fit_transform(y_test)\n",
    "\n",
    "# Plot ROC curve for each class\n",
    "plt.figure(figsize=(10, 8))\n",
    "for i, class_name in enumerate(lb.classes_):\n",
    "    RocCurveDisplay.from_predictions(\n",
    "        y_test_bin[:, i],\n",
    "        y_pred[:, i],  # Use probability scores for class i\n",
    "        name=f'ROC curve for {class_name}',\n",
    "        ax=plt.gca()\n",
    "    )\n",
    "\n",
    "\n",
    "plt.plot([0, 1], [0, 1], linestyle='--', label='No Skill')\n",
    "plt.xlabel('False Positive Rate')\n",
    "plt.ylabel('True Positive Rate')\n",
    "plt.title('Receiver Operating Characteristic (ROC) Curve')\n",
    "plt.legend()\n",
    "plt.show()"
   ]
  }
 ],
 "metadata": {
  "kernelspec": {
   "display_name": "minorproject",
   "language": "python",
   "name": "python3"
  },
  "language_info": {
   "codemirror_mode": {
    "name": "ipython",
    "version": 3
   },
   "file_extension": ".py",
   "mimetype": "text/x-python",
   "name": "python",
   "nbconvert_exporter": "python",
   "pygments_lexer": "ipython3",
   "version": "3.11.10"
  }
 },
 "nbformat": 4,
 "nbformat_minor": 2
}
