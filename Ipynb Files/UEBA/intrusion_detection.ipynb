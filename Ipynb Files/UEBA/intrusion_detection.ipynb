{
 "cells": [
  {
   "cell_type": "markdown",
   "metadata": {},
   "source": [
    "# Step-1: Loading the Dataset"
   ]
  },
  {
   "cell_type": "code",
   "execution_count": 1,
   "metadata": {},
   "outputs": [],
   "source": [
    "import pandas as pd\n",
    "import numpy as np\n",
    "import matplotlib.pyplot as plt"
   ]
  },
  {
   "cell_type": "code",
   "execution_count": 2,
   "metadata": {},
   "outputs": [
    {
     "name": "stdout",
     "output_type": "stream",
     "text": [
      "(2830743, 79)\n",
      "    Destination Port   Flow Duration   Total Fwd Packets  \\\n",
      "0              54865               3                   2   \n",
      "1              55054             109                   1   \n",
      "2              55055              52                   1   \n",
      "3              46236              34                   1   \n",
      "4              54863               3                   2   \n",
      "\n",
      "    Total Backward Packets  Total Length of Fwd Packets  \\\n",
      "0                        0                           12   \n",
      "1                        1                            6   \n",
      "2                        1                            6   \n",
      "3                        1                            6   \n",
      "4                        0                           12   \n",
      "\n",
      "    Total Length of Bwd Packets   Fwd Packet Length Max  \\\n",
      "0                             0                       6   \n",
      "1                             6                       6   \n",
      "2                             6                       6   \n",
      "3                             6                       6   \n",
      "4                             0                       6   \n",
      "\n",
      "    Fwd Packet Length Min   Fwd Packet Length Mean   Fwd Packet Length Std  \\\n",
      "0                       6                      6.0                     0.0   \n",
      "1                       6                      6.0                     0.0   \n",
      "2                       6                      6.0                     0.0   \n",
      "3                       6                      6.0                     0.0   \n",
      "4                       6                      6.0                     0.0   \n",
      "\n",
      "   ...   min_seg_size_forward  Active Mean   Active Std   Active Max  \\\n",
      "0  ...                     20          0.0          0.0            0   \n",
      "1  ...                     20          0.0          0.0            0   \n",
      "2  ...                     20          0.0          0.0            0   \n",
      "3  ...                     20          0.0          0.0            0   \n",
      "4  ...                     20          0.0          0.0            0   \n",
      "\n",
      "    Active Min  Idle Mean   Idle Std   Idle Max   Idle Min   Label  \n",
      "0            0        0.0        0.0          0          0  BENIGN  \n",
      "1            0        0.0        0.0          0          0  BENIGN  \n",
      "2            0        0.0        0.0          0          0  BENIGN  \n",
      "3            0        0.0        0.0          0          0  BENIGN  \n",
      "4            0        0.0        0.0          0          0  BENIGN  \n",
      "\n",
      "[5 rows x 79 columns]\n"
     ]
    }
   ],
   "source": [
    "import glob \n",
    "filePaths = glob.glob(\"/home/prakhar/Desktop/College/3rdYear/SEM-VI/MinorProject/Datasets/archive-2/*.csv\")\n",
    "df_list = [pd.read_csv(file,low_memory=False) for file in filePaths]\n",
    "df=pd.concat(df_list,ignore_index=True)\n",
    "print(df.shape)\n",
    "print(df.head())"
   ]
  },
  {
   "cell_type": "code",
   "execution_count": 3,
   "metadata": {},
   "outputs": [
    {
     "data": {
      "text/plain": [
       "array(['BENIGN', 'DDoS', 'PortScan', 'Bot', 'Infiltration',\n",
       "       'Web Attack � Brute Force', 'Web Attack � XSS',\n",
       "       'Web Attack � Sql Injection', 'FTP-Patator', 'SSH-Patator',\n",
       "       'DoS slowloris', 'DoS Slowhttptest', 'DoS Hulk', 'DoS GoldenEye',\n",
       "       'Heartbleed'], dtype=object)"
      ]
     },
     "execution_count": 3,
     "metadata": {},
     "output_type": "execute_result"
    }
   ],
   "source": [
    "df.columns = df.columns.str.strip()\n",
    "df['Label'].unique()"
   ]
  },
  {
   "cell_type": "markdown",
   "metadata": {},
   "source": [
    "# Step-2: Pre-Processing"
   ]
  },
  {
   "cell_type": "code",
   "execution_count": 4,
   "metadata": {},
   "outputs": [
    {
     "data": {
      "text/plain": [
       "Destination Port                 int64\n",
       "Flow Duration                    int64\n",
       "Total Fwd Packets                int64\n",
       "Total Backward Packets           int64\n",
       "Total Length of Fwd Packets      int64\n",
       "                                ...   \n",
       "Idle Mean                      float64\n",
       "Idle Std                       float64\n",
       "Idle Max                         int64\n",
       "Idle Min                         int64\n",
       "Label                           object\n",
       "Length: 79, dtype: object"
      ]
     },
     "execution_count": 4,
     "metadata": {},
     "output_type": "execute_result"
    }
   ],
   "source": [
    "df.dtypes #Viewing Datatype"
   ]
  },
  {
   "cell_type": "code",
   "execution_count": 5,
   "metadata": {},
   "outputs": [
    {
     "name": "stdout",
     "output_type": "stream",
     "text": [
      "Columns with infinite values:\n",
      " Flow Bytes/s      1509\n",
      "Flow Packets/s    2867\n",
      "dtype: int64\n",
      "\n",
      "Columns with NaN values:\n",
      " Flow Bytes/s    1358\n",
      "dtype: int64\n",
      "\n",
      "Columns with NaN or infinite values:\n",
      " Flow Bytes/s      2867\n",
      "Flow Packets/s    2867\n",
      "dtype: int64\n",
      "\n",
      "Number of duplicate rows: 308381\n"
     ]
    }
   ],
   "source": [
    "is_inf = df.isin([np.inf, -np.inf])\n",
    "\n",
    "inf_counts = is_inf.sum()\n",
    "\n",
    "# Filter to show only columns with infinite values\n",
    "columns_with_inf = inf_counts[inf_counts > 0]\n",
    "print(\"Columns with infinite values:\\n\", columns_with_inf)\n",
    "\n",
    "nan_counts = df.isnull().sum()\n",
    "\n",
    "# Filter to show only columns with NaN values\n",
    "columns_with_nan = nan_counts[nan_counts > 0]\n",
    "print(\"\\nColumns with NaN values:\\n\", columns_with_nan)\n",
    "\n",
    "combined_counts = nan_counts + inf_counts\n",
    "\n",
    "# Filter to show only columns with any NaN or inf values\n",
    "columns_with_nan_or_inf = combined_counts[combined_counts > 0]\n",
    "print(\"\\nColumns with NaN or infinite values:\\n\", columns_with_nan_or_inf)\n",
    "\n",
    "duplicate_rows_count = df.duplicated().sum()\n",
    "print(\"\\nNumber of duplicate rows:\", duplicate_rows_count)"
   ]
  },
  {
   "cell_type": "code",
   "execution_count": 6,
   "metadata": {},
   "outputs": [],
   "source": [
    "df.replace([np.inf, -np.inf], np.nan, inplace=True) #Replacing inf values\n",
    "df.dropna(inplace=True) #Replacing NaN values\n",
    "df.drop_duplicates(inplace=True) #Removing duplicates to improve accuracy\n",
    "category_mapping = {\n",
    "    'BENIGN': 'BENIGN',\n",
    "    'Bot': 'BOTNET',\n",
    "    'DDoS': 'DOS',\n",
    "    'DoS GoldenEye': 'DOS',\n",
    "    'DoS Hulk': 'DOS',\n",
    "    'DoS Slowhttptest': 'DOS',\n",
    "    'DoS slowloris': 'DOS',\n",
    "    'FTP-Patator': 'BRUTE_FORCE',\n",
    "    'SSH-Patator': 'BRUTE_FORCE',\n",
    "    'Heartbleed': 'WEB_ATTACK',\n",
    "    'Infiltration': 'WEB_ATTACK',\n",
    "    'PortScan': 'RECONNAISSANCE',\n",
    "    'Web Attack � Brute Force': 'WEB_ATTACK',\n",
    "    'Web Attack � Sql Injection': 'WEB_ATTACK',\n",
    "    'Web Attack � XSS': 'WEB_ATTACK'\n",
    "}\n",
    "#Applying Mapping to simplify labels\n",
    "df['Label'] =df['Label'].map(category_mapping)"
   ]
  },
  {
   "cell_type": "code",
   "execution_count": 7,
   "metadata": {},
   "outputs": [
    {
     "name": "stdout",
     "output_type": "stream",
     "text": [
      "Label\n",
      "BENIGN            2095057\n",
      "DOS                321759\n",
      "RECONNAISSANCE      90694\n",
      "BRUTE_FORCE          9150\n",
      "WEB_ATTACK           2190\n",
      "BOTNET               1948\n",
      "Name: count, dtype: int64\n"
     ]
    }
   ],
   "source": [
    "print(df['Label'].value_counts())  # Before encoding"
   ]
  },
  {
   "cell_type": "code",
   "execution_count": 8,
   "metadata": {},
   "outputs": [],
   "source": [
    "from sklearn.preprocessing import LabelEncoder #After Encoding\n",
    "le = LabelEncoder()\n",
    "df['Label'] = le.fit_transform(df['Label'])"
   ]
  },
  {
   "cell_type": "code",
   "execution_count": 9,
   "metadata": {},
   "outputs": [
    {
     "name": "stdout",
     "output_type": "stream",
     "text": [
      "Label\n",
      "0    2095057\n",
      "3     321759\n",
      "4      90694\n",
      "2       9150\n",
      "5       2190\n",
      "1       1948\n",
      "Name: count, dtype: int64\n"
     ]
    }
   ],
   "source": [
    "print(df['Label'].value_counts())  # Before encoding"
   ]
  },
  {
   "cell_type": "code",
   "execution_count": 10,
   "metadata": {},
   "outputs": [
    {
     "name": "stdout",
     "output_type": "stream",
     "text": [
      "Label\n",
      "0    50000\n",
      "3    50000\n",
      "4    50000\n",
      "2     9150\n",
      "5     2190\n",
      "1     1948\n",
      "Name: count, dtype: int64\n"
     ]
    }
   ],
   "source": [
    "import pandas as pd\n",
    "\n",
    "# Get class counts\n",
    "class_counts = df['Label'].value_counts()\n",
    "\n",
    "# Select classes with more than 5000 samples\n",
    "selected_classes = class_counts[class_counts > 50000].index.tolist()\n",
    "\n",
    "# Manually include \"WEB_ATTACK\" and \"BOTNET\" if they exist in the dataset\n",
    "for attack in [1, 5, 2]:\n",
    "    if attack in df['Label'].values and attack not in selected_classes:\n",
    "        selected_classes.append(attack)\n",
    "\n",
    "# Select rows where 'Label' is in selected_classes\n",
    "selected = df[df['Label'].isin(selected_classes)]\n",
    "\n",
    "dfs = []\n",
    "for name in selected_classes:\n",
    "    df_class = selected[selected['Label'] == name]\n",
    "\n",
    "    # Downsample if the class has more than 5000 samples\n",
    "    if len(df_class) > 50000:\n",
    "        df_class = df_class.sample(n=50000, random_state=0)\n",
    "\n",
    "    dfs.append(df_class)\n",
    "\n",
    "# Combine all sampled data\n",
    "balanced_df = pd.concat(dfs, ignore_index=True)\n",
    "\n",
    "# Check final class distribution\n",
    "print(balanced_df['Label'].value_counts())"
   ]
  },
  {
   "cell_type": "code",
   "execution_count": 11,
   "metadata": {},
   "outputs": [
    {
     "data": {
      "text/html": [
       "<div>\n",
       "<style scoped>\n",
       "    .dataframe tbody tr th:only-of-type {\n",
       "        vertical-align: middle;\n",
       "    }\n",
       "\n",
       "    .dataframe tbody tr th {\n",
       "        vertical-align: top;\n",
       "    }\n",
       "\n",
       "    .dataframe thead th {\n",
       "        text-align: right;\n",
       "    }\n",
       "</style>\n",
       "<table border=\"1\" class=\"dataframe\">\n",
       "  <thead>\n",
       "    <tr style=\"text-align: right;\">\n",
       "      <th></th>\n",
       "      <th>Destination Port</th>\n",
       "      <th>Flow Duration</th>\n",
       "      <th>Total Fwd Packets</th>\n",
       "      <th>Total Backward Packets</th>\n",
       "      <th>Total Length of Fwd Packets</th>\n",
       "      <th>Total Length of Bwd Packets</th>\n",
       "      <th>Fwd Packet Length Max</th>\n",
       "      <th>Fwd Packet Length Min</th>\n",
       "      <th>Fwd Packet Length Mean</th>\n",
       "      <th>Fwd Packet Length Std</th>\n",
       "      <th>...</th>\n",
       "      <th>min_seg_size_forward</th>\n",
       "      <th>Active Mean</th>\n",
       "      <th>Active Std</th>\n",
       "      <th>Active Max</th>\n",
       "      <th>Active Min</th>\n",
       "      <th>Idle Mean</th>\n",
       "      <th>Idle Std</th>\n",
       "      <th>Idle Max</th>\n",
       "      <th>Idle Min</th>\n",
       "      <th>Label</th>\n",
       "    </tr>\n",
       "  </thead>\n",
       "  <tbody>\n",
       "    <tr>\n",
       "      <th>0</th>\n",
       "      <td>53</td>\n",
       "      <td>62874</td>\n",
       "      <td>4</td>\n",
       "      <td>2</td>\n",
       "      <td>116</td>\n",
       "      <td>186</td>\n",
       "      <td>29</td>\n",
       "      <td>29</td>\n",
       "      <td>29.000</td>\n",
       "      <td>0.000000</td>\n",
       "      <td>...</td>\n",
       "      <td>20</td>\n",
       "      <td>0.00000</td>\n",
       "      <td>0.00000</td>\n",
       "      <td>0</td>\n",
       "      <td>0</td>\n",
       "      <td>0.000</td>\n",
       "      <td>0.00000</td>\n",
       "      <td>0</td>\n",
       "      <td>0</td>\n",
       "      <td>0</td>\n",
       "    </tr>\n",
       "    <tr>\n",
       "      <th>1</th>\n",
       "      <td>57225</td>\n",
       "      <td>86</td>\n",
       "      <td>1</td>\n",
       "      <td>1</td>\n",
       "      <td>0</td>\n",
       "      <td>0</td>\n",
       "      <td>0</td>\n",
       "      <td>0</td>\n",
       "      <td>0.000</td>\n",
       "      <td>0.000000</td>\n",
       "      <td>...</td>\n",
       "      <td>32</td>\n",
       "      <td>0.00000</td>\n",
       "      <td>0.00000</td>\n",
       "      <td>0</td>\n",
       "      <td>0</td>\n",
       "      <td>0.000</td>\n",
       "      <td>0.00000</td>\n",
       "      <td>0</td>\n",
       "      <td>0</td>\n",
       "      <td>0</td>\n",
       "    </tr>\n",
       "    <tr>\n",
       "      <th>2</th>\n",
       "      <td>80</td>\n",
       "      <td>116003861</td>\n",
       "      <td>16</td>\n",
       "      <td>14</td>\n",
       "      <td>440</td>\n",
       "      <td>412</td>\n",
       "      <td>356</td>\n",
       "      <td>0</td>\n",
       "      <td>27.500</td>\n",
       "      <td>87.612784</td>\n",
       "      <td>...</td>\n",
       "      <td>20</td>\n",
       "      <td>46441.09091</td>\n",
       "      <td>31255.09835</td>\n",
       "      <td>140678</td>\n",
       "      <td>36852</td>\n",
       "      <td>9995557.727</td>\n",
       "      <td>14892.00092</td>\n",
       "      <td>10000000</td>\n",
       "      <td>9950679</td>\n",
       "      <td>0</td>\n",
       "    </tr>\n",
       "    <tr>\n",
       "      <th>3</th>\n",
       "      <td>443</td>\n",
       "      <td>5683083</td>\n",
       "      <td>8</td>\n",
       "      <td>6</td>\n",
       "      <td>397</td>\n",
       "      <td>3716</td>\n",
       "      <td>216</td>\n",
       "      <td>0</td>\n",
       "      <td>49.625</td>\n",
       "      <td>79.224703</td>\n",
       "      <td>...</td>\n",
       "      <td>20</td>\n",
       "      <td>269399.00000</td>\n",
       "      <td>0.00000</td>\n",
       "      <td>269399</td>\n",
       "      <td>269399</td>\n",
       "      <td>5413681.000</td>\n",
       "      <td>0.00000</td>\n",
       "      <td>5413681</td>\n",
       "      <td>5413681</td>\n",
       "      <td>0</td>\n",
       "    </tr>\n",
       "    <tr>\n",
       "      <th>4</th>\n",
       "      <td>53</td>\n",
       "      <td>23652</td>\n",
       "      <td>1</td>\n",
       "      <td>1</td>\n",
       "      <td>48</td>\n",
       "      <td>128</td>\n",
       "      <td>48</td>\n",
       "      <td>48</td>\n",
       "      <td>48.000</td>\n",
       "      <td>0.000000</td>\n",
       "      <td>...</td>\n",
       "      <td>20</td>\n",
       "      <td>0.00000</td>\n",
       "      <td>0.00000</td>\n",
       "      <td>0</td>\n",
       "      <td>0</td>\n",
       "      <td>0.000</td>\n",
       "      <td>0.00000</td>\n",
       "      <td>0</td>\n",
       "      <td>0</td>\n",
       "      <td>0</td>\n",
       "    </tr>\n",
       "  </tbody>\n",
       "</table>\n",
       "<p>5 rows × 79 columns</p>\n",
       "</div>"
      ],
      "text/plain": [
       "   Destination Port  Flow Duration  Total Fwd Packets  Total Backward Packets  \\\n",
       "0                53          62874                  4                       2   \n",
       "1             57225             86                  1                       1   \n",
       "2                80      116003861                 16                      14   \n",
       "3               443        5683083                  8                       6   \n",
       "4                53          23652                  1                       1   \n",
       "\n",
       "   Total Length of Fwd Packets  Total Length of Bwd Packets  \\\n",
       "0                          116                          186   \n",
       "1                            0                            0   \n",
       "2                          440                          412   \n",
       "3                          397                         3716   \n",
       "4                           48                          128   \n",
       "\n",
       "   Fwd Packet Length Max  Fwd Packet Length Min  Fwd Packet Length Mean  \\\n",
       "0                     29                     29                  29.000   \n",
       "1                      0                      0                   0.000   \n",
       "2                    356                      0                  27.500   \n",
       "3                    216                      0                  49.625   \n",
       "4                     48                     48                  48.000   \n",
       "\n",
       "   Fwd Packet Length Std  ...  min_seg_size_forward   Active Mean  \\\n",
       "0               0.000000  ...                    20       0.00000   \n",
       "1               0.000000  ...                    32       0.00000   \n",
       "2              87.612784  ...                    20   46441.09091   \n",
       "3              79.224703  ...                    20  269399.00000   \n",
       "4               0.000000  ...                    20       0.00000   \n",
       "\n",
       "    Active Std  Active Max  Active Min    Idle Mean     Idle Std  Idle Max  \\\n",
       "0      0.00000           0           0        0.000      0.00000         0   \n",
       "1      0.00000           0           0        0.000      0.00000         0   \n",
       "2  31255.09835      140678       36852  9995557.727  14892.00092  10000000   \n",
       "3      0.00000      269399      269399  5413681.000      0.00000   5413681   \n",
       "4      0.00000           0           0        0.000      0.00000         0   \n",
       "\n",
       "   Idle Min  Label  \n",
       "0         0      0  \n",
       "1         0      0  \n",
       "2   9950679      0  \n",
       "3   5413681      0  \n",
       "4         0      0  \n",
       "\n",
       "[5 rows x 79 columns]"
      ]
     },
     "execution_count": 11,
     "metadata": {},
     "output_type": "execute_result"
    }
   ],
   "source": [
    "balanced_df.head()"
   ]
  },
  {
   "cell_type": "code",
   "execution_count": 12,
   "metadata": {},
   "outputs": [
    {
     "name": "stdout",
     "output_type": "stream",
     "text": [
      "Label\n",
      "3    50000\n",
      "0    50000\n",
      "2    50000\n",
      "5    50000\n",
      "1    50000\n",
      "4    50000\n",
      "Name: count, dtype: int64\n"
     ]
    },
    {
     "data": {
      "text/html": [
       "<div>\n",
       "<style scoped>\n",
       "    .dataframe tbody tr th:only-of-type {\n",
       "        vertical-align: middle;\n",
       "    }\n",
       "\n",
       "    .dataframe tbody tr th {\n",
       "        vertical-align: top;\n",
       "    }\n",
       "\n",
       "    .dataframe thead th {\n",
       "        text-align: right;\n",
       "    }\n",
       "</style>\n",
       "<table border=\"1\" class=\"dataframe\">\n",
       "  <thead>\n",
       "    <tr style=\"text-align: right;\">\n",
       "      <th></th>\n",
       "      <th>Destination Port</th>\n",
       "      <th>Flow Duration</th>\n",
       "      <th>Total Fwd Packets</th>\n",
       "      <th>Total Backward Packets</th>\n",
       "      <th>Total Length of Fwd Packets</th>\n",
       "      <th>Total Length of Bwd Packets</th>\n",
       "      <th>Fwd Packet Length Max</th>\n",
       "      <th>Fwd Packet Length Min</th>\n",
       "      <th>Fwd Packet Length Mean</th>\n",
       "      <th>Fwd Packet Length Std</th>\n",
       "      <th>...</th>\n",
       "      <th>min_seg_size_forward</th>\n",
       "      <th>Active Mean</th>\n",
       "      <th>Active Std</th>\n",
       "      <th>Active Max</th>\n",
       "      <th>Active Min</th>\n",
       "      <th>Idle Mean</th>\n",
       "      <th>Idle Std</th>\n",
       "      <th>Idle Max</th>\n",
       "      <th>Idle Min</th>\n",
       "      <th>Label</th>\n",
       "    </tr>\n",
       "  </thead>\n",
       "  <tbody>\n",
       "    <tr>\n",
       "      <th>96267</th>\n",
       "      <td>80</td>\n",
       "      <td>85813201</td>\n",
       "      <td>6</td>\n",
       "      <td>7</td>\n",
       "      <td>319</td>\n",
       "      <td>11595</td>\n",
       "      <td>319</td>\n",
       "      <td>0</td>\n",
       "      <td>53.166667</td>\n",
       "      <td>130.231205</td>\n",
       "      <td>...</td>\n",
       "      <td>32</td>\n",
       "      <td>4.0</td>\n",
       "      <td>0.0</td>\n",
       "      <td>4</td>\n",
       "      <td>4</td>\n",
       "      <td>85700000.0</td>\n",
       "      <td>0.0</td>\n",
       "      <td>85700000</td>\n",
       "      <td>85700000</td>\n",
       "      <td>3</td>\n",
       "    </tr>\n",
       "    <tr>\n",
       "      <th>22763</th>\n",
       "      <td>54817</td>\n",
       "      <td>3</td>\n",
       "      <td>2</td>\n",
       "      <td>0</td>\n",
       "      <td>12</td>\n",
       "      <td>0</td>\n",
       "      <td>6</td>\n",
       "      <td>6</td>\n",
       "      <td>6.000000</td>\n",
       "      <td>0.000000</td>\n",
       "      <td>...</td>\n",
       "      <td>20</td>\n",
       "      <td>0.0</td>\n",
       "      <td>0.0</td>\n",
       "      <td>0</td>\n",
       "      <td>0</td>\n",
       "      <td>0.0</td>\n",
       "      <td>0.0</td>\n",
       "      <td>0</td>\n",
       "      <td>0</td>\n",
       "      <td>0</td>\n",
       "    </tr>\n",
       "    <tr>\n",
       "      <th>221387</th>\n",
       "      <td>21</td>\n",
       "      <td>259</td>\n",
       "      <td>2</td>\n",
       "      <td>1</td>\n",
       "      <td>14</td>\n",
       "      <td>0</td>\n",
       "      <td>14</td>\n",
       "      <td>0</td>\n",
       "      <td>7.000000</td>\n",
       "      <td>9.899495</td>\n",
       "      <td>...</td>\n",
       "      <td>32</td>\n",
       "      <td>0.0</td>\n",
       "      <td>0.0</td>\n",
       "      <td>0</td>\n",
       "      <td>0</td>\n",
       "      <td>0.0</td>\n",
       "      <td>0.0</td>\n",
       "      <td>0</td>\n",
       "      <td>0</td>\n",
       "      <td>2</td>\n",
       "    </tr>\n",
       "    <tr>\n",
       "      <th>279392</th>\n",
       "      <td>80</td>\n",
       "      <td>5620616</td>\n",
       "      <td>3</td>\n",
       "      <td>1</td>\n",
       "      <td>0</td>\n",
       "      <td>0</td>\n",
       "      <td>0</td>\n",
       "      <td>0</td>\n",
       "      <td>0.000000</td>\n",
       "      <td>0.000000</td>\n",
       "      <td>...</td>\n",
       "      <td>32</td>\n",
       "      <td>0.0</td>\n",
       "      <td>0.0</td>\n",
       "      <td>0</td>\n",
       "      <td>0</td>\n",
       "      <td>0.0</td>\n",
       "      <td>0.0</td>\n",
       "      <td>0</td>\n",
       "      <td>0</td>\n",
       "      <td>5</td>\n",
       "    </tr>\n",
       "    <tr>\n",
       "      <th>172975</th>\n",
       "      <td>8080</td>\n",
       "      <td>996551</td>\n",
       "      <td>3</td>\n",
       "      <td>3</td>\n",
       "      <td>0</td>\n",
       "      <td>18</td>\n",
       "      <td>0</td>\n",
       "      <td>0</td>\n",
       "      <td>0.000000</td>\n",
       "      <td>0.000000</td>\n",
       "      <td>...</td>\n",
       "      <td>28</td>\n",
       "      <td>0.0</td>\n",
       "      <td>0.0</td>\n",
       "      <td>0</td>\n",
       "      <td>0</td>\n",
       "      <td>0.0</td>\n",
       "      <td>0.0</td>\n",
       "      <td>0</td>\n",
       "      <td>0</td>\n",
       "      <td>1</td>\n",
       "    </tr>\n",
       "  </tbody>\n",
       "</table>\n",
       "<p>5 rows × 79 columns</p>\n",
       "</div>"
      ],
      "text/plain": [
       "        Destination Port  Flow Duration  Total Fwd Packets  \\\n",
       "96267                 80       85813201                  6   \n",
       "22763              54817              3                  2   \n",
       "221387                21            259                  2   \n",
       "279392                80        5620616                  3   \n",
       "172975              8080         996551                  3   \n",
       "\n",
       "        Total Backward Packets  Total Length of Fwd Packets  \\\n",
       "96267                        7                          319   \n",
       "22763                        0                           12   \n",
       "221387                       1                           14   \n",
       "279392                       1                            0   \n",
       "172975                       3                            0   \n",
       "\n",
       "        Total Length of Bwd Packets  Fwd Packet Length Max  \\\n",
       "96267                         11595                    319   \n",
       "22763                             0                      6   \n",
       "221387                            0                     14   \n",
       "279392                            0                      0   \n",
       "172975                           18                      0   \n",
       "\n",
       "        Fwd Packet Length Min  Fwd Packet Length Mean  Fwd Packet Length Std  \\\n",
       "96267                       0               53.166667             130.231205   \n",
       "22763                       6                6.000000               0.000000   \n",
       "221387                      0                7.000000               9.899495   \n",
       "279392                      0                0.000000               0.000000   \n",
       "172975                      0                0.000000               0.000000   \n",
       "\n",
       "        ...  min_seg_size_forward  Active Mean  Active Std  Active Max  \\\n",
       "96267   ...                    32          4.0         0.0           4   \n",
       "22763   ...                    20          0.0         0.0           0   \n",
       "221387  ...                    32          0.0         0.0           0   \n",
       "279392  ...                    32          0.0         0.0           0   \n",
       "172975  ...                    28          0.0         0.0           0   \n",
       "\n",
       "        Active Min   Idle Mean  Idle Std  Idle Max  Idle Min  Label  \n",
       "96267            4  85700000.0       0.0  85700000  85700000      3  \n",
       "22763            0         0.0       0.0         0         0      0  \n",
       "221387           0         0.0       0.0         0         0      2  \n",
       "279392           0         0.0       0.0         0         0      5  \n",
       "172975           0         0.0       0.0         0         0      1  \n",
       "\n",
       "[5 rows x 79 columns]"
      ]
     },
     "execution_count": 12,
     "metadata": {},
     "output_type": "execute_result"
    }
   ],
   "source": [
    "from imblearn.over_sampling import SMOTE\n",
    "\n",
    "x = balanced_df.drop('Label', axis=1)\n",
    "y = balanced_df['Label']\n",
    "\n",
    "smote = SMOTE(sampling_strategy='auto', random_state=0)\n",
    "X_upsampled, y_upsampled = smote.fit_resample(x, y)\n",
    "\n",
    "blnc_data = pd.DataFrame(X_upsampled)\n",
    "blnc_data['Label'] = y_upsampled\n",
    "blnc_data = blnc_data.sample(frac=1)\n",
    "\n",
    "print(blnc_data['Label'].value_counts())\n",
    "blnc_data.head()"
   ]
  },
  {
   "cell_type": "code",
   "execution_count": 13,
   "metadata": {},
   "outputs": [
    {
     "name": "stdout",
     "output_type": "stream",
     "text": [
      "Explained Variance Ratio: 0.9314\n"
     ]
    }
   ],
   "source": [
    "from sklearn.decomposition import IncrementalPCA\n",
    "from sklearn.preprocessing import StandardScaler\n",
    "x = blnc_data.drop('Label',axis=1)\n",
    "y = blnc_data['Label']\n",
    "\n",
    "scaler = StandardScaler()\n",
    "X_scaled = scaler.fit_transform(x)\n",
    "n_components = 20\n",
    "ipca = IncrementalPCA(n_components=n_components, batch_size=500)\n",
    "x_pca = ipca.fit_transform(X_scaled) \n",
    "print(f\"Explained Variance Ratio: {sum(ipca.explained_variance_ratio_):.4f}\")\n",
    "x = x_pca"
   ]
  },
  {
   "cell_type": "code",
   "execution_count": 14,
   "metadata": {},
   "outputs": [
    {
     "name": "stdout",
     "output_type": "stream",
     "text": [
      "             PC1       PC2       PC3       PC4       PC5       PC6       PC7  \\\n",
      "0       9.379800 -1.017785 -0.329970  0.997233 -1.339367 -1.051175  0.196905   \n",
      "1      -2.038059 -0.205476 -0.869869  0.789847 -1.097982 -5.029906  0.807757   \n",
      "2      -1.641709 -0.181755 -1.090432  0.475754 -0.635095 -3.132271  0.988217   \n",
      "3      -1.529498 -0.121807 -0.474504 -0.134633  0.231976  1.935559  0.154752   \n",
      "4      -1.805706 -0.052927 -0.083048 -0.040924  0.072483  0.646475 -0.219285   \n",
      "...          ...       ...       ...       ...       ...       ...       ...   \n",
      "299995 -1.984103 -0.024942  0.073328 -0.066094  0.097401  1.096866 -0.116713   \n",
      "299996 -1.055640  0.350216  0.586640 -0.470618  0.687411  1.162520 -0.219952   \n",
      "299997 -1.661999 -0.149434 -0.712333  0.328230 -0.431758 -1.063399  0.264804   \n",
      "299998 -0.204051  0.139832  1.569397  0.263164 -0.428468  0.867197 -0.057815   \n",
      "299999 -1.868631 -0.190460 -0.601571  0.558574 -0.775902 -3.356985  0.090546   \n",
      "\n",
      "             PC8       PC9      PC10      PC11      PC12      PC13      PC14  \\\n",
      "0       0.218773 -1.832669 -0.896332 -2.233873 -0.014148  0.484179  0.191550   \n",
      "1      -3.374656  0.559223  3.485334 -0.569684  0.025440  0.084812  0.988046   \n",
      "2       0.272552 -2.707562 -2.120012  4.645783 -0.006369 -1.154922  0.313489   \n",
      "3      -0.493320 -1.304879 -0.055115 -0.334060 -0.031876  0.067999  0.225433   \n",
      "4       0.045923  0.315018  0.074208 -0.045323 -0.009944  0.015234 -0.131138   \n",
      "...          ...       ...       ...       ...       ...       ...       ...   \n",
      "299995 -0.299282  0.207769  0.374389 -0.028620 -0.009526  0.016067  0.047988   \n",
      "299996 -0.333260  0.117860  0.121983  0.119702 -0.013782 -0.017080 -0.139742   \n",
      "299997 -0.059026 -0.875768 -0.448787 -0.886474 -0.025309  0.230101 -0.957080   \n",
      "299998  0.362895 -0.245059  0.359396  0.548755 -0.014638 -0.129011  0.164146   \n",
      "299999 -0.365327  0.770967 -0.027397 -1.589697 -0.005388  0.414540 -1.494747   \n",
      "\n",
      "            PC15      PC16      PC17      PC18      PC19      PC20  \n",
      "0      -0.649666 -0.577664 -1.950672  0.264072  0.803783  0.940440  \n",
      "1      -1.943640 -0.384321  0.985490 -0.677977  1.154256 -1.117077  \n",
      "2       0.084591  0.408773 -0.499839  0.105572 -0.549608  0.276422  \n",
      "3      -0.681511 -0.372177  1.167482 -1.016684 -0.336989  0.239187  \n",
      "4       0.397866  0.110977 -0.736445  0.478225  0.248577 -0.260616  \n",
      "...          ...       ...       ...       ...       ...       ...  \n",
      "299995 -0.015760  0.140115 -0.712412  0.517735  0.018557  0.179142  \n",
      "299996  0.085436  0.134562 -0.580894  0.594093  0.151060  0.258481  \n",
      "299997  1.558253  0.021607  0.978929 -0.543625 -0.043540  0.223948  \n",
      "299998  0.078075 -0.025881 -0.011731 -0.053103  0.228086 -0.491271  \n",
      "299999  2.588719 -0.242634  0.762196 -0.608086  0.291441  0.037453  \n",
      "\n",
      "[300000 rows x 20 columns]\n"
     ]
    }
   ],
   "source": [
    "pca_df = pd.DataFrame(x, columns=[f'PC{i+1}' for i in range(x.shape[1])])\n",
    "print(pca_df)"
   ]
  },
  {
   "cell_type": "code",
   "execution_count": 15,
   "metadata": {},
   "outputs": [
    {
     "data": {
      "text/plain": [
       "(300000, 20)"
      ]
     },
     "execution_count": 15,
     "metadata": {},
     "output_type": "execute_result"
    }
   ],
   "source": [
    "pca_df.shape"
   ]
  },
  {
   "cell_type": "code",
   "execution_count": 16,
   "metadata": {},
   "outputs": [],
   "source": [
    "from sklearn.model_selection import train_test_split\n",
    "x_train,x_test,y_train,y_test = train_test_split(x,y,test_size=0.25,shuffle=True)"
   ]
  },
  {
   "cell_type": "markdown",
   "metadata": {},
   "source": [
    "# Step-3: Applying Classifier Algorithms"
   ]
  },
  {
   "cell_type": "code",
   "execution_count": 17,
   "metadata": {},
   "outputs": [],
   "source": [
    "from sklearn.metrics import classification_report\n",
    "from sklearn.metrics import confusion_matrix\n",
    "import seaborn as sns\n",
    "from sklearn.model_selection import cross_val_score\n",
    "from sklearn.preprocessing import LabelBinarizer\n",
    "from sklearn.metrics import RocCurveDisplay"
   ]
  },
  {
   "cell_type": "markdown",
   "metadata": {},
   "source": [
    "#### Step-3.1: Applying Random Forest"
   ]
  },
  {
   "cell_type": "code",
   "execution_count": null,
   "metadata": {},
   "outputs": [],
   "source": [
    "from sklearn.ensemble import RandomForestClassifier #Importing Random Forest classifier\n",
    "rf = RandomForestClassifier(n_estimators=1,max_depth=7,random_state=42)\n",
    "rf.fit(x_train,y_train)\n",
    "y_pred = rf.predict(x_test) #Performing Random Forest"
   ]
  },
  {
   "cell_type": "code",
   "execution_count": null,
   "metadata": {},
   "outputs": [],
   "source": [
    "print(classification_report(y_test, y_pred)) #Printing Classification Report\n",
    "class_indices = rf.classes_\n",
    "print(class_indices)"
   ]
  },
  {
   "cell_type": "code",
   "execution_count": null,
   "metadata": {},
   "outputs": [],
   "source": [
    "cv_rf = cross_val_score(rf, x_train, y_train, cv=5)\n",
    "print(f'\\nCross-validation scores:', ', '.join(map(str, cv_rf)))\n",
    "print(f'\\nMean cross-validation score: {cv_rf.mean():.2f}')"
   ]
  },
  {
   "cell_type": "code",
   "execution_count": null,
   "metadata": {},
   "outputs": [],
   "source": [
    "print(rf.score(x_train,y_train)) #RF Score x_train,y_train"
   ]
  },
  {
   "cell_type": "code",
   "execution_count": null,
   "metadata": {},
   "outputs": [],
   "source": [
    "print(rf.score(x_test, y_test)) #RF Score x_test,y_test"
   ]
  },
  {
   "cell_type": "code",
   "execution_count": null,
   "metadata": {},
   "outputs": [],
   "source": [
    "# Compute ROC curve\n",
    "# False Positive Rate, True Positive Rate\n",
    "conf_mtr = confusion_matrix(y_true=y_test,y_pred=y_pred)\n",
    "# Creating a heatmap for the confusion matrix\n",
    "plt.figure(figsize=(8, 6))\n",
    "sns.heatmap(conf_mtr, annot=True, cmap='Blues',\n",
    "            xticklabels=rf.classes_, yticklabels=rf.classes_)\n",
    "plt.title('Confusion Matrix')\n",
    "plt.xlabel('Predicted label')\n",
    "plt.ylabel('True label')\n",
    "plt.tight_layout()\n",
    "plt.show()"
   ]
  },
  {
   "cell_type": "code",
   "execution_count": null,
   "metadata": {},
   "outputs": [],
   "source": [
    "lb = LabelBinarizer()\n",
    "y_test_bin = lb.fit_transform(y_test)\n",
    "\n",
    "# Plot ROC curve for each class\n",
    "plt.figure(figsize=(10, 8))\n",
    "for i, class_name in enumerate(lb.classes_):\n",
    "    y_score = rf.predict_proba(x_test)[:, i]\n",
    "    RocCurveDisplay.from_predictions(\n",
    "        y_test_bin[:, i],\n",
    "        y_score,\n",
    "        name=f'ROC curve for {class_name}',\n",
    "        ax=plt.gca()\n",
    "    )\n",
    "\n",
    "plt.plot([0, 1], [0, 1], linestyle='--', label='No Skill')\n",
    "plt.xlabel('False Positive Rate')\n",
    "plt.ylabel('True Positive Rate')\n",
    "plt.title('Receiver Operating Characteristic (ROC) Curve')\n",
    "plt.legend()\n",
    "plt.show()"
   ]
  },
  {
   "cell_type": "markdown",
   "metadata": {},
   "source": [
    "#### Step-3.2: Applying KNN"
   ]
  },
  {
   "cell_type": "code",
   "execution_count": null,
   "metadata": {},
   "outputs": [],
   "source": [
    "from sklearn.neighbors import KNeighborsClassifier #Importing KNN\n",
    "knn = KNeighborsClassifier(n_neighbors= 100) #Changing Value Manually (Due to Performance Reasons)\n",
    "\n",
    "knn.fit(x_train, y_train)\n",
    "y_pred = knn.predict(x_test)  # Performing Random Forest"
   ]
  },
  {
   "cell_type": "code",
   "execution_count": null,
   "metadata": {},
   "outputs": [],
   "source": [
    "print(classification_report(y_test, y_pred)) #Printing Classification Report"
   ]
  },
  {
   "cell_type": "code",
   "execution_count": null,
   "metadata": {},
   "outputs": [],
   "source": [
    "cv_knn = cross_val_score(knn, x_train, y_train, cv=5)\n",
    "print(f'\\nCross-validation scores:', ', '.join(map(str, cv_knn)))\n",
    "print(f'\\nMean cross-validation score: {cv_knn.mean():.2f}')"
   ]
  },
  {
   "cell_type": "code",
   "execution_count": null,
   "metadata": {},
   "outputs": [],
   "source": [
    "print(knn.score(x_train, y_train)) #RF Score x_train,y_train"
   ]
  },
  {
   "cell_type": "code",
   "execution_count": null,
   "metadata": {},
   "outputs": [],
   "source": [
    "print(knn.score(x_test, y_test)) #RF Score x_train,y_train"
   ]
  },
  {
   "cell_type": "code",
   "execution_count": null,
   "metadata": {},
   "outputs": [],
   "source": [
    "# Compute Confusion Matrix\n",
    "# False Positive Rate, True Positive Rate\n",
    "conf_mtr = confusion_matrix(y_true=y_test, y_pred=y_pred)\n",
    "# Creating a heatmap for the confusion matrix\n",
    "plt.figure(figsize=(8, 6))\n",
    "sns.heatmap(conf_mtr, annot=True, cmap='Blues',\n",
    "            xticklabels=rf.classes_, yticklabels=rf.classes_)\n",
    "plt.title('Confusion Matrix')\n",
    "plt.xlabel('Predicted label')\n",
    "plt.ylabel('True label')\n",
    "plt.tight_layout()\n",
    "plt.show()"
   ]
  },
  {
   "cell_type": "code",
   "execution_count": null,
   "metadata": {},
   "outputs": [],
   "source": [
    "lb = LabelBinarizer()\n",
    "y_test_bin = lb.fit_transform(y_test)\n",
    "\n",
    "# Plot ROC curve for each class\n",
    "plt.figure(figsize=(10, 8))\n",
    "for i, class_name in enumerate(lb.classes_):\n",
    "    y_score = rf.predict_proba(x_test)[:, i]\n",
    "    RocCurveDisplay.from_predictions(\n",
    "        y_test_bin[:, i],\n",
    "        y_score,\n",
    "        name=f'ROC curve for {class_name}',\n",
    "        ax=plt.gca()\n",
    "    )\n",
    "\n",
    "plt.plot([0, 1], [0, 1], linestyle='--', label='No Skill')\n",
    "plt.xlabel('False Positive Rate')\n",
    "plt.ylabel('True Positive Rate')\n",
    "plt.title('Receiver Operating Characteristic (ROC) Curve')\n",
    "plt.legend()\n",
    "plt.show()"
   ]
  },
  {
   "cell_type": "markdown",
   "metadata": {},
   "source": [
    "#### Step-3.3: Applying DNN"
   ]
  },
  {
   "cell_type": "code",
   "execution_count": 18,
   "metadata": {},
   "outputs": [
    {
     "name": "stderr",
     "output_type": "stream",
     "text": [
      "2025-03-17 23:42:37.405784: I external/local_xla/xla/tsl/cuda/cudart_stub.cc:32] Could not find cuda drivers on your machine, GPU will not be used.\n",
      "2025-03-17 23:42:37.417585: I external/local_xla/xla/tsl/cuda/cudart_stub.cc:32] Could not find cuda drivers on your machine, GPU will not be used.\n",
      "2025-03-17 23:42:37.425507: E external/local_xla/xla/stream_executor/cuda/cuda_fft.cc:477] Unable to register cuFFT factory: Attempting to register factory for plugin cuFFT when one has already been registered\n",
      "WARNING: All log messages before absl::InitializeLog() is called are written to STDERR\n",
      "E0000 00:00:1742235157.438163    9031 cuda_dnn.cc:8310] Unable to register cuDNN factory: Attempting to register factory for plugin cuDNN when one has already been registered\n",
      "E0000 00:00:1742235157.441838    9031 cuda_blas.cc:1418] Unable to register cuBLAS factory: Attempting to register factory for plugin cuBLAS when one has already been registered\n",
      "2025-03-17 23:42:37.455155: I tensorflow/core/platform/cpu_feature_guard.cc:210] This TensorFlow binary is optimized to use available CPU instructions in performance-critical operations.\n",
      "To enable the following instructions: AVX2 FMA, in other operations, rebuild TensorFlow with the appropriate compiler flags.\n"
     ]
    }
   ],
   "source": [
    "import tensorflow as tf\n",
    "import keras\n",
    "from keras import layers"
   ]
  },
  {
   "cell_type": "code",
   "execution_count": 19,
   "metadata": {},
   "outputs": [
    {
     "name": "stderr",
     "output_type": "stream",
     "text": [
      "W0000 00:00:1742235160.599957    9031 gpu_device.cc:2344] Cannot dlopen some GPU libraries. Please make sure the missing libraries mentioned above are installed properly if you would like to use GPU. Follow the guide at https://www.tensorflow.org/install/gpu for how to download and setup the required libraries for your platform.\n",
      "Skipping registering GPU devices...\n"
     ]
    }
   ],
   "source": [
    "model = keras.Sequential()\n",
    "model.add(layers.Input(shape=(x_train.shape[1],)))  # Input layer\n",
    "\n",
    "model.add(layers.Dense(128,activation='relu'))  # Hidden layer\n",
    "model.add(layers.Dropout(0.1))  # Dropout layer\n",
    "\n",
    "model.add(layers.Dense(256, activation='relu'))  # Hidden layer\n",
    "model.add(layers.Dropout(0.1))  # Dropout layer\n",
    "\n",
    "model.add(layers.Dense(128, activation='relu'))  # Hidden layer\n",
    "model.add(layers.Dropout(0.1))  # Dropout layer\n",
    "\n",
    "model.add(layers.Dense(6, activation='softmax'))  # Output layer"
   ]
  },
  {
   "cell_type": "code",
   "execution_count": 20,
   "metadata": {},
   "outputs": [
    {
     "data": {
      "text/html": [
       "<pre style=\"white-space:pre;overflow-x:auto;line-height:normal;font-family:Menlo,'DejaVu Sans Mono',consolas,'Courier New',monospace\"><span style=\"font-weight: bold\">Model: \"sequential\"</span>\n",
       "</pre>\n"
      ],
      "text/plain": [
       "\u001b[1mModel: \"sequential\"\u001b[0m\n"
      ]
     },
     "metadata": {},
     "output_type": "display_data"
    },
    {
     "data": {
      "text/html": [
       "<pre style=\"white-space:pre;overflow-x:auto;line-height:normal;font-family:Menlo,'DejaVu Sans Mono',consolas,'Courier New',monospace\">┏━━━━━━━━━━━━━━━━━━━━━━━━━━━━━━━━━┳━━━━━━━━━━━━━━━━━━━━━━━━┳━━━━━━━━━━━━━━━┓\n",
       "┃<span style=\"font-weight: bold\"> Layer (type)                    </span>┃<span style=\"font-weight: bold\"> Output Shape           </span>┃<span style=\"font-weight: bold\">       Param # </span>┃\n",
       "┡━━━━━━━━━━━━━━━━━━━━━━━━━━━━━━━━━╇━━━━━━━━━━━━━━━━━━━━━━━━╇━━━━━━━━━━━━━━━┩\n",
       "│ dense (<span style=\"color: #0087ff; text-decoration-color: #0087ff\">Dense</span>)                   │ (<span style=\"color: #00d7ff; text-decoration-color: #00d7ff\">None</span>, <span style=\"color: #00af00; text-decoration-color: #00af00\">128</span>)            │         <span style=\"color: #00af00; text-decoration-color: #00af00\">2,688</span> │\n",
       "├─────────────────────────────────┼────────────────────────┼───────────────┤\n",
       "│ dropout (<span style=\"color: #0087ff; text-decoration-color: #0087ff\">Dropout</span>)               │ (<span style=\"color: #00d7ff; text-decoration-color: #00d7ff\">None</span>, <span style=\"color: #00af00; text-decoration-color: #00af00\">128</span>)            │             <span style=\"color: #00af00; text-decoration-color: #00af00\">0</span> │\n",
       "├─────────────────────────────────┼────────────────────────┼───────────────┤\n",
       "│ dense_1 (<span style=\"color: #0087ff; text-decoration-color: #0087ff\">Dense</span>)                 │ (<span style=\"color: #00d7ff; text-decoration-color: #00d7ff\">None</span>, <span style=\"color: #00af00; text-decoration-color: #00af00\">256</span>)            │        <span style=\"color: #00af00; text-decoration-color: #00af00\">33,024</span> │\n",
       "├─────────────────────────────────┼────────────────────────┼───────────────┤\n",
       "│ dropout_1 (<span style=\"color: #0087ff; text-decoration-color: #0087ff\">Dropout</span>)             │ (<span style=\"color: #00d7ff; text-decoration-color: #00d7ff\">None</span>, <span style=\"color: #00af00; text-decoration-color: #00af00\">256</span>)            │             <span style=\"color: #00af00; text-decoration-color: #00af00\">0</span> │\n",
       "├─────────────────────────────────┼────────────────────────┼───────────────┤\n",
       "│ dense_2 (<span style=\"color: #0087ff; text-decoration-color: #0087ff\">Dense</span>)                 │ (<span style=\"color: #00d7ff; text-decoration-color: #00d7ff\">None</span>, <span style=\"color: #00af00; text-decoration-color: #00af00\">128</span>)            │        <span style=\"color: #00af00; text-decoration-color: #00af00\">32,896</span> │\n",
       "├─────────────────────────────────┼────────────────────────┼───────────────┤\n",
       "│ dropout_2 (<span style=\"color: #0087ff; text-decoration-color: #0087ff\">Dropout</span>)             │ (<span style=\"color: #00d7ff; text-decoration-color: #00d7ff\">None</span>, <span style=\"color: #00af00; text-decoration-color: #00af00\">128</span>)            │             <span style=\"color: #00af00; text-decoration-color: #00af00\">0</span> │\n",
       "├─────────────────────────────────┼────────────────────────┼───────────────┤\n",
       "│ dense_3 (<span style=\"color: #0087ff; text-decoration-color: #0087ff\">Dense</span>)                 │ (<span style=\"color: #00d7ff; text-decoration-color: #00d7ff\">None</span>, <span style=\"color: #00af00; text-decoration-color: #00af00\">6</span>)              │           <span style=\"color: #00af00; text-decoration-color: #00af00\">774</span> │\n",
       "└─────────────────────────────────┴────────────────────────┴───────────────┘\n",
       "</pre>\n"
      ],
      "text/plain": [
       "┏━━━━━━━━━━━━━━━━━━━━━━━━━━━━━━━━━┳━━━━━━━━━━━━━━━━━━━━━━━━┳━━━━━━━━━━━━━━━┓\n",
       "┃\u001b[1m \u001b[0m\u001b[1mLayer (type)                   \u001b[0m\u001b[1m \u001b[0m┃\u001b[1m \u001b[0m\u001b[1mOutput Shape          \u001b[0m\u001b[1m \u001b[0m┃\u001b[1m \u001b[0m\u001b[1m      Param #\u001b[0m\u001b[1m \u001b[0m┃\n",
       "┡━━━━━━━━━━━━━━━━━━━━━━━━━━━━━━━━━╇━━━━━━━━━━━━━━━━━━━━━━━━╇━━━━━━━━━━━━━━━┩\n",
       "│ dense (\u001b[38;5;33mDense\u001b[0m)                   │ (\u001b[38;5;45mNone\u001b[0m, \u001b[38;5;34m128\u001b[0m)            │         \u001b[38;5;34m2,688\u001b[0m │\n",
       "├─────────────────────────────────┼────────────────────────┼───────────────┤\n",
       "│ dropout (\u001b[38;5;33mDropout\u001b[0m)               │ (\u001b[38;5;45mNone\u001b[0m, \u001b[38;5;34m128\u001b[0m)            │             \u001b[38;5;34m0\u001b[0m │\n",
       "├─────────────────────────────────┼────────────────────────┼───────────────┤\n",
       "│ dense_1 (\u001b[38;5;33mDense\u001b[0m)                 │ (\u001b[38;5;45mNone\u001b[0m, \u001b[38;5;34m256\u001b[0m)            │        \u001b[38;5;34m33,024\u001b[0m │\n",
       "├─────────────────────────────────┼────────────────────────┼───────────────┤\n",
       "│ dropout_1 (\u001b[38;5;33mDropout\u001b[0m)             │ (\u001b[38;5;45mNone\u001b[0m, \u001b[38;5;34m256\u001b[0m)            │             \u001b[38;5;34m0\u001b[0m │\n",
       "├─────────────────────────────────┼────────────────────────┼───────────────┤\n",
       "│ dense_2 (\u001b[38;5;33mDense\u001b[0m)                 │ (\u001b[38;5;45mNone\u001b[0m, \u001b[38;5;34m128\u001b[0m)            │        \u001b[38;5;34m32,896\u001b[0m │\n",
       "├─────────────────────────────────┼────────────────────────┼───────────────┤\n",
       "│ dropout_2 (\u001b[38;5;33mDropout\u001b[0m)             │ (\u001b[38;5;45mNone\u001b[0m, \u001b[38;5;34m128\u001b[0m)            │             \u001b[38;5;34m0\u001b[0m │\n",
       "├─────────────────────────────────┼────────────────────────┼───────────────┤\n",
       "│ dense_3 (\u001b[38;5;33mDense\u001b[0m)                 │ (\u001b[38;5;45mNone\u001b[0m, \u001b[38;5;34m6\u001b[0m)              │           \u001b[38;5;34m774\u001b[0m │\n",
       "└─────────────────────────────────┴────────────────────────┴───────────────┘\n"
      ]
     },
     "metadata": {},
     "output_type": "display_data"
    },
    {
     "data": {
      "text/html": [
       "<pre style=\"white-space:pre;overflow-x:auto;line-height:normal;font-family:Menlo,'DejaVu Sans Mono',consolas,'Courier New',monospace\"><span style=\"font-weight: bold\"> Total params: </span><span style=\"color: #00af00; text-decoration-color: #00af00\">69,382</span> (271.02 KB)\n",
       "</pre>\n"
      ],
      "text/plain": [
       "\u001b[1m Total params: \u001b[0m\u001b[38;5;34m69,382\u001b[0m (271.02 KB)\n"
      ]
     },
     "metadata": {},
     "output_type": "display_data"
    },
    {
     "data": {
      "text/html": [
       "<pre style=\"white-space:pre;overflow-x:auto;line-height:normal;font-family:Menlo,'DejaVu Sans Mono',consolas,'Courier New',monospace\"><span style=\"font-weight: bold\"> Trainable params: </span><span style=\"color: #00af00; text-decoration-color: #00af00\">69,382</span> (271.02 KB)\n",
       "</pre>\n"
      ],
      "text/plain": [
       "\u001b[1m Trainable params: \u001b[0m\u001b[38;5;34m69,382\u001b[0m (271.02 KB)\n"
      ]
     },
     "metadata": {},
     "output_type": "display_data"
    },
    {
     "data": {
      "text/html": [
       "<pre style=\"white-space:pre;overflow-x:auto;line-height:normal;font-family:Menlo,'DejaVu Sans Mono',consolas,'Courier New',monospace\"><span style=\"font-weight: bold\"> Non-trainable params: </span><span style=\"color: #00af00; text-decoration-color: #00af00\">0</span> (0.00 B)\n",
       "</pre>\n"
      ],
      "text/plain": [
       "\u001b[1m Non-trainable params: \u001b[0m\u001b[38;5;34m0\u001b[0m (0.00 B)\n"
      ]
     },
     "metadata": {},
     "output_type": "display_data"
    }
   ],
   "source": [
    "model.summary()"
   ]
  },
  {
   "cell_type": "code",
   "execution_count": 21,
   "metadata": {},
   "outputs": [],
   "source": [
    "optimizer = tf.keras.optimizers.Adam(learning_rate=0.0001)\n",
    "model.compile(optimizer=optimizer, loss='sparse_categorical_crossentropy', metrics=['accuracy']) #compiling model\n"
   ]
  },
  {
   "cell_type": "code",
   "execution_count": 22,
   "metadata": {},
   "outputs": [
    {
     "name": "stdout",
     "output_type": "stream",
     "text": [
      "Epoch 1/10\n",
      "\u001b[1m13750/13750\u001b[0m \u001b[32m━━━━━━━━━━━━━━━━━━━━\u001b[0m\u001b[37m\u001b[0m \u001b[1m21s\u001b[0m 1ms/step - accuracy: 0.8839 - loss: 0.3972 - val_accuracy: 0.9608 - val_loss: 0.1245\n",
      "Epoch 2/10\n",
      "\u001b[1m13750/13750\u001b[0m \u001b[32m━━━━━━━━━━━━━━━━━━━━\u001b[0m\u001b[37m\u001b[0m \u001b[1m20s\u001b[0m 1ms/step - accuracy: 0.9646 - loss: 0.1189 - val_accuracy: 0.9718 - val_loss: 0.1011\n",
      "Epoch 3/10\n",
      "\u001b[1m13750/13750\u001b[0m \u001b[32m━━━━━━━━━━━━━━━━━━━━\u001b[0m\u001b[37m\u001b[0m \u001b[1m20s\u001b[0m 1ms/step - accuracy: 0.9711 - loss: 0.0976 - val_accuracy: 0.9742 - val_loss: 0.0901\n",
      "Epoch 4/10\n",
      "\u001b[1m13750/13750\u001b[0m \u001b[32m━━━━━━━━━━━━━━━━━━━━\u001b[0m\u001b[37m\u001b[0m \u001b[1m21s\u001b[0m 1ms/step - accuracy: 0.9731 - loss: 0.0890 - val_accuracy: 0.9774 - val_loss: 0.0814\n",
      "Epoch 5/10\n",
      "\u001b[1m13750/13750\u001b[0m \u001b[32m━━━━━━━━━━━━━━━━━━━━\u001b[0m\u001b[37m\u001b[0m \u001b[1m20s\u001b[0m 1ms/step - accuracy: 0.9755 - loss: 0.0807 - val_accuracy: 0.9782 - val_loss: 0.0755\n",
      "Epoch 6/10\n",
      "\u001b[1m13750/13750\u001b[0m \u001b[32m━━━━━━━━━━━━━━━━━━━━\u001b[0m\u001b[37m\u001b[0m \u001b[1m21s\u001b[0m 2ms/step - accuracy: 0.9769 - loss: 0.0763 - val_accuracy: 0.9774 - val_loss: 0.0736\n",
      "Epoch 7/10\n",
      "\u001b[1m13750/13750\u001b[0m \u001b[32m━━━━━━━━━━━━━━━━━━━━\u001b[0m\u001b[37m\u001b[0m \u001b[1m21s\u001b[0m 2ms/step - accuracy: 0.9775 - loss: 0.0749 - val_accuracy: 0.9794 - val_loss: 0.0717\n",
      "Epoch 8/10\n",
      "\u001b[1m13750/13750\u001b[0m \u001b[32m━━━━━━━━━━━━━━━━━━━━\u001b[0m\u001b[37m\u001b[0m \u001b[1m21s\u001b[0m 2ms/step - accuracy: 0.9782 - loss: 0.0710 - val_accuracy: 0.9806 - val_loss: 0.0661\n",
      "Epoch 9/10\n",
      "\u001b[1m13750/13750\u001b[0m \u001b[32m━━━━━━━━━━━━━━━━━━━━\u001b[0m\u001b[37m\u001b[0m \u001b[1m21s\u001b[0m 2ms/step - accuracy: 0.9786 - loss: 0.0681 - val_accuracy: 0.9798 - val_loss: 0.0676\n",
      "Epoch 10/10\n",
      "\u001b[1m13750/13750\u001b[0m \u001b[32m━━━━━━━━━━━━━━━━━━━━\u001b[0m\u001b[37m\u001b[0m \u001b[1m21s\u001b[0m 2ms/step - accuracy: 0.9796 - loss: 0.0649 - val_accuracy: 0.9802 - val_loss: 0.0642\n"
     ]
    }
   ],
   "source": [
    "x_val = x_train[:5000]\n",
    "partial_x_train = x_train[5000:]\n",
    "\n",
    "y_val = y_train[:5000]\n",
    "partial_y_train = y_train[5000:]\n",
    "\n",
    "model.fit(partial_x_train,partial_y_train,epochs=10,batch_size=16,validation_data=(x_val,y_val)) #Fitting Model\n",
    "model.save(\"DCNN.keras\") #Saving the model"
   ]
  },
  {
   "cell_type": "code",
   "execution_count": 23,
   "metadata": {},
   "outputs": [
    {
     "name": "stdout",
     "output_type": "stream",
     "text": [
      "Results of Testing\n",
      "\u001b[1m2344/2344\u001b[0m \u001b[32m━━━━━━━━━━━━━━━━━━━━\u001b[0m\u001b[37m\u001b[0m \u001b[1m2s\u001b[0m 1ms/step - accuracy: 0.9806 - loss: 0.0576  \n"
     ]
    },
    {
     "data": {
      "text/plain": [
       "[0.05791729316115379, 0.9809333086013794]"
      ]
     },
     "execution_count": 23,
     "metadata": {},
     "output_type": "execute_result"
    }
   ],
   "source": [
    "print(f\"Results of Testing\") #Testing the model\n",
    "model.evaluate(x_test,y_test)"
   ]
  },
  {
   "cell_type": "code",
   "execution_count": 26,
   "metadata": {},
   "outputs": [
    {
     "name": "stdout",
     "output_type": "stream",
     "text": [
      "Result of Prediction\n",
      "\u001b[1m1/1\u001b[0m \u001b[32m━━━━━━━━━━━━━━━━━━━━\u001b[0m\u001b[37m\u001b[0m \u001b[1m0s\u001b[0m 49ms/step\n",
      "[[6.0003311e-03 3.9960807e-10 5.6738139e-05 5.9939935e-05 1.4934037e-05\n",
      "  9.9386805e-01]\n",
      " [4.8526068e-04 9.9949729e-01 1.7673479e-07 1.6624030e-06 1.5441197e-05\n",
      "  1.6679508e-07]\n",
      " [9.9999988e-01 1.9214634e-12 2.5443024e-12 7.6540587e-08 8.0237674e-09\n",
      "  1.7549844e-11]\n",
      " [5.9115705e-03 3.6490888e-10 5.4471573e-05 5.8319598e-05 1.3706192e-05\n",
      "  9.9396187e-01]\n",
      " [6.0528005e-09 3.2992513e-14 1.0406902e-12 1.0000000e+00 3.1156003e-10\n",
      "  8.1804494e-12]]\n",
      "predictions shape: (5, 6)\n"
     ]
    }
   ],
   "source": [
    "print(f\"Result of Prediction\") #Performing Predictions\n",
    "predictions=model.predict(x=x_test[:5])\n",
    "print(predictions)\n",
    "print(\"predictions shape:\", predictions.shape)"
   ]
  }
 ],
 "metadata": {
  "kernelspec": {
   "display_name": "minorproject",
   "language": "python",
   "name": "python3"
  },
  "language_info": {
   "codemirror_mode": {
    "name": "ipython",
    "version": 3
   },
   "file_extension": ".py",
   "mimetype": "text/x-python",
   "name": "python",
   "nbconvert_exporter": "python",
   "pygments_lexer": "ipython3",
   "version": "3.11.10"
  }
 },
 "nbformat": 4,
 "nbformat_minor": 2
}
