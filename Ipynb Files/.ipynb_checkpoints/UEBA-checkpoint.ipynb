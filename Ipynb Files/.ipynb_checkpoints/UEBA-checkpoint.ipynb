{
 "cells": [
  {
   "cell_type": "markdown",
   "id": "dad0137c-b4be-4009-a7a6-c25afec2b020",
   "metadata": {
    "jp-MarkdownHeadingCollapsed": true
   },
   "source": [
    "# Step-1: Loading Data"
   ]
  },
  {
   "cell_type": "code",
   "execution_count": 1,
   "id": "56c3e5d6-3dbc-452d-9989-d95a40d5a350",
   "metadata": {},
   "outputs": [],
   "source": [
    "import numpy as np #Importing Libraries\n",
    "import pandas as pd\n",
    "import matplotlib.pyplot as plt\n",
    "import os"
   ]
  },
  {
   "cell_type": "code",
   "execution_count": 2,
   "id": "0d04bac5-7154-4f4b-99e3-8e20daa262fc",
   "metadata": {},
   "outputs": [
    {
     "data": {
      "text/html": [
       "<div>\n",
       "<style scoped>\n",
       "    .dataframe tbody tr th:only-of-type {\n",
       "        vertical-align: middle;\n",
       "    }\n",
       "\n",
       "    .dataframe tbody tr th {\n",
       "        vertical-align: top;\n",
       "    }\n",
       "\n",
       "    .dataframe thead th {\n",
       "        text-align: right;\n",
       "    }\n",
       "</style>\n",
       "<table border=\"1\" class=\"dataframe\">\n",
       "  <thead>\n",
       "    <tr style=\"text-align: right;\">\n",
       "      <th></th>\n",
       "      <th>id</th>\n",
       "      <th>account</th>\n",
       "      <th>IP</th>\n",
       "      <th>url</th>\n",
       "      <th>port</th>\n",
       "      <th>vlan</th>\n",
       "      <th>switchIP</th>\n",
       "      <th>time</th>\n",
       "    </tr>\n",
       "  </thead>\n",
       "  <tbody>\n",
       "    <tr>\n",
       "      <th>0</th>\n",
       "      <td>1</td>\n",
       "      <td>xiaojiawei@qq.com</td>\n",
       "      <td>192.168.2.130</td>\n",
       "      <td>http://service.foxmail.com</td>\n",
       "      <td>26616</td>\n",
       "      <td>700</td>\n",
       "      <td>168.8.42.39</td>\n",
       "      <td>2021/6/5 8:31</td>\n",
       "    </tr>\n",
       "    <tr>\n",
       "      <th>1</th>\n",
       "      <td>2</td>\n",
       "      <td>xiaojiawei@qq.com</td>\n",
       "      <td>192.168.12.132</td>\n",
       "      <td>http://101.199.128.175</td>\n",
       "      <td>17175</td>\n",
       "      <td>700</td>\n",
       "      <td>127.51.2.53</td>\n",
       "      <td>2021/6/15 6:05</td>\n",
       "    </tr>\n",
       "    <tr>\n",
       "      <th>2</th>\n",
       "      <td>3</td>\n",
       "      <td>xiaojiawei@qq.com</td>\n",
       "      <td>192.168.10.5</td>\n",
       "      <td>http://news.sohu.com</td>\n",
       "      <td>33385</td>\n",
       "      <td>700</td>\n",
       "      <td>130.2.2.12</td>\n",
       "      <td>2021/5/10 6:42</td>\n",
       "    </tr>\n",
       "    <tr>\n",
       "      <th>3</th>\n",
       "      <td>4</td>\n",
       "      <td>xiaojiawei@qq.com</td>\n",
       "      <td>192.168.8.27</td>\n",
       "      <td>http://www.hostbuf.com</td>\n",
       "      <td>11188</td>\n",
       "      <td>700</td>\n",
       "      <td>121.9.3.251</td>\n",
       "      <td>2021/5/18 7:50</td>\n",
       "    </tr>\n",
       "    <tr>\n",
       "      <th>4</th>\n",
       "      <td>5</td>\n",
       "      <td>xiaojiawei@qq.com</td>\n",
       "      <td>192.168.16.243</td>\n",
       "      <td>http://p2.so.qhimgs1.com</td>\n",
       "      <td>15788</td>\n",
       "      <td>700</td>\n",
       "      <td>168.8.42.39</td>\n",
       "      <td>2021/6/17 8:09</td>\n",
       "    </tr>\n",
       "  </tbody>\n",
       "</table>\n",
       "</div>"
      ],
      "text/plain": [
       "   id            account              IP                         url   port  \\\n",
       "0   1  xiaojiawei@qq.com   192.168.2.130  http://service.foxmail.com  26616   \n",
       "1   2  xiaojiawei@qq.com  192.168.12.132      http://101.199.128.175  17175   \n",
       "2   3  xiaojiawei@qq.com    192.168.10.5        http://news.sohu.com  33385   \n",
       "3   4  xiaojiawei@qq.com    192.168.8.27      http://www.hostbuf.com  11188   \n",
       "4   5  xiaojiawei@qq.com  192.168.16.243    http://p2.so.qhimgs1.com  15788   \n",
       "\n",
       "   vlan     switchIP            time  \n",
       "0   700  168.8.42.39   2021/6/5 8:31  \n",
       "1   700  127.51.2.53  2021/6/15 6:05  \n",
       "2   700   130.2.2.12  2021/5/10 6:42  \n",
       "3   700  121.9.3.251  2021/5/18 7:50  \n",
       "4   700  168.8.42.39  2021/6/17 8:09  "
      ]
     },
     "execution_count": 2,
     "metadata": {},
     "output_type": "execute_result"
    }
   ],
   "source": [
    "currentdir = os.getcwd() #Get current Working Directory\n",
    "currentdir = currentdir[:len(currentdir)-11] # Replacing The Current directory\n",
    "currentdir += \"Datasets/archive/\" #Directory Of Dataset Used\n",
    "file1 = currentdir + \"A_test_data.csv\" #File name\n",
    "df1 = pd.read_csv(file1) #Reading The File\n",
    "df1.head() #Displaying the file"
   ]
  },
  {
   "cell_type": "code",
   "execution_count": 3,
   "id": "7d863fa5-1c37-419d-8faa-3c8c0ebea318",
   "metadata": {},
   "outputs": [
    {
     "data": {
      "text/html": [
       "<div>\n",
       "<style scoped>\n",
       "    .dataframe tbody tr th:only-of-type {\n",
       "        vertical-align: middle;\n",
       "    }\n",
       "\n",
       "    .dataframe tbody tr th {\n",
       "        vertical-align: top;\n",
       "    }\n",
       "\n",
       "    .dataframe thead th {\n",
       "        text-align: right;\n",
       "    }\n",
       "</style>\n",
       "<table border=\"1\" class=\"dataframe\">\n",
       "  <thead>\n",
       "    <tr style=\"text-align: right;\">\n",
       "      <th></th>\n",
       "      <th>id</th>\n",
       "      <th>account</th>\n",
       "      <th>IP</th>\n",
       "      <th>url</th>\n",
       "      <th>port</th>\n",
       "      <th>vlan</th>\n",
       "      <th>switchIP</th>\n",
       "      <th>time</th>\n",
       "      <th>ret</th>\n",
       "    </tr>\n",
       "  </thead>\n",
       "  <tbody>\n",
       "    <tr>\n",
       "      <th>0</th>\n",
       "      <td>1</td>\n",
       "      <td>xiaojiawei@qq.com</td>\n",
       "      <td>192.168.1.50</td>\n",
       "      <td>http://123.6.4.41</td>\n",
       "      <td>15788</td>\n",
       "      <td>700</td>\n",
       "      <td>129.30.06.37</td>\n",
       "      <td>2021/6/16 7:56</td>\n",
       "      <td>0.1149</td>\n",
       "    </tr>\n",
       "    <tr>\n",
       "      <th>1</th>\n",
       "      <td>2</td>\n",
       "      <td>xiaojiawei@qq.com</td>\n",
       "      <td>192.168.31.46</td>\n",
       "      <td>http://104.192.108.154</td>\n",
       "      <td>12665</td>\n",
       "      <td>700</td>\n",
       "      <td>152.91.89.45</td>\n",
       "      <td>2021/6/28 7:58</td>\n",
       "      <td>0.1801</td>\n",
       "    </tr>\n",
       "    <tr>\n",
       "      <th>2</th>\n",
       "      <td>3</td>\n",
       "      <td>xiaojiawei@qq.com</td>\n",
       "      <td>192.168.2.3</td>\n",
       "      <td>http://42.236.37.80</td>\n",
       "      <td>25551</td>\n",
       "      <td>700</td>\n",
       "      <td>129.30.06.37</td>\n",
       "      <td>2021/6/1 6:37</td>\n",
       "      <td>0.3690</td>\n",
       "    </tr>\n",
       "    <tr>\n",
       "      <th>3</th>\n",
       "      <td>4</td>\n",
       "      <td>xiaojiawei@qq.com</td>\n",
       "      <td>192.168.145.30</td>\n",
       "      <td>http://uf-api6-client.ksord.com</td>\n",
       "      <td>18274</td>\n",
       "      <td>700</td>\n",
       "      <td>162.6.8.29</td>\n",
       "      <td>2021/5/5 8:18</td>\n",
       "      <td>0.1532</td>\n",
       "    </tr>\n",
       "    <tr>\n",
       "      <th>4</th>\n",
       "      <td>5</td>\n",
       "      <td>xiaojiawei@qq.com</td>\n",
       "      <td>192.168.178.92</td>\n",
       "      <td>http://101.199.128.170</td>\n",
       "      <td>34572</td>\n",
       "      <td>700</td>\n",
       "      <td>162.0.1.84</td>\n",
       "      <td>2021/6/20 6:52</td>\n",
       "      <td>0.1449</td>\n",
       "    </tr>\n",
       "  </tbody>\n",
       "</table>\n",
       "</div>"
      ],
      "text/plain": [
       "   id            account              IP                              url  \\\n",
       "0   1  xiaojiawei@qq.com    192.168.1.50                http://123.6.4.41   \n",
       "1   2  xiaojiawei@qq.com   192.168.31.46           http://104.192.108.154   \n",
       "2   3  xiaojiawei@qq.com     192.168.2.3              http://42.236.37.80   \n",
       "3   4  xiaojiawei@qq.com  192.168.145.30  http://uf-api6-client.ksord.com   \n",
       "4   5  xiaojiawei@qq.com  192.168.178.92           http://101.199.128.170   \n",
       "\n",
       "    port  vlan      switchIP            time     ret  \n",
       "0  15788   700  129.30.06.37  2021/6/16 7:56  0.1149  \n",
       "1  12665   700  152.91.89.45  2021/6/28 7:58  0.1801  \n",
       "2  25551   700  129.30.06.37   2021/6/1 6:37  0.3690  \n",
       "3  18274   700    162.6.8.29   2021/5/5 8:18  0.1532  \n",
       "4  34572   700    162.0.1.84  2021/6/20 6:52  0.1449  "
      ]
     },
     "execution_count": 3,
     "metadata": {},
     "output_type": "execute_result"
    }
   ],
   "source": [
    "file2 = currentdir + \"train_data.csv\" #File name\n",
    "df2 = pd.read_csv(file2) #Reading The File\n",
    "df2.head() #Displaying the file"
   ]
  },
  {
   "cell_type": "markdown",
   "id": "8af93253-dfd5-421e-ac50-2e1d8fb11caf",
   "metadata": {
    "jp-MarkdownHeadingCollapsed": true
   },
   "source": [
    "# Step-2: Gathering Info about data"
   ]
  },
  {
   "cell_type": "code",
   "execution_count": 4,
   "id": "cecd5b95-c3cc-4cff-99a0-068c4e804029",
   "metadata": {},
   "outputs": [
    {
     "name": "stdout",
     "output_type": "stream",
     "text": [
      "<class 'pandas.core.frame.DataFrame'>\n",
      "RangeIndex: 211403 entries, 0 to 211402\n",
      "Data columns (total 8 columns):\n",
      " #   Column    Non-Null Count   Dtype \n",
      "---  ------    --------------   ----- \n",
      " 0   id        211403 non-null  int64 \n",
      " 1   account   211403 non-null  object\n",
      " 2   IP        211403 non-null  object\n",
      " 3   url       211403 non-null  object\n",
      " 4   port      211403 non-null  int64 \n",
      " 5   vlan      211403 non-null  int64 \n",
      " 6   switchIP  211403 non-null  object\n",
      " 7   time      211403 non-null  object\n",
      "dtypes: int64(3), object(5)\n",
      "memory usage: 12.9+ MB\n"
     ]
    }
   ],
   "source": [
    "df1.info()"
   ]
  },
  {
   "cell_type": "code",
   "execution_count": 5,
   "id": "a14fef94-903a-4187-9cf7-059d80a33cc4",
   "metadata": {},
   "outputs": [
    {
     "data": {
      "text/html": [
       "<div>\n",
       "<style scoped>\n",
       "    .dataframe tbody tr th:only-of-type {\n",
       "        vertical-align: middle;\n",
       "    }\n",
       "\n",
       "    .dataframe tbody tr th {\n",
       "        vertical-align: top;\n",
       "    }\n",
       "\n",
       "    .dataframe thead th {\n",
       "        text-align: right;\n",
       "    }\n",
       "</style>\n",
       "<table border=\"1\" class=\"dataframe\">\n",
       "  <thead>\n",
       "    <tr style=\"text-align: right;\">\n",
       "      <th></th>\n",
       "      <th>id</th>\n",
       "      <th>port</th>\n",
       "      <th>vlan</th>\n",
       "    </tr>\n",
       "  </thead>\n",
       "  <tbody>\n",
       "    <tr>\n",
       "      <th>count</th>\n",
       "      <td>211403.000000</td>\n",
       "      <td>211403.000000</td>\n",
       "      <td>211403.000000</td>\n",
       "    </tr>\n",
       "    <tr>\n",
       "      <th>mean</th>\n",
       "      <td>105702.000000</td>\n",
       "      <td>25217.220096</td>\n",
       "      <td>1152.530002</td>\n",
       "    </tr>\n",
       "    <tr>\n",
       "      <th>std</th>\n",
       "      <td>61026.933816</td>\n",
       "      <td>8541.393071</td>\n",
       "      <td>438.956840</td>\n",
       "    </tr>\n",
       "    <tr>\n",
       "      <th>min</th>\n",
       "      <td>1.000000</td>\n",
       "      <td>11122.000000</td>\n",
       "      <td>700.000000</td>\n",
       "    </tr>\n",
       "    <tr>\n",
       "      <th>25%</th>\n",
       "      <td>52851.500000</td>\n",
       "      <td>16863.000000</td>\n",
       "      <td>900.000000</td>\n",
       "    </tr>\n",
       "    <tr>\n",
       "      <th>50%</th>\n",
       "      <td>105702.000000</td>\n",
       "      <td>25218.000000</td>\n",
       "      <td>1000.000000</td>\n",
       "    </tr>\n",
       "    <tr>\n",
       "      <th>75%</th>\n",
       "      <td>158552.500000</td>\n",
       "      <td>33455.000000</td>\n",
       "      <td>1200.000000</td>\n",
       "    </tr>\n",
       "    <tr>\n",
       "      <th>max</th>\n",
       "      <td>211403.000000</td>\n",
       "      <td>38867.000000</td>\n",
       "      <td>2000.000000</td>\n",
       "    </tr>\n",
       "  </tbody>\n",
       "</table>\n",
       "</div>"
      ],
      "text/plain": [
       "                  id           port           vlan\n",
       "count  211403.000000  211403.000000  211403.000000\n",
       "mean   105702.000000   25217.220096    1152.530002\n",
       "std     61026.933816    8541.393071     438.956840\n",
       "min         1.000000   11122.000000     700.000000\n",
       "25%     52851.500000   16863.000000     900.000000\n",
       "50%    105702.000000   25218.000000    1000.000000\n",
       "75%    158552.500000   33455.000000    1200.000000\n",
       "max    211403.000000   38867.000000    2000.000000"
      ]
     },
     "execution_count": 5,
     "metadata": {},
     "output_type": "execute_result"
    }
   ],
   "source": [
    "df1.describe()"
   ]
  },
  {
   "cell_type": "code",
   "execution_count": 6,
   "id": "b32b72b7-5414-453f-96d7-aedda7a3a2b3",
   "metadata": {},
   "outputs": [
    {
     "data": {
      "text/plain": [
       "id          0\n",
       "account     0\n",
       "IP          0\n",
       "url         0\n",
       "port        0\n",
       "vlan        0\n",
       "switchIP    0\n",
       "time        0\n",
       "dtype: int64"
      ]
     },
     "execution_count": 6,
     "metadata": {},
     "output_type": "execute_result"
    }
   ],
   "source": [
    "df1.isnull().sum()"
   ]
  },
  {
   "cell_type": "code",
   "execution_count": 7,
   "id": "740b74e2-7632-4429-9eb1-eb3543bca1dd",
   "metadata": {},
   "outputs": [
    {
     "name": "stdout",
     "output_type": "stream",
     "text": [
      "<class 'pandas.core.frame.DataFrame'>\n",
      "RangeIndex: 528690 entries, 0 to 528689\n",
      "Data columns (total 9 columns):\n",
      " #   Column    Non-Null Count   Dtype  \n",
      "---  ------    --------------   -----  \n",
      " 0   id        528690 non-null  int64  \n",
      " 1   account   528690 non-null  object \n",
      " 2   IP        528690 non-null  object \n",
      " 3   url       528690 non-null  object \n",
      " 4   port      528690 non-null  int64  \n",
      " 5   vlan      528690 non-null  int64  \n",
      " 6   switchIP  528690 non-null  object \n",
      " 7   time      528690 non-null  object \n",
      " 8   ret       528690 non-null  float64\n",
      "dtypes: float64(1), int64(3), object(5)\n",
      "memory usage: 36.3+ MB\n"
     ]
    }
   ],
   "source": [
    "df2.info()"
   ]
  },
  {
   "cell_type": "code",
   "execution_count": 8,
   "id": "7e9315c6-ad21-4236-8e83-f35c361ce69c",
   "metadata": {},
   "outputs": [
    {
     "data": {
      "text/html": [
       "<div>\n",
       "<style scoped>\n",
       "    .dataframe tbody tr th:only-of-type {\n",
       "        vertical-align: middle;\n",
       "    }\n",
       "\n",
       "    .dataframe tbody tr th {\n",
       "        vertical-align: top;\n",
       "    }\n",
       "\n",
       "    .dataframe thead th {\n",
       "        text-align: right;\n",
       "    }\n",
       "</style>\n",
       "<table border=\"1\" class=\"dataframe\">\n",
       "  <thead>\n",
       "    <tr style=\"text-align: right;\">\n",
       "      <th></th>\n",
       "      <th>id</th>\n",
       "      <th>port</th>\n",
       "      <th>vlan</th>\n",
       "      <th>ret</th>\n",
       "    </tr>\n",
       "  </thead>\n",
       "  <tbody>\n",
       "    <tr>\n",
       "      <th>count</th>\n",
       "      <td>528690.000000</td>\n",
       "      <td>528690.000000</td>\n",
       "      <td>528690.000000</td>\n",
       "      <td>528690.000000</td>\n",
       "    </tr>\n",
       "    <tr>\n",
       "      <th>mean</th>\n",
       "      <td>264345.500000</td>\n",
       "      <td>25241.669929</td>\n",
       "      <td>1152.486902</td>\n",
       "      <td>0.257757</td>\n",
       "    </tr>\n",
       "    <tr>\n",
       "      <th>std</th>\n",
       "      <td>152619.801246</td>\n",
       "      <td>8543.017235</td>\n",
       "      <td>438.932786</td>\n",
       "      <td>0.219326</td>\n",
       "    </tr>\n",
       "    <tr>\n",
       "      <th>min</th>\n",
       "      <td>1.000000</td>\n",
       "      <td>11122.000000</td>\n",
       "      <td>700.000000</td>\n",
       "      <td>0.000100</td>\n",
       "    </tr>\n",
       "    <tr>\n",
       "      <th>25%</th>\n",
       "      <td>132173.250000</td>\n",
       "      <td>16865.000000</td>\n",
       "      <td>900.000000</td>\n",
       "      <td>0.078500</td>\n",
       "    </tr>\n",
       "    <tr>\n",
       "      <th>50%</th>\n",
       "      <td>264345.500000</td>\n",
       "      <td>25278.000000</td>\n",
       "      <td>1000.000000</td>\n",
       "      <td>0.208000</td>\n",
       "    </tr>\n",
       "    <tr>\n",
       "      <th>75%</th>\n",
       "      <td>396517.750000</td>\n",
       "      <td>33474.000000</td>\n",
       "      <td>1200.000000</td>\n",
       "      <td>0.377400</td>\n",
       "    </tr>\n",
       "    <tr>\n",
       "      <th>max</th>\n",
       "      <td>528690.000000</td>\n",
       "      <td>38867.000000</td>\n",
       "      <td>2000.000000</td>\n",
       "      <td>1.000000</td>\n",
       "    </tr>\n",
       "  </tbody>\n",
       "</table>\n",
       "</div>"
      ],
      "text/plain": [
       "                  id           port           vlan            ret\n",
       "count  528690.000000  528690.000000  528690.000000  528690.000000\n",
       "mean   264345.500000   25241.669929    1152.486902       0.257757\n",
       "std    152619.801246    8543.017235     438.932786       0.219326\n",
       "min         1.000000   11122.000000     700.000000       0.000100\n",
       "25%    132173.250000   16865.000000     900.000000       0.078500\n",
       "50%    264345.500000   25278.000000    1000.000000       0.208000\n",
       "75%    396517.750000   33474.000000    1200.000000       0.377400\n",
       "max    528690.000000   38867.000000    2000.000000       1.000000"
      ]
     },
     "execution_count": 8,
     "metadata": {},
     "output_type": "execute_result"
    }
   ],
   "source": [
    "df2.describe()"
   ]
  },
  {
   "cell_type": "code",
   "execution_count": 9,
   "id": "dd33d9cd-5d93-481e-8ab8-ad46f86370b5",
   "metadata": {},
   "outputs": [
    {
     "data": {
      "text/plain": [
       "id          0\n",
       "account     0\n",
       "IP          0\n",
       "url         0\n",
       "port        0\n",
       "vlan        0\n",
       "switchIP    0\n",
       "time        0\n",
       "ret         0\n",
       "dtype: int64"
      ]
     },
     "execution_count": 9,
     "metadata": {},
     "output_type": "execute_result"
    }
   ],
   "source": [
    "df2.isnull().sum()"
   ]
  },
  {
   "cell_type": "markdown",
   "id": "b32694b0-47d3-43ae-8ecc-a9e744a3b662",
   "metadata": {
    "jp-MarkdownHeadingCollapsed": true
   },
   "source": [
    "# Step-3: Preprocessing"
   ]
  },
  {
   "cell_type": "code",
   "execution_count": 10,
   "id": "a2eebfbf-dc98-4fe9-8dff-e7a3e2af7ca6",
   "metadata": {},
   "outputs": [],
   "source": [
    "from datetime import datetime #Converting Object in time column into a Unix Time stamp\n",
    "def conv_to_timestamp(date_string):\n",
    "    date_object= datetime.strptime(date_string, \"%Y/%m/%d %H:%M\")\n",
    "    return int(date_object.timestamp())\n",
    "\n",
    "df1['time'] = df1['time'].apply(conv_to_timestamp)\n",
    "df2['time'] = df2['time'].apply(conv_to_timestamp)  "
   ]
  },
  {
   "cell_type": "code",
   "execution_count": 11,
   "id": "b10230c9-6b79-40d0-b8d5-e845f2d6154a",
   "metadata": {},
   "outputs": [
    {
     "data": {
      "text/html": [
       "<div>\n",
       "<style scoped>\n",
       "    .dataframe tbody tr th:only-of-type {\n",
       "        vertical-align: middle;\n",
       "    }\n",
       "\n",
       "    .dataframe tbody tr th {\n",
       "        vertical-align: top;\n",
       "    }\n",
       "\n",
       "    .dataframe thead th {\n",
       "        text-align: right;\n",
       "    }\n",
       "</style>\n",
       "<table border=\"1\" class=\"dataframe\">\n",
       "  <thead>\n",
       "    <tr style=\"text-align: right;\">\n",
       "      <th></th>\n",
       "      <th>id</th>\n",
       "      <th>account</th>\n",
       "      <th>IP</th>\n",
       "      <th>url</th>\n",
       "      <th>port</th>\n",
       "      <th>vlan</th>\n",
       "      <th>switchIP</th>\n",
       "      <th>time</th>\n",
       "    </tr>\n",
       "  </thead>\n",
       "  <tbody>\n",
       "    <tr>\n",
       "      <th>0</th>\n",
       "      <td>1</td>\n",
       "      <td>xiaojiawei@qq.com</td>\n",
       "      <td>192.168.2.130</td>\n",
       "      <td>http://service.foxmail.com</td>\n",
       "      <td>26616</td>\n",
       "      <td>700</td>\n",
       "      <td>168.8.42.39</td>\n",
       "      <td>1622862060</td>\n",
       "    </tr>\n",
       "    <tr>\n",
       "      <th>1</th>\n",
       "      <td>2</td>\n",
       "      <td>xiaojiawei@qq.com</td>\n",
       "      <td>192.168.12.132</td>\n",
       "      <td>http://101.199.128.175</td>\n",
       "      <td>17175</td>\n",
       "      <td>700</td>\n",
       "      <td>127.51.2.53</td>\n",
       "      <td>1623717300</td>\n",
       "    </tr>\n",
       "    <tr>\n",
       "      <th>2</th>\n",
       "      <td>3</td>\n",
       "      <td>xiaojiawei@qq.com</td>\n",
       "      <td>192.168.10.5</td>\n",
       "      <td>http://news.sohu.com</td>\n",
       "      <td>33385</td>\n",
       "      <td>700</td>\n",
       "      <td>130.2.2.12</td>\n",
       "      <td>1620609120</td>\n",
       "    </tr>\n",
       "    <tr>\n",
       "      <th>3</th>\n",
       "      <td>4</td>\n",
       "      <td>xiaojiawei@qq.com</td>\n",
       "      <td>192.168.8.27</td>\n",
       "      <td>http://www.hostbuf.com</td>\n",
       "      <td>11188</td>\n",
       "      <td>700</td>\n",
       "      <td>121.9.3.251</td>\n",
       "      <td>1621304400</td>\n",
       "    </tr>\n",
       "    <tr>\n",
       "      <th>4</th>\n",
       "      <td>5</td>\n",
       "      <td>xiaojiawei@qq.com</td>\n",
       "      <td>192.168.16.243</td>\n",
       "      <td>http://p2.so.qhimgs1.com</td>\n",
       "      <td>15788</td>\n",
       "      <td>700</td>\n",
       "      <td>168.8.42.39</td>\n",
       "      <td>1623897540</td>\n",
       "    </tr>\n",
       "  </tbody>\n",
       "</table>\n",
       "</div>"
      ],
      "text/plain": [
       "   id            account              IP                         url   port  \\\n",
       "0   1  xiaojiawei@qq.com   192.168.2.130  http://service.foxmail.com  26616   \n",
       "1   2  xiaojiawei@qq.com  192.168.12.132      http://101.199.128.175  17175   \n",
       "2   3  xiaojiawei@qq.com    192.168.10.5        http://news.sohu.com  33385   \n",
       "3   4  xiaojiawei@qq.com    192.168.8.27      http://www.hostbuf.com  11188   \n",
       "4   5  xiaojiawei@qq.com  192.168.16.243    http://p2.so.qhimgs1.com  15788   \n",
       "\n",
       "   vlan     switchIP        time  \n",
       "0   700  168.8.42.39  1622862060  \n",
       "1   700  127.51.2.53  1623717300  \n",
       "2   700   130.2.2.12  1620609120  \n",
       "3   700  121.9.3.251  1621304400  \n",
       "4   700  168.8.42.39  1623897540  "
      ]
     },
     "execution_count": 11,
     "metadata": {},
     "output_type": "execute_result"
    }
   ],
   "source": [
    "df1.head()"
   ]
  },
  {
   "cell_type": "code",
   "execution_count": 12,
   "id": "0d620570-13ea-4ef2-a3e4-987b0f262c26",
   "metadata": {},
   "outputs": [
    {
     "data": {
      "text/html": [
       "<div>\n",
       "<style scoped>\n",
       "    .dataframe tbody tr th:only-of-type {\n",
       "        vertical-align: middle;\n",
       "    }\n",
       "\n",
       "    .dataframe tbody tr th {\n",
       "        vertical-align: top;\n",
       "    }\n",
       "\n",
       "    .dataframe thead th {\n",
       "        text-align: right;\n",
       "    }\n",
       "</style>\n",
       "<table border=\"1\" class=\"dataframe\">\n",
       "  <thead>\n",
       "    <tr style=\"text-align: right;\">\n",
       "      <th></th>\n",
       "      <th>id</th>\n",
       "      <th>account</th>\n",
       "      <th>IP</th>\n",
       "      <th>url</th>\n",
       "      <th>port</th>\n",
       "      <th>vlan</th>\n",
       "      <th>switchIP</th>\n",
       "      <th>time</th>\n",
       "      <th>ret</th>\n",
       "    </tr>\n",
       "  </thead>\n",
       "  <tbody>\n",
       "    <tr>\n",
       "      <th>0</th>\n",
       "      <td>1</td>\n",
       "      <td>xiaojiawei@qq.com</td>\n",
       "      <td>192.168.1.50</td>\n",
       "      <td>http://123.6.4.41</td>\n",
       "      <td>15788</td>\n",
       "      <td>700</td>\n",
       "      <td>129.30.06.37</td>\n",
       "      <td>1623810360</td>\n",
       "      <td>0.1149</td>\n",
       "    </tr>\n",
       "    <tr>\n",
       "      <th>1</th>\n",
       "      <td>2</td>\n",
       "      <td>xiaojiawei@qq.com</td>\n",
       "      <td>192.168.31.46</td>\n",
       "      <td>http://104.192.108.154</td>\n",
       "      <td>12665</td>\n",
       "      <td>700</td>\n",
       "      <td>152.91.89.45</td>\n",
       "      <td>1624847280</td>\n",
       "      <td>0.1801</td>\n",
       "    </tr>\n",
       "    <tr>\n",
       "      <th>2</th>\n",
       "      <td>3</td>\n",
       "      <td>xiaojiawei@qq.com</td>\n",
       "      <td>192.168.2.3</td>\n",
       "      <td>http://42.236.37.80</td>\n",
       "      <td>25551</td>\n",
       "      <td>700</td>\n",
       "      <td>129.30.06.37</td>\n",
       "      <td>1622509620</td>\n",
       "      <td>0.3690</td>\n",
       "    </tr>\n",
       "    <tr>\n",
       "      <th>3</th>\n",
       "      <td>4</td>\n",
       "      <td>xiaojiawei@qq.com</td>\n",
       "      <td>192.168.145.30</td>\n",
       "      <td>http://uf-api6-client.ksord.com</td>\n",
       "      <td>18274</td>\n",
       "      <td>700</td>\n",
       "      <td>162.6.8.29</td>\n",
       "      <td>1620182880</td>\n",
       "      <td>0.1532</td>\n",
       "    </tr>\n",
       "    <tr>\n",
       "      <th>4</th>\n",
       "      <td>5</td>\n",
       "      <td>xiaojiawei@qq.com</td>\n",
       "      <td>192.168.178.92</td>\n",
       "      <td>http://101.199.128.170</td>\n",
       "      <td>34572</td>\n",
       "      <td>700</td>\n",
       "      <td>162.0.1.84</td>\n",
       "      <td>1624152120</td>\n",
       "      <td>0.1449</td>\n",
       "    </tr>\n",
       "  </tbody>\n",
       "</table>\n",
       "</div>"
      ],
      "text/plain": [
       "   id            account              IP                              url  \\\n",
       "0   1  xiaojiawei@qq.com    192.168.1.50                http://123.6.4.41   \n",
       "1   2  xiaojiawei@qq.com   192.168.31.46           http://104.192.108.154   \n",
       "2   3  xiaojiawei@qq.com     192.168.2.3              http://42.236.37.80   \n",
       "3   4  xiaojiawei@qq.com  192.168.145.30  http://uf-api6-client.ksord.com   \n",
       "4   5  xiaojiawei@qq.com  192.168.178.92           http://101.199.128.170   \n",
       "\n",
       "    port  vlan      switchIP        time     ret  \n",
       "0  15788   700  129.30.06.37  1623810360  0.1149  \n",
       "1  12665   700  152.91.89.45  1624847280  0.1801  \n",
       "2  25551   700  129.30.06.37  1622509620  0.3690  \n",
       "3  18274   700    162.6.8.29  1620182880  0.1532  \n",
       "4  34572   700    162.0.1.84  1624152120  0.1449  "
      ]
     },
     "execution_count": 12,
     "metadata": {},
     "output_type": "execute_result"
    }
   ],
   "source": [
    "df2.head()"
   ]
  },
  {
   "cell_type": "code",
   "execution_count": 13,
   "id": "492175e5-f252-4ac3-8dec-7c3b75163700",
   "metadata": {},
   "outputs": [],
   "source": [
    "from sklearn.preprocessing import LabelEncoder, OneHotEncoder\n",
    "le = LabelEncoder()\n",
    "\n",
    "df1['IP'] = le.fit_transform(df1['IP']) #Applying Label Encoder on account\n",
    "df2['IP'] = le.fit_transform(df2['IP'])\n",
    "\n",
    "df1['account'] = le.fit_transform(df1['account']) #Applying Label Encoder on account\n",
    "df2['account'] = le.fit_transform(df2['account'])\n",
    "\n",
    "df1['url'] = le.fit_transform(df1['url']) #Applying Label Encoder on url\n",
    "df2['url'] = le.fit_transform(df2['url']) \n"
   ]
  },
  {
   "cell_type": "code",
   "execution_count": 14,
   "id": "cfd492ef-3089-4c1a-af7c-03b3faf3883c",
   "metadata": {},
   "outputs": [
    {
     "data": {
      "text/plain": [
       "'df1.head() '"
      ]
     },
     "execution_count": 14,
     "metadata": {},
     "output_type": "execute_result"
    }
   ],
   "source": [
    "\"\"\"df1.head() \"\"\""
   ]
  },
  {
   "cell_type": "code",
   "execution_count": 15,
   "id": "d4015abe-9d98-4b2d-ac78-706021e95c0f",
   "metadata": {},
   "outputs": [
    {
     "data": {
      "text/plain": [
       "'df2.head()'"
      ]
     },
     "execution_count": 15,
     "metadata": {},
     "output_type": "execute_result"
    }
   ],
   "source": [
    "\"\"\"df2.head()\"\"\""
   ]
  },
  {
   "cell_type": "code",
   "execution_count": 16,
   "id": "41ce94a1-d865-4dea-91d1-e636e045f37f",
   "metadata": {},
   "outputs": [
    {
     "data": {
      "text/plain": [
       "\"ohe = OneHotEncoder(sparse_output = False)\\n# Combine unique URLs from both datasets\\nall_urls = pd.concat([df1['url'], df2['url']]).unique()\\nohe.fit(all_urls.reshape(-1, 1))\\n\\n# Transform each dataset\\nurl_encoded_1 = ohe.transform(df1[['url']])\\nurl_encoded_2 = ohe.transform(df2[['url']])\\n\\n# Create DataFrames with correct feature names\\nfeature_names = ohe.get_feature_names_out(['url'])\\nurl_encoded_df_1 = pd.DataFrame(url_encoded_1, columns=feature_names)\\nurl_encoded_df_2 = pd.DataFrame(url_encoded_2, columns=feature_names)\\n\\n# Concatenate with original dataframes\\ndf_encoded_1 = pd.concat([df1.drop('url', axis=1), url_encoded_df_1], axis=1)\\ndf_encoded_2 = pd.concat([df2.drop('url', axis=1), url_encoded_df_2], axis=1)\""
      ]
     },
     "execution_count": 16,
     "metadata": {},
     "output_type": "execute_result"
    }
   ],
   "source": [
    "\"\"\"ohe = OneHotEncoder(sparse_output = False)\n",
    "# Combine unique URLs from both datasets\n",
    "all_urls = pd.concat([df1['url'], df2['url']]).unique()\n",
    "ohe.fit(all_urls.reshape(-1, 1))\n",
    "\n",
    "# Transform each dataset\n",
    "url_encoded_1 = ohe.transform(df1[['url']])\n",
    "url_encoded_2 = ohe.transform(df2[['url']])\n",
    "\n",
    "# Create DataFrames with correct feature names\n",
    "feature_names = ohe.get_feature_names_out(['url'])\n",
    "url_encoded_df_1 = pd.DataFrame(url_encoded_1, columns=feature_names)\n",
    "url_encoded_df_2 = pd.DataFrame(url_encoded_2, columns=feature_names)\n",
    "\n",
    "# Concatenate with original dataframes\n",
    "df_encoded_1 = pd.concat([df1.drop('url', axis=1), url_encoded_df_1], axis=1)\n",
    "df_encoded_2 = pd.concat([df2.drop('url', axis=1), url_encoded_df_2], axis=1)\"\"\""
   ]
  },
  {
   "cell_type": "code",
   "execution_count": 17,
   "id": "37c19305-787a-4f12-8c05-8cba3306cebf",
   "metadata": {},
   "outputs": [
    {
     "data": {
      "text/plain": [
       "'df_encoded_1.head()'"
      ]
     },
     "execution_count": 17,
     "metadata": {},
     "output_type": "execute_result"
    }
   ],
   "source": [
    "\"\"\"df_encoded_1.head()\"\"\""
   ]
  },
  {
   "cell_type": "markdown",
   "id": "e560bc85-8023-4e15-ac54-968a51ecee17",
   "metadata": {},
   "source": [
    "# Step-4 Applying Techniques"
   ]
  },
  {
   "cell_type": "code",
   "execution_count": 18,
   "id": "0def24ee-1193-4391-85b1-fa490e2d9c08",
   "metadata": {},
   "outputs": [],
   "source": [
    "from sklearn.ensemble import IsolationForest #Using Isolation Forest\n",
    "isf = IsolationForest(contamination=0.03, random_state=42)\n",
    "\n",
    "features_train = ['account','port','IP','vlan','time','url'] #Selecting training features\n",
    "X_train = df2[features_train]\n",
    "\n",
    "features_test = ['account','port','IP','vlan','time','url']\n",
    "X_test = df1[features_test]\n",
    "\n",
    "isf.fit(X_train) #Fitting the model with training data\n",
    "predictions = isf.predict(X_test)\n",
    "anomaly_scores = isf.decision_function(X_test)"
   ]
  },
  {
   "cell_type": "code",
   "execution_count": 19,
   "id": "6d5296bb-aceb-4130-968e-787acdab0ccd",
   "metadata": {},
   "outputs": [
    {
     "data": {
      "text/plain": [
       "array([1, 1, 1, ..., 1, 1, 1])"
      ]
     },
     "execution_count": 19,
     "metadata": {},
     "output_type": "execute_result"
    }
   ],
   "source": [
    "predictions"
   ]
  },
  {
   "cell_type": "code",
   "execution_count": 20,
   "id": "964da561-7a48-413e-b376-af731d636675",
   "metadata": {},
   "outputs": [
    {
     "data": {
      "text/plain": [
       "array([0.0945622 , 0.04989637, 0.08792555, ..., 0.09792451, 0.07507491,\n",
       "       0.057748  ])"
      ]
     },
     "execution_count": 20,
     "metadata": {},
     "output_type": "execute_result"
    }
   ],
   "source": [
    "anomaly_scores"
   ]
  },
  {
   "cell_type": "markdown",
   "id": "63987607-a470-495d-8b7b-0d60ce11a4ed",
   "metadata": {},
   "source": [
    "# Step-5: Visualization"
   ]
  },
  {
   "cell_type": "code",
   "execution_count": 21,
   "id": "27549573-25d9-4a51-87d9-030d1b19fe2d",
   "metadata": {},
   "outputs": [
    {
     "data": {
      "text/plain": [
       "<matplotlib.legend.Legend at 0x7f14f30356d0>"
      ]
     },
     "execution_count": 21,
     "metadata": {},
     "output_type": "execute_result"
    },
    {
     "data": {
      "image/png": "[encoded data removed]",
      "text/plain": [
       "<Figure size 1000x600 with 1 Axes>"
      ]
     },
     "metadata": {},
     "output_type": "display_data"
    }
   ],
   "source": [
    "plt.figure(figsize=(10, 6))\n",
    "plt.hist(anomaly_scores, bins=50, edgecolor='k')\n",
    "plt.axvline(0, color='r', linestyle='--', label='Decision Boundary')\n",
    "plt.xlabel('Anomaly Score')\n",
    "plt.ylabel('Frequency')\n",
    "plt.title('Distribution of Anomaly Scores')\n",
    "plt.legend()\n"
   ]
  },
  {
   "cell_type": "code",
   "execution_count": null,
   "id": "9aec38f3-6a60-4ea7-976f-066f1e01aab7",
   "metadata": {},
   "outputs": [],
   "source": []
  }
 ],
 "metadata": {
  "kernelspec": {
   "display_name": "Python minorproject",
   "language": "python",
   "name": "minorproject"
  },
  "language_info": {
   "codemirror_mode": {
    "name": "ipython",
    "version": 3
   },
   "file_extension": ".py",
   "mimetype": "text/x-python",
   "name": "python",
   "nbconvert_exporter": "python",
   "pygments_lexer": "ipython3",
   "version": "3.11.10"
  }
 },
 "nbformat": 4,
 "nbformat_minor": 5
}
